{
 "cells": [
  {
   "cell_type": "code",
   "execution_count": 1,
   "id": "76ba3e61-76df-43d7-ba5a-01fb4cfb8af1",
   "metadata": {},
   "outputs": [],
   "source": [
    "#years = list(range(1989, 2023))"
   ]
  },
  {
   "cell_type": "code",
   "execution_count": 40,
   "id": "81bcb45c-a202-413d-aba0-738da3f448b9",
   "metadata": {},
   "outputs": [],
   "source": [
    "#url_start = \"https://www.basketball-reference.com/draft/NBA_{}.html\""
   ]
  },
  {
   "cell_type": "code",
   "execution_count": 24,
   "id": "a590c891-9610-4ea5-9f64-3d6220dc5f04",
   "metadata": {},
   "outputs": [],
   "source": [
    "#import requests"
   ]
  },
  {
   "cell_type": "code",
   "execution_count": 42,
   "id": "f50c929c-f6b5-479e-ad54-57a70ba6f249",
   "metadata": {},
   "outputs": [],
   "source": [
    "\n",
    "#for year in years:\n",
    "#    url = url_start.format(year)\n",
    "#    data = requests.get(url)\n",
    "    \n",
    "#    with open(\"draft/{}.html\".format(year), \"w+\") as f:\n",
    "#        f.write(data.text)"
   ]
  },
  {
   "cell_type": "code",
   "execution_count": 1,
   "id": "0b418d0f-5132-4c4a-9e1b-232a0e531685",
   "metadata": {},
   "outputs": [],
   "source": [
    "#from bs4 import BeautifulSoup"
   ]
  },
  {
   "cell_type": "code",
   "execution_count": 2,
   "id": "6255c915-6147-4a2b-91e0-ead13a8ced84",
   "metadata": {},
   "outputs": [],
   "source": [
    "#import pandas as pd\n"
   ]
  },
  {
   "cell_type": "code",
   "execution_count": 8,
   "id": "f4d24c60-f55b-4e2f-a80a-ff5060f86799",
   "metadata": {},
   "outputs": [],
   "source": [
    "#dfs = []\n",
    "#for year in years:\n",
    "#    with open(\"draft/{}.html\".format(year)) as f:\n",
    "#        page = f.read()\n",
    "#    soup = BeautifulSoup(page, \"html.parser\")\n",
    "#    soup.find('tr', class_='over_header').decompose()\n",
    "#    draft_table = soup.find(id='stats')\n",
    "#    draft = pd.read_html(str(draft_table))[0]\n",
    "#    draft['Year'] = year\n",
    "    \n",
    "#    dfs.append(draft)"
   ]
  },
  {
   "cell_type": "code",
   "execution_count": 9,
   "id": "f8e61c61-2f25-450b-be89-a83f07ec27a5",
   "metadata": {},
   "outputs": [],
   "source": [
    "#drafts = pd.concat(dfs)"
   ]
  },
  {
   "cell_type": "markdown",
   "id": "b3e5a239-aa69-45df-989d-ce9188340a1a",
   "metadata": {},
   "source": [
    "# This code was run to work around basketball reference rate limited issue"
   ]
  },
  {
   "cell_type": "markdown",
   "id": "d5103361-7b9c-4c20-bd79-71ce4824b8fe",
   "metadata": {},
   "source": [
    "use since 2006 - when high schoolers were no longer allowed to enter draft"
   ]
  },
  {
   "cell_type": "code",
   "execution_count": 1,
   "id": "c9c4087c-5b81-4014-9ed6-b3993cef0790",
   "metadata": {},
   "outputs": [],
   "source": [
    "years2 = list(range(2006, 2023))"
   ]
  },
  {
   "cell_type": "code",
   "execution_count": null,
   "id": "85233cff-f000-4c9f-a7fc-9b83b598f8b1",
   "metadata": {},
   "outputs": [],
   "source": [
    "url_start = \"https://www.basketball-reference.com/draft/NBA_{}.html\""
   ]
  },
  {
   "cell_type": "code",
   "execution_count": 4,
   "id": "4b61bce5-4a5e-45ef-bde7-33b3eb55eefe",
   "metadata": {},
   "outputs": [
    {
     "ename": "NameError",
     "evalue": "name 'url_start' is not defined",
     "output_type": "error",
     "traceback": [
      "\u001b[0;31m---------------------------------------------------------------------------\u001b[0m",
      "\u001b[0;31mNameError\u001b[0m                                 Traceback (most recent call last)",
      "Input \u001b[0;32mIn [4]\u001b[0m, in \u001b[0;36m<cell line: 3>\u001b[0;34m()\u001b[0m\n\u001b[1;32m      1\u001b[0m \u001b[38;5;28;01mimport\u001b[39;00m \u001b[38;5;21;01mrequests\u001b[39;00m\n\u001b[1;32m      3\u001b[0m \u001b[38;5;28;01mfor\u001b[39;00m year \u001b[38;5;129;01min\u001b[39;00m years2:\n\u001b[0;32m----> 4\u001b[0m     url \u001b[38;5;241m=\u001b[39m \u001b[43murl_start\u001b[49m\u001b[38;5;241m.\u001b[39mformat(year)\n\u001b[1;32m      5\u001b[0m     data \u001b[38;5;241m=\u001b[39m requests\u001b[38;5;241m.\u001b[39mget(url)\n\u001b[1;32m      7\u001b[0m     \u001b[38;5;28;01mwith\u001b[39;00m \u001b[38;5;28mopen\u001b[39m(\u001b[38;5;124m\"\u001b[39m\u001b[38;5;124mdraft/\u001b[39m\u001b[38;5;132;01m{}\u001b[39;00m\u001b[38;5;124m.html\u001b[39m\u001b[38;5;124m\"\u001b[39m\u001b[38;5;241m.\u001b[39mformat(year), \u001b[38;5;124m\"\u001b[39m\u001b[38;5;124mw+\u001b[39m\u001b[38;5;124m\"\u001b[39m) \u001b[38;5;28;01mas\u001b[39;00m f:\n",
      "\u001b[0;31mNameError\u001b[0m: name 'url_start' is not defined"
     ]
    }
   ],
   "source": [
    "import requests\n",
    "\n",
    "for year in years2:\n",
    "    url = url_start.format(year)\n",
    "    data = requests.get(url)\n",
    "    \n",
    "    with open(\"draft/{}.html\".format(year), \"w+\") as f:\n",
    "        f.write(data.text)"
   ]
  },
  {
   "cell_type": "code",
   "execution_count": 454,
   "id": "01516261-c6f2-4c6a-940b-44b044e4579a",
   "metadata": {},
   "outputs": [],
   "source": [
    "from bs4 import BeautifulSoup\n",
    "import pandas as pd"
   ]
  },
  {
   "cell_type": "code",
   "execution_count": 4,
   "id": "91103a07-009a-4cdd-a720-9b2365435c1e",
   "metadata": {},
   "outputs": [],
   "source": [
    "\n",
    "pd.set_option('display.max_rows', None)\n",
    "\n",
    "dfs2 = []\n",
    "for year in years2:\n",
    "    with open(\"draft/{}.html\".format(year)) as f:\n",
    "        page = f.read()\n",
    "    soup = BeautifulSoup(page, \"html.parser\")\n",
    "    soup.find('tr', class_='over_header').decompose()\n",
    "    draft_table = soup.find(id='stats')\n",
    "    draft = pd.read_html(str(draft_table))[0]\n",
    "    draft['Year'] = year\n",
    "    \n",
    "    dfs2.append(draft)"
   ]
  },
  {
   "cell_type": "code",
   "execution_count": 5,
   "id": "be31240f-2d1c-43da-bc07-9364e8ef989d",
   "metadata": {},
   "outputs": [],
   "source": [
    "drafts = pd.concat(dfs2)"
   ]
  },
  {
   "cell_type": "code",
   "execution_count": 6,
   "id": "0a47d1a2-5012-4952-be67-c3548be60157",
   "metadata": {},
   "outputs": [],
   "source": [
    "remove = [\"Round 2\", \"Player\"]\n",
    "drafts = drafts[drafts.Player.isin(remove) == False]"
   ]
  },
  {
   "cell_type": "markdown",
   "id": "efa0fb80-bced-4208-a202-cc944fce39f6",
   "metadata": {},
   "source": [
    "# separate into college and international players"
   ]
  },
  {
   "cell_type": "code",
   "execution_count": 7,
   "id": "224b0309-26bb-4efe-83cd-1fd320443860",
   "metadata": {},
   "outputs": [],
   "source": [
    "college_players = drafts[~drafts['College'].isna()]\n",
    "college_players = college_players.reset_index(drop=True)"
   ]
  },
  {
   "cell_type": "code",
   "execution_count": 420,
   "id": "9a66946c-39c5-41ee-9324-70009441999a",
   "metadata": {},
   "outputs": [
    {
     "data": {
      "text/html": [
       "<div>\n",
       "<style scoped>\n",
       "    .dataframe tbody tr th:only-of-type {\n",
       "        vertical-align: middle;\n",
       "    }\n",
       "\n",
       "    .dataframe tbody tr th {\n",
       "        vertical-align: top;\n",
       "    }\n",
       "\n",
       "    .dataframe thead th {\n",
       "        text-align: right;\n",
       "    }\n",
       "</style>\n",
       "<table border=\"1\" class=\"dataframe\">\n",
       "  <thead>\n",
       "    <tr style=\"text-align: right;\">\n",
       "      <th></th>\n",
       "      <th>Rk</th>\n",
       "      <th>Pk</th>\n",
       "      <th>Tm</th>\n",
       "      <th>Player</th>\n",
       "      <th>College</th>\n",
       "      <th>Yrs</th>\n",
       "      <th>G</th>\n",
       "      <th>MP</th>\n",
       "      <th>PTS</th>\n",
       "      <th>TRB</th>\n",
       "      <th>...</th>\n",
       "      <th>FT%</th>\n",
       "      <th>MP.1</th>\n",
       "      <th>PTS.1</th>\n",
       "      <th>TRB.1</th>\n",
       "      <th>AST.1</th>\n",
       "      <th>WS</th>\n",
       "      <th>WS/48</th>\n",
       "      <th>BPM</th>\n",
       "      <th>VORP</th>\n",
       "      <th>Year</th>\n",
       "    </tr>\n",
       "  </thead>\n",
       "  <tbody>\n",
       "    <tr>\n",
       "      <th>0</th>\n",
       "      <td>2</td>\n",
       "      <td>2</td>\n",
       "      <td>CHI</td>\n",
       "      <td>LaMarcus Aldridge</td>\n",
       "      <td>Texas</td>\n",
       "      <td>16</td>\n",
       "      <td>1076</td>\n",
       "      <td>36242</td>\n",
       "      <td>20558</td>\n",
       "      <td>8736</td>\n",
       "      <td>...</td>\n",
       "      <td>.813</td>\n",
       "      <td>33.7</td>\n",
       "      <td>19.1</td>\n",
       "      <td>8.1</td>\n",
       "      <td>1.9</td>\n",
       "      <td>115.7</td>\n",
       "      <td>.153</td>\n",
       "      <td>1.7</td>\n",
       "      <td>33.4</td>\n",
       "      <td>2006</td>\n",
       "    </tr>\n",
       "    <tr>\n",
       "      <th>1</th>\n",
       "      <td>3</td>\n",
       "      <td>3</td>\n",
       "      <td>CHA</td>\n",
       "      <td>Adam Morrison</td>\n",
       "      <td>Gonzaga</td>\n",
       "      <td>3</td>\n",
       "      <td>161</td>\n",
       "      <td>3278</td>\n",
       "      <td>1200</td>\n",
       "      <td>342</td>\n",
       "      <td>...</td>\n",
       "      <td>.710</td>\n",
       "      <td>20.4</td>\n",
       "      <td>7.5</td>\n",
       "      <td>2.1</td>\n",
       "      <td>1.4</td>\n",
       "      <td>-1.4</td>\n",
       "      <td>-.021</td>\n",
       "      <td>-5.0</td>\n",
       "      <td>-2.4</td>\n",
       "      <td>2006</td>\n",
       "    </tr>\n",
       "    <tr>\n",
       "      <th>2</th>\n",
       "      <td>4</td>\n",
       "      <td>4</td>\n",
       "      <td>POR</td>\n",
       "      <td>Tyrus Thomas</td>\n",
       "      <td>LSU</td>\n",
       "      <td>8</td>\n",
       "      <td>402</td>\n",
       "      <td>7932</td>\n",
       "      <td>3093</td>\n",
       "      <td>1938</td>\n",
       "      <td>...</td>\n",
       "      <td>.732</td>\n",
       "      <td>19.7</td>\n",
       "      <td>7.7</td>\n",
       "      <td>4.8</td>\n",
       "      <td>0.9</td>\n",
       "      <td>13.0</td>\n",
       "      <td>.078</td>\n",
       "      <td>-1.2</td>\n",
       "      <td>1.7</td>\n",
       "      <td>2006</td>\n",
       "    </tr>\n",
       "    <tr>\n",
       "      <th>3</th>\n",
       "      <td>5</td>\n",
       "      <td>5</td>\n",
       "      <td>ATL</td>\n",
       "      <td>Shelden Williams</td>\n",
       "      <td>Duke</td>\n",
       "      <td>6</td>\n",
       "      <td>361</td>\n",
       "      <td>5586</td>\n",
       "      <td>1618</td>\n",
       "      <td>1562</td>\n",
       "      <td>...</td>\n",
       "      <td>.740</td>\n",
       "      <td>15.5</td>\n",
       "      <td>4.5</td>\n",
       "      <td>4.3</td>\n",
       "      <td>0.5</td>\n",
       "      <td>9.9</td>\n",
       "      <td>.085</td>\n",
       "      <td>-3.0</td>\n",
       "      <td>-1.5</td>\n",
       "      <td>2006</td>\n",
       "    </tr>\n",
       "    <tr>\n",
       "      <th>4</th>\n",
       "      <td>6</td>\n",
       "      <td>6</td>\n",
       "      <td>MIN</td>\n",
       "      <td>Brandon Roy</td>\n",
       "      <td>Washington</td>\n",
       "      <td>6</td>\n",
       "      <td>326</td>\n",
       "      <td>11561</td>\n",
       "      <td>6136</td>\n",
       "      <td>1388</td>\n",
       "      <td>...</td>\n",
       "      <td>.800</td>\n",
       "      <td>35.5</td>\n",
       "      <td>18.8</td>\n",
       "      <td>4.3</td>\n",
       "      <td>4.7</td>\n",
       "      <td>37.4</td>\n",
       "      <td>.155</td>\n",
       "      <td>3.6</td>\n",
       "      <td>16.3</td>\n",
       "      <td>2006</td>\n",
       "    </tr>\n",
       "  </tbody>\n",
       "</table>\n",
       "<p>5 rows × 23 columns</p>\n",
       "</div>"
      ],
      "text/plain": [
       "  Rk Pk   Tm             Player     College Yrs     G     MP    PTS   TRB  \\\n",
       "0  2  2  CHI  LaMarcus Aldridge       Texas  16  1076  36242  20558  8736   \n",
       "1  3  3  CHA      Adam Morrison     Gonzaga   3   161   3278   1200   342   \n",
       "2  4  4  POR       Tyrus Thomas         LSU   8   402   7932   3093  1938   \n",
       "3  5  5  ATL   Shelden Williams        Duke   6   361   5586   1618  1562   \n",
       "4  6  6  MIN        Brandon Roy  Washington   6   326  11561   6136  1388   \n",
       "\n",
       "   ...   FT%  MP.1 PTS.1 TRB.1 AST.1     WS  WS/48   BPM  VORP  Year  \n",
       "0  ...  .813  33.7  19.1   8.1   1.9  115.7   .153   1.7  33.4  2006  \n",
       "1  ...  .710  20.4   7.5   2.1   1.4   -1.4  -.021  -5.0  -2.4  2006  \n",
       "2  ...  .732  19.7   7.7   4.8   0.9   13.0   .078  -1.2   1.7  2006  \n",
       "3  ...  .740  15.5   4.5   4.3   0.5    9.9   .085  -3.0  -1.5  2006  \n",
       "4  ...  .800  35.5  18.8   4.3   4.7   37.4   .155   3.6  16.3  2006  \n",
       "\n",
       "[5 rows x 23 columns]"
      ]
     },
     "execution_count": 420,
     "metadata": {},
     "output_type": "execute_result"
    }
   ],
   "source": [
    "college_players.head()"
   ]
  },
  {
   "cell_type": "code",
   "execution_count": 9,
   "id": "5713257e-0d0c-4575-a0c3-3a0d28dc2045",
   "metadata": {},
   "outputs": [],
   "source": [
    "noncollege_players = drafts[drafts['College'].isna()]\n",
    "noncollege_players = noncollege_players.reset_index(drop=True)"
   ]
  },
  {
   "cell_type": "code",
   "execution_count": 10,
   "id": "35c91d8f-135b-49e1-a44b-7d2da4047e9d",
   "metadata": {},
   "outputs": [
    {
     "data": {
      "text/html": [
       "<div>\n",
       "<style scoped>\n",
       "    .dataframe tbody tr th:only-of-type {\n",
       "        vertical-align: middle;\n",
       "    }\n",
       "\n",
       "    .dataframe tbody tr th {\n",
       "        vertical-align: top;\n",
       "    }\n",
       "\n",
       "    .dataframe thead th {\n",
       "        text-align: right;\n",
       "    }\n",
       "</style>\n",
       "<table border=\"1\" class=\"dataframe\">\n",
       "  <thead>\n",
       "    <tr style=\"text-align: right;\">\n",
       "      <th></th>\n",
       "      <th>Rk</th>\n",
       "      <th>Pk</th>\n",
       "      <th>Tm</th>\n",
       "      <th>Player</th>\n",
       "      <th>College</th>\n",
       "      <th>Yrs</th>\n",
       "      <th>G</th>\n",
       "      <th>MP</th>\n",
       "      <th>PTS</th>\n",
       "      <th>TRB</th>\n",
       "      <th>...</th>\n",
       "      <th>FT%</th>\n",
       "      <th>MP.1</th>\n",
       "      <th>PTS.1</th>\n",
       "      <th>TRB.1</th>\n",
       "      <th>AST.1</th>\n",
       "      <th>WS</th>\n",
       "      <th>WS/48</th>\n",
       "      <th>BPM</th>\n",
       "      <th>VORP</th>\n",
       "      <th>Year</th>\n",
       "    </tr>\n",
       "  </thead>\n",
       "  <tbody>\n",
       "    <tr>\n",
       "      <th>0</th>\n",
       "      <td>1</td>\n",
       "      <td>1</td>\n",
       "      <td>TOR</td>\n",
       "      <td>Andrea Bargnani</td>\n",
       "      <td>NaN</td>\n",
       "      <td>10</td>\n",
       "      <td>550</td>\n",
       "      <td>15806</td>\n",
       "      <td>7873</td>\n",
       "      <td>2541</td>\n",
       "      <td>...</td>\n",
       "      <td>.824</td>\n",
       "      <td>28.7</td>\n",
       "      <td>14.3</td>\n",
       "      <td>4.6</td>\n",
       "      <td>1.2</td>\n",
       "      <td>18.9</td>\n",
       "      <td>.057</td>\n",
       "      <td>-1.6</td>\n",
       "      <td>1.5</td>\n",
       "      <td>2006</td>\n",
       "    </tr>\n",
       "    <tr>\n",
       "      <th>1</th>\n",
       "      <td>10</td>\n",
       "      <td>10</td>\n",
       "      <td>SEA</td>\n",
       "      <td>Mouhamed Sene</td>\n",
       "      <td>NaN</td>\n",
       "      <td>3</td>\n",
       "      <td>47</td>\n",
       "      <td>260</td>\n",
       "      <td>103</td>\n",
       "      <td>75</td>\n",
       "      <td>...</td>\n",
       "      <td>.589</td>\n",
       "      <td>5.5</td>\n",
       "      <td>2.2</td>\n",
       "      <td>1.6</td>\n",
       "      <td>0.0</td>\n",
       "      <td>0.3</td>\n",
       "      <td>.052</td>\n",
       "      <td>-5.1</td>\n",
       "      <td>-0.2</td>\n",
       "      <td>2006</td>\n",
       "    </tr>\n",
       "    <tr>\n",
       "      <th>2</th>\n",
       "      <td>13</td>\n",
       "      <td>13</td>\n",
       "      <td>PHI</td>\n",
       "      <td>Thabo Sefolosha</td>\n",
       "      <td>NaN</td>\n",
       "      <td>14</td>\n",
       "      <td>869</td>\n",
       "      <td>19062</td>\n",
       "      <td>4994</td>\n",
       "      <td>3252</td>\n",
       "      <td>...</td>\n",
       "      <td>.732</td>\n",
       "      <td>21.9</td>\n",
       "      <td>5.7</td>\n",
       "      <td>3.7</td>\n",
       "      <td>1.4</td>\n",
       "      <td>39.3</td>\n",
       "      <td>.099</td>\n",
       "      <td>0.6</td>\n",
       "      <td>12.4</td>\n",
       "      <td>2006</td>\n",
       "    </tr>\n",
       "    <tr>\n",
       "      <th>3</th>\n",
       "      <td>18</td>\n",
       "      <td>18</td>\n",
       "      <td>WAS</td>\n",
       "      <td>Oleksiy Pecherov</td>\n",
       "      <td>NaN</td>\n",
       "      <td>3</td>\n",
       "      <td>111</td>\n",
       "      <td>1044</td>\n",
       "      <td>438</td>\n",
       "      <td>266</td>\n",
       "      <td>...</td>\n",
       "      <td>.793</td>\n",
       "      <td>9.4</td>\n",
       "      <td>3.9</td>\n",
       "      <td>2.4</td>\n",
       "      <td>0.2</td>\n",
       "      <td>0.5</td>\n",
       "      <td>.025</td>\n",
       "      <td>-4.8</td>\n",
       "      <td>-0.7</td>\n",
       "      <td>2006</td>\n",
       "    </tr>\n",
       "    <tr>\n",
       "      <th>4</th>\n",
       "      <td>27</td>\n",
       "      <td>27</td>\n",
       "      <td>PHO</td>\n",
       "      <td>Sergio Rodríguez</td>\n",
       "      <td>NaN</td>\n",
       "      <td>5</td>\n",
       "      <td>353</td>\n",
       "      <td>5281</td>\n",
       "      <td>1747</td>\n",
       "      <td>525</td>\n",
       "      <td>...</td>\n",
       "      <td>.739</td>\n",
       "      <td>15.0</td>\n",
       "      <td>4.9</td>\n",
       "      <td>1.5</td>\n",
       "      <td>3.4</td>\n",
       "      <td>4.3</td>\n",
       "      <td>.039</td>\n",
       "      <td>-2.0</td>\n",
       "      <td>0.1</td>\n",
       "      <td>2006</td>\n",
       "    </tr>\n",
       "  </tbody>\n",
       "</table>\n",
       "<p>5 rows × 23 columns</p>\n",
       "</div>"
      ],
      "text/plain": [
       "   Rk  Pk   Tm            Player College Yrs    G     MP   PTS   TRB  ...  \\\n",
       "0   1   1  TOR   Andrea Bargnani     NaN  10  550  15806  7873  2541  ...   \n",
       "1  10  10  SEA     Mouhamed Sene     NaN   3   47    260   103    75  ...   \n",
       "2  13  13  PHI   Thabo Sefolosha     NaN  14  869  19062  4994  3252  ...   \n",
       "3  18  18  WAS  Oleksiy Pecherov     NaN   3  111   1044   438   266  ...   \n",
       "4  27  27  PHO  Sergio Rodríguez     NaN   5  353   5281  1747   525  ...   \n",
       "\n",
       "    FT%  MP.1 PTS.1 TRB.1 AST.1    WS WS/48   BPM  VORP  Year  \n",
       "0  .824  28.7  14.3   4.6   1.2  18.9  .057  -1.6   1.5  2006  \n",
       "1  .589   5.5   2.2   1.6   0.0   0.3  .052  -5.1  -0.2  2006  \n",
       "2  .732  21.9   5.7   3.7   1.4  39.3  .099   0.6  12.4  2006  \n",
       "3  .793   9.4   3.9   2.4   0.2   0.5  .025  -4.8  -0.7  2006  \n",
       "4  .739  15.0   4.9   1.5   3.4   4.3  .039  -2.0   0.1  2006  \n",
       "\n",
       "[5 rows x 23 columns]"
      ]
     },
     "execution_count": 10,
     "metadata": {},
     "output_type": "execute_result"
    }
   ],
   "source": [
    "noncollege_players.head()"
   ]
  },
  {
   "cell_type": "markdown",
   "id": "86f1b890-e0b9-41e8-97fb-388c5592353b",
   "metadata": {},
   "source": [
    "# convert to player ids needed to access sports reference pages"
   ]
  },
  {
   "cell_type": "code",
   "execution_count": 436,
   "id": "0c5a35b9-a2fb-4d88-8a74-71f510e100b5",
   "metadata": {},
   "outputs": [],
   "source": [
    "names = college_players['Player']\n"
   ]
  },
  {
   "cell_type": "code",
   "execution_count": 12,
   "id": "c1a5f0cb-04c6-49eb-9329-fea5b6e32361",
   "metadata": {},
   "outputs": [],
   "source": [
    "player_ids = []\n",
    "for player in names:\n",
    "    name = player.lower()\n",
    "    player_ids.append(name.split(\" \")[0] + \"-\" + name.split(\" \")[1] + \"-1\")"
   ]
  },
  {
   "cell_type": "code",
   "execution_count": 292,
   "id": "60bd6f1e-d683-4a45-bf9e-4b2807fa59e9",
   "metadata": {},
   "outputs": [],
   "source": [
    "player_ids2 = []\n",
    "for name in player_ids:\n",
    "    player_ids2.append(name.replace(\".\", \"\"))\n",
    "\n",
    "player_ids3 = []\n",
    "for name in player_ids2:\n",
    "    player_ids3.append(name.replace(\"'\", \"\"))"
   ]
  },
  {
   "cell_type": "code",
   "execution_count": 242,
   "id": "d7764a73-5481-4f67-85e6-758e9c9ca2f2",
   "metadata": {},
   "outputs": [],
   "source": [
    "player_ids_final = []\n",
    "for name in player_ids2:\n",
    "    player_ids_final.append(name.replace(\"'\", \"\"))\n",
    "\n",
    "player_ids_final.remove(\"ricky-ledo-1\")\n",
    "player_ids_final.remove(\"jay-scrubb-1\")\n",
    "player_ids_final.remove(\"shaedon-sharpe-1\")"
   ]
  },
  {
   "cell_type": "code",
   "execution_count": 421,
   "id": "b530d4ff-82f4-402a-a319-246532843224",
   "metadata": {},
   "outputs": [
    {
     "data": {
      "text/plain": [
       "815"
      ]
     },
     "execution_count": 421,
     "metadata": {},
     "output_type": "execute_result"
    }
   ],
   "source": [
    "len(player_ids3)"
   ]
  },
  {
   "cell_type": "markdown",
   "id": "f4a94cca-8bbf-4af6-a7f3-4b9312caca3b",
   "metadata": {},
   "source": [
    "had to manually change a couple to combat repeated names/nicknames/juniors"
   ]
  },
  {
   "cell_type": "code",
   "execution_count": 294,
   "id": "9196ef3c-4ea5-4f31-80d8-1037770df6d3",
   "metadata": {},
   "outputs": [],
   "source": [
    "player_ids3[player_ids3.index(\"bobby-jones-1\")] = \"bobby-jones-2\""
   ]
  },
  {
   "cell_type": "code",
   "execution_count": 295,
   "id": "755be03e-d4eb-44d0-9508-99d9555316c6",
   "metadata": {},
   "outputs": [],
   "source": [
    "player_ids3[player_ids3.index(\"donté-greene-1\")] = \"donte-greene-1\""
   ]
  },
  {
   "cell_type": "code",
   "execution_count": 296,
   "id": "d0567694-cc40-4633-a568-7e138f6bcdf3",
   "metadata": {},
   "outputs": [],
   "source": [
    "player_ids3[player_ids3.index(\"henry-walker-1\")] = \"bill-walker-1\""
   ]
  },
  {
   "cell_type": "code",
   "execution_count": 297,
   "id": "1a9dfc10-1d1d-4965-bbcc-e9a1352e052b",
   "metadata": {},
   "outputs": [],
   "source": [
    "player_ids3[player_ids3.index(\"patrick-ewing-1\")] = \"pat-ewing-1\""
   ]
  },
  {
   "cell_type": "code",
   "execution_count": 298,
   "id": "751bf8c6-b984-43b6-ab53-1a5130c5e411",
   "metadata": {},
   "outputs": [],
   "source": [
    "player_ids3[player_ids3.index(\"stéphane-lasme-1\")] = \"stephane-lasme-1\""
   ]
  },
  {
   "cell_type": "code",
   "execution_count": 299,
   "id": "d95c2ed9-55b1-4e77-a1bf-5e016babaafe",
   "metadata": {},
   "outputs": [],
   "source": [
    "player_ids3[player_ids3.index(\"guillermo-díaz-1\")] = \"guillermo-diaz-1\""
   ]
  },
  {
   "cell_type": "code",
   "execution_count": 300,
   "id": "8e0c64f7-fbe6-4e68-92d2-5a8fca24f7b6",
   "metadata": {},
   "outputs": [],
   "source": [
    "player_ids3[71] = \"marcus-williams-2\""
   ]
  },
  {
   "cell_type": "code",
   "execution_count": 301,
   "id": "35dc6c97-08d7-47dd-b78d-f94d6c328c55",
   "metadata": {},
   "outputs": [],
   "source": [
    "player_ids3[player_ids3.index(\"dee-brown-1\")] = \"dee-brown-2\""
   ]
  },
  {
   "cell_type": "code",
   "execution_count": 302,
   "id": "e06e3aae-8d64-4e34-81ac-bb59ec7d5d82",
   "metadata": {},
   "outputs": [],
   "source": [
    "player_ids3[player_ids3.index(\"luc-mbah-1\")] = \"luc-richard-mbah-a-moute-1\""
   ]
  },
  {
   "cell_type": "code",
   "execution_count": 303,
   "id": "78b5909b-7077-42c6-a503-31d2b1563941",
   "metadata": {},
   "outputs": [],
   "source": [
    "player_ids3[player_ids3.index(\"byron-mullens-1\")] = \"bj-mullens-1\""
   ]
  },
  {
   "cell_type": "code",
   "execution_count": 304,
   "id": "15f2dfaf-06d8-4ad0-aef7-e160919d4e55",
   "metadata": {},
   "outputs": [],
   "source": [
    "player_ids3[player_ids3.index(\"james-johnson-1\")] = \"james-johnson-2\""
   ]
  },
  {
   "cell_type": "code",
   "execution_count": 305,
   "id": "7cb43dea-7cd0-4249-8e46-fa4373cc8f96",
   "metadata": {},
   "outputs": [],
   "source": [
    "player_ids3[player_ids3.index(\"gerald-henderson-1\")] = \"gerald-henderson-2\""
   ]
  },
  {
   "cell_type": "code",
   "execution_count": 306,
   "id": "34c7b280-af49-4737-b722-25f8aa887915",
   "metadata": {},
   "outputs": [],
   "source": [
    "player_ids3[player_ids3.index(\"jeff-ayres-1\")] = \"jeff-pendergraph-1\""
   ]
  },
  {
   "cell_type": "code",
   "execution_count": 307,
   "id": "807f59e1-8986-48b2-abc1-0ab02a8d2084",
   "metadata": {},
   "outputs": [],
   "source": [
    "player_ids3[player_ids3.index(\"wesley-johnson-1\")] = \"wes-johnson-1\""
   ]
  },
  {
   "cell_type": "code",
   "execution_count": 308,
   "id": "8e63566b-0d3f-470c-aa1d-e5125f25255c",
   "metadata": {},
   "outputs": [],
   "source": [
    "player_ids3[player_ids3.index(\"ahman-nivins-1\")] = \"ahmad-nivins-1\""
   ]
  },
  {
   "cell_type": "code",
   "execution_count": 309,
   "id": "c72c5e97-4d78-4b28-a9e9-d343ddf0f097",
   "metadata": {},
   "outputs": [],
   "source": [
    "player_ids3[player_ids3.index(\"patty-mills-1\")] = \"patrick-mills-1\""
   ]
  },
  {
   "cell_type": "code",
   "execution_count": 310,
   "id": "4cce2ca4-30d4-4251-b142-848c9d11d342",
   "metadata": {},
   "outputs": [],
   "source": [
    "player_ids3[player_ids3.index(\"greivis-vásquez-1\")] = \"greivis-vasquez-1\""
   ]
  },
  {
   "cell_type": "code",
   "execution_count": 311,
   "id": "125c55b5-6dec-4c67-9bbf-52daa36160a9",
   "metadata": {},
   "outputs": [],
   "source": [
    "player_ids3[player_ids3.index(\"james-anderson-1\")] = \"james-anderson-3\""
   ]
  },
  {
   "cell_type": "code",
   "execution_count": 312,
   "id": "bc7d4b71-9b02-4efc-8778-13bffd7485d9",
   "metadata": {},
   "outputs": [],
   "source": [
    "player_ids3[player_ids3.index(\"nikola-vučević-1\")] = \"nikola-vucevic-1\""
   ]
  },
  {
   "cell_type": "code",
   "execution_count": 313,
   "id": "439eaca0-8f15-4479-adbb-76316c156e93",
   "metadata": {},
   "outputs": [],
   "source": [
    "player_ids3[player_ids3.index(\"derrick-williams-1\")] = \"derrick-williams-2\""
   ]
  },
  {
   "cell_type": "code",
   "execution_count": 314,
   "id": "646bdb43-7454-4938-b2b7-07bb9377529d",
   "metadata": {},
   "outputs": [],
   "source": [
    "player_ids3[player_ids3.index(\"thomas-robinson-1\")] = \"thomas-robinson-2\""
   ]
  },
  {
   "cell_type": "code",
   "execution_count": 315,
   "id": "3e37e9a7-f2d7-4308-8504-f953ac933ae7",
   "metadata": {},
   "outputs": [],
   "source": [
    "player_ids3[player_ids3.index(\"anthony-davis-1\")] = \"anthony-davis-5\""
   ]
  },
  {
   "cell_type": "code",
   "execution_count": 316,
   "id": "8138bfdd-97c6-4280-b30b-1996b8d6a847",
   "metadata": {},
   "outputs": [],
   "source": [
    "player_ids3[player_ids3.index(\"bernard-james-1\")] = \"bernard-james--1\""
   ]
  },
  {
   "cell_type": "code",
   "execution_count": 317,
   "id": "fef82771-7637-429d-80ee-75a3be16c872",
   "metadata": {},
   "outputs": [],
   "source": [
    "player_ids3[player_ids3.index(\"jeff-taylor-1\")] = \"jeffery-taylor-1\""
   ]
  },
  {
   "cell_type": "code",
   "execution_count": 318,
   "id": "756d5cf7-2286-4000-ab81-c185356f217a",
   "metadata": {},
   "outputs": [],
   "source": [
    "player_ids3[player_ids3.index(\"jared-cunningham-1\")] = \"jared-cunningham-2\""
   ]
  },
  {
   "cell_type": "code",
   "execution_count": 319,
   "id": "dc872144-2cb5-4d14-a075-6c8b5a3fe617",
   "metadata": {},
   "outputs": [],
   "source": [
    "player_ids3[player_ids3.index(\"justin-hamilton-1\")] = \"justin-hamilton-2\""
   ]
  },
  {
   "cell_type": "code",
   "execution_count": 320,
   "id": "534364de-f453-490a-8b61-444518b4fa85",
   "metadata": {},
   "outputs": [],
   "source": [
    "player_ids3[player_ids3.index(\"mike-scott-1\")] = \"mike-scott-4\""
   ]
  },
  {
   "cell_type": "code",
   "execution_count": 321,
   "id": "75b4a6c6-ab4a-47b4-8b14-d0a49454aad4",
   "metadata": {},
   "outputs": [],
   "source": [
    "player_ids3[player_ids3.index(\"reggie-bullock-1\")] = \"reggie-bullock-2\""
   ]
  },
  {
   "cell_type": "code",
   "execution_count": 322,
   "id": "e8d28610-3927-4c7f-86a7-b796e3f80ae9",
   "metadata": {},
   "outputs": [],
   "source": [
    "player_ids3[player_ids3.index(\"tim-hardaway-1\")] = \"tim-hardaway-jr-1\""
   ]
  },
  {
   "cell_type": "code",
   "execution_count": 323,
   "id": "2989dec7-a8c6-48d7-93bc-3f77d92f6496",
   "metadata": {},
   "outputs": [],
   "source": [
    "player_ids3[player_ids3.index(\"ryan-kelly-1\")] = \"ryan-kelly-3\""
   ]
  },
  {
   "cell_type": "code",
   "execution_count": 324,
   "id": "a3dbb307-3a3d-4ca3-92f4-ade1e4753f52",
   "metadata": {},
   "outputs": [],
   "source": [
    "player_ids3.remove(\"ricky-ledo-1\")"
   ]
  },
  {
   "cell_type": "code",
   "execution_count": 325,
   "id": "432599a4-6a4b-4402-b32c-a30b3cf6b404",
   "metadata": {},
   "outputs": [],
   "source": [
    "player_ids3[player_ids3.index(\"tony-mitchell-1\")] = \"tony-mitchell-4\""
   ]
  },
  {
   "cell_type": "code",
   "execution_count": 326,
   "id": "265c7231-5a3e-4baf-a508-a2db5a8fac5b",
   "metadata": {},
   "outputs": [],
   "source": [
    "player_ids3[player_ids3.index(\"ray-mccallum-1\")] = \"ray-mccallum-2\""
   ]
  },
  {
   "cell_type": "code",
   "execution_count": 327,
   "id": "cd068d01-2eb0-4c2f-93f0-560cf98af061",
   "metadata": {},
   "outputs": [],
   "source": [
    "player_ids3[player_ids3.index(\"glen-rice-1\")] = \"glen-rice-jr-1\""
   ]
  },
  {
   "cell_type": "code",
   "execution_count": 328,
   "id": "d7412fe2-e749-4702-909a-554dbbe59ce7",
   "metadata": {},
   "outputs": [],
   "source": [
    "player_ids3[player_ids3.index(\"glenn-robinson-1\")] = \"glenn-robinson-2\""
   ]
  },
  {
   "cell_type": "code",
   "execution_count": 329,
   "id": "71df8a9c-56b4-4223-b628-ed6f52377776",
   "metadata": {},
   "outputs": [],
   "source": [
    "player_ids3[player_ids3.index(\"joe-harris-1\")] = \"joe-harris--1\""
   ]
  },
  {
   "cell_type": "code",
   "execution_count": 330,
   "id": "635df395-1b43-4b0b-8846-b96511847672",
   "metadata": {},
   "outputs": [],
   "source": [
    "player_ids3[player_ids3.index(\"kyle-anderson-1\")] = \"kyle-anderson-3\""
   ]
  },
  {
   "cell_type": "code",
   "execution_count": 331,
   "id": "8e0fb13c-aae2-4418-baa0-5205e4132161",
   "metadata": {},
   "outputs": [],
   "source": [
    "player_ids3[player_ids3.index(\"devin-booker-1\")] = \"devin-booker-2\""
   ]
  },
  {
   "cell_type": "code",
   "execution_count": 332,
   "id": "de383a20-84a1-40e9-948c-568004465b50",
   "metadata": {},
   "outputs": [],
   "source": [
    "player_ids3[player_ids3.index(\"devyn-marble-1\")] = \"rov-devyn-marble-1\""
   ]
  },
  {
   "cell_type": "code",
   "execution_count": 333,
   "id": "0b2c46f9-5971-4d1e-a0b3-bd3c037e094a",
   "metadata": {},
   "outputs": [],
   "source": [
    "player_ids3[player_ids3.index(\"anthony-brown-1\")] = \"anthony-brown-5\""
   ]
  },
  {
   "cell_type": "code",
   "execution_count": 334,
   "id": "f4b04b8c-f60c-4d9a-8dd3-10817157646e",
   "metadata": {},
   "outputs": [],
   "source": [
    "player_ids3[player_ids3.index(\"larry-nance-1\")] = \"larry-nance-2\""
   ]
  },
  {
   "cell_type": "code",
   "execution_count": 335,
   "id": "3740533c-c22f-4b88-b24c-5a2f5f1ce173",
   "metadata": {},
   "outputs": [],
   "source": [
    "player_ids3[player_ids3.index(\"aaron-white-1\")] = \"aaron-white-3\""
   ]
  },
  {
   "cell_type": "code",
   "execution_count": 336,
   "id": "b04b5ebb-6ba9-4d12-b9bf-67a305991b5c",
   "metadata": {},
   "outputs": [],
   "source": [
    "player_ids3[player_ids3.index(\"marcus-thornton-1\")] = \"marcus-thornton-3\""
   ]
  },
  {
   "cell_type": "code",
   "execution_count": 337,
   "id": "66ca2bee-8553-4429-917e-4f7e56cd7f7d",
   "metadata": {},
   "outputs": [],
   "source": [
    "player_ids3[player_ids3.index(\"joe-young-1\")] = \"joseph-young-1\""
   ]
  },
  {
   "cell_type": "code",
   "execution_count": 338,
   "id": "8b81bf3c-5f3c-48f0-bc23-c75ef3faf875",
   "metadata": {},
   "outputs": [],
   "source": [
    "player_ids3[player_ids3.index(\"skal-labissière-1\")] = \"skal-labissiere-1\""
   ]
  },
  {
   "cell_type": "code",
   "execution_count": 339,
   "id": "9de81001-8c34-413e-9dc6-1448b69330b2",
   "metadata": {},
   "outputs": [],
   "source": [
    "player_ids3[player_ids3.index(\"kay-felder-1\")] = \"kahlil-felder-1\""
   ]
  },
  {
   "cell_type": "code",
   "execution_count": 340,
   "id": "a8f843c0-746b-43f3-9630-116cc58dbb3d",
   "metadata": {},
   "outputs": [],
   "source": [
    "player_ids3[player_ids3.index(\"demetrius-jackson-1\")] = \"demetrius-jackson-2\""
   ]
  },
  {
   "cell_type": "code",
   "execution_count": 341,
   "id": "a722c6b8-897f-4475-b3e1-c7ef786bfbab",
   "metadata": {},
   "outputs": [],
   "source": [
    "player_ids3[player_ids3.index(\"stephen-zimmerman-1\")] = \"stephen-zimmermanjr-1\""
   ]
  },
  {
   "cell_type": "code",
   "execution_count": 342,
   "id": "c89f4ed9-de69-4f89-8ac1-b7a643cf587e",
   "metadata": {},
   "outputs": [],
   "source": [
    "player_ids3[player_ids3.index(\"justin-jackson-1\")] = \"justin-jackson-4\""
   ]
  },
  {
   "cell_type": "code",
   "execution_count": 343,
   "id": "6cb5e56d-7fb6-4b58-9061-99d912b18d59",
   "metadata": {},
   "outputs": [],
   "source": [
    "player_ids3[533] = \"justin-jackson-4\""
   ]
  },
  {
   "cell_type": "code",
   "execution_count": 344,
   "id": "2d85d348-681f-48d1-9cf7-5fc51052de01",
   "metadata": {},
   "outputs": [],
   "source": [
    "player_ids3[player_ids3.index(\"bam-adebayo-1\")] = \"edrice-adebayo-1\""
   ]
  },
  {
   "cell_type": "code",
   "execution_count": 345,
   "id": "8525834c-4535-4a5b-a80c-25f619e5e929",
   "metadata": {},
   "outputs": [],
   "source": [
    "player_ids3[player_ids3.index(\"dennis-smith-1\")] = \"dennis-smithjr-1\""
   ]
  },
  {
   "cell_type": "code",
   "execution_count": 346,
   "id": "11354408-7187-4504-bec7-c76a00b84365",
   "metadata": {},
   "outputs": [],
   "source": [
    "player_ids3[player_ids3.index(\"josh-jackson-1\")] = \"josh-jackson-2\""
   ]
  },
  {
   "cell_type": "code",
   "execution_count": 347,
   "id": "784021c4-ab24-4609-9594-072e6bfb73f3",
   "metadata": {},
   "outputs": [],
   "source": [
    "player_ids3[player_ids3.index(\"wes-iwundu-1\")] = \"wesley-iwundu-1\""
   ]
  },
  {
   "cell_type": "code",
   "execution_count": 348,
   "id": "5ee0fa6f-fc0f-49e7-8e8f-123bcaa7ccd2",
   "metadata": {},
   "outputs": [],
   "source": [
    "player_ids3[player_ids3.index(\"frank-jackson-1\")] = \"frank-jackson-2\""
   ]
  },
  {
   "cell_type": "code",
   "execution_count": 349,
   "id": "e39a8d2e-1748-43a0-bb6c-96f76251fbeb",
   "metadata": {},
   "outputs": [],
   "source": [
    "player_ids3[player_ids3.index(\"wendell-carter-1\")] = \"wendell-carterjr-1\""
   ]
  },
  {
   "cell_type": "code",
   "execution_count": 350,
   "id": "5d8fdbb6-e7fc-4848-9f1c-7a8ad88a68fa",
   "metadata": {},
   "outputs": [],
   "source": [
    "player_ids3[player_ids3.index(\"mo-bamba-1\")] = \"mohamed-bamba-1\""
   ]
  },
  {
   "cell_type": "code",
   "execution_count": 351,
   "id": "64b39d42-795d-4c4e-b0ae-d26b9444bcef",
   "metadata": {},
   "outputs": [],
   "source": [
    "player_ids3[player_ids3.index(\"jaren-jackson-1\")] = \"jaren-jacksonjr-1\""
   ]
  },
  {
   "cell_type": "code",
   "execution_count": 352,
   "id": "2ca3ff84-e1d0-4798-82d8-ed501d0529a4",
   "metadata": {},
   "outputs": [],
   "source": [
    "player_ids3[player_ids3.index(\"marvin-bagley-1\")] = \"marvin-bagleyiii-1\""
   ]
  },
  {
   "cell_type": "code",
   "execution_count": 353,
   "id": "38cb4c57-f1eb-481e-b71c-1d2e4aea0b50",
   "metadata": {},
   "outputs": [],
   "source": [
    "player_ids3[player_ids3.index(\"sterling-brown-1\")] = \"sterling-brown-2\""
   ]
  },
  {
   "cell_type": "code",
   "execution_count": 354,
   "id": "7c421017-caec-4313-b323-b75586a02fe7",
   "metadata": {},
   "outputs": [],
   "source": [
    "player_ids3[player_ids3.index(\"robert-williams-1\")] = \"robert-williams-3\""
   ]
  },
  {
   "cell_type": "code",
   "execution_count": 355,
   "id": "439d73ef-251c-4bc0-93c7-8126fc1f8c15",
   "metadata": {},
   "outputs": [],
   "source": [
    "player_ids3[player_ids3.index(\"lonnie-walker-1\")] = \"lonnie-walker-2\""
   ]
  },
  {
   "cell_type": "code",
   "execution_count": 356,
   "id": "5d1a976f-2095-4284-86bb-75b1ce7d8e8d",
   "metadata": {},
   "outputs": [],
   "source": [
    "player_ids3[player_ids3.index(\"troy-brown-1\")] = \"troy-brown-5\""
   ]
  },
  {
   "cell_type": "code",
   "execution_count": 357,
   "id": "e6ebc937-b7a3-4d28-b0e0-362a05e513ce",
   "metadata": {},
   "outputs": [],
   "source": [
    "player_ids3[player_ids3.index(\"michael-porter-1\")] = \"michael-porterjr-1\""
   ]
  },
  {
   "cell_type": "code",
   "execution_count": 358,
   "id": "19bffc25-9511-4f2e-ac28-5030f8f50fd0",
   "metadata": {},
   "outputs": [],
   "source": [
    "player_ids3[player_ids3.index(\"jerome-robinson-1\")] = \"jerome-robinson-2\""
   ]
  },
  {
   "cell_type": "code",
   "execution_count": 359,
   "id": "bc1a9999-bc1c-49bc-b2ca-cbea0b6a92d6",
   "metadata": {},
   "outputs": [],
   "source": [
    "player_ids3[player_ids3.index(\"ray-spalding-1\")] = \"raymond-spalding-1\""
   ]
  },
  {
   "cell_type": "code",
   "execution_count": 360,
   "id": "9d1d814b-0dbd-46a7-85ad-e2dfd25fa9fe",
   "metadata": {},
   "outputs": [],
   "source": [
    "player_ids3[player_ids3.index(\"shake-milton-1\")] = \"malik-milton-1\""
   ]
  },
  {
   "cell_type": "code",
   "execution_count": 361,
   "id": "eb25753b-eb78-46e5-bc9d-02cec7f8813f",
   "metadata": {},
   "outputs": [],
   "source": [
    "player_ids3[player_ids3.index(\"vince-edwards-1\")] = \"vince-edwards-2\""
   ]
  },
  {
   "cell_type": "code",
   "execution_count": 362,
   "id": "a937d558-e34a-4062-8c0a-c5e6b9fd4390",
   "metadata": {},
   "outputs": [],
   "source": [
    "player_ids3[player_ids3.index(\"svi-mykhailiuk-1\")] = \"sviatoslav-mykhailiuk-1\""
   ]
  },
  {
   "cell_type": "code",
   "execution_count": 365,
   "id": "5db93828-ea15-410c-a33a-75fbc4e1222c",
   "metadata": {},
   "outputs": [],
   "source": [
    "player_ids3[player_ids3.index(\"justin-jackson-1\")] = \"justin-jackson-5\""
   ]
  },
  {
   "cell_type": "code",
   "execution_count": 366,
   "id": "8a55e2c7-fb07-45ee-8b4a-f1bf035bf49e",
   "metadata": {},
   "outputs": [],
   "source": [
    "player_ids3[player_ids3.index(\"bruce-brown-1\")] = \"bruce-brown-2\""
   ]
  },
  {
   "cell_type": "code",
   "execution_count": 367,
   "id": "c91cafb9-2627-4d1f-9826-0e070badda90",
   "metadata": {},
   "outputs": [],
   "source": [
    "player_ids3[player_ids3.index(\"gary-trent-1\")] = \"gary-trentjr-1\""
   ]
  },
  {
   "cell_type": "code",
   "execution_count": 368,
   "id": "cc5668b8-7aab-44db-9968-6cd13ef00a85",
   "metadata": {},
   "outputs": [],
   "source": [
    "player_ids3[player_ids3.index(\"cameron-johnson-1\")] = \"cameron-johnson-4\""
   ]
  },
  {
   "cell_type": "code",
   "execution_count": 369,
   "id": "8fe84b6f-701d-4fcf-a35f-f279af0c8fd0",
   "metadata": {},
   "outputs": [],
   "source": [
    "player_ids3[player_ids3.index(\"ja-morant-1\")] = \"temetrius-morant-1\""
   ]
  },
  {
   "cell_type": "code",
   "execution_count": 370,
   "id": "0fb54d6f-96de-42a2-a357-60261ced0194",
   "metadata": {},
   "outputs": [],
   "source": [
    "player_ids3[player_ids3.index(\"justin-james-1\")] = \"justin-james-2\""
   ]
  },
  {
   "cell_type": "code",
   "execution_count": 371,
   "id": "09d9373a-094e-4e84-8da7-73c089e20f3b",
   "metadata": {},
   "outputs": [],
   "source": [
    "player_ids3[player_ids3.index(\"kz-okpala-1\")] = \"kezie-okpala-1\""
   ]
  },
  {
   "cell_type": "code",
   "execution_count": 372,
   "id": "d00a835d-c04a-4aaa-baf1-55a517f85252",
   "metadata": {},
   "outputs": [],
   "source": [
    "player_ids3[player_ids3.index(\"nic-claxton-1\")] = \"nicholas-claxton-1\""
   ]
  },
  {
   "cell_type": "code",
   "execution_count": 494,
   "id": "34d5488e-3851-436d-9f7d-b5930e20350c",
   "metadata": {},
   "outputs": [],
   "source": [
    "player_ids3[player_ids3.index(\"nicholas-claxton-1\")] = \"nicolas-claxton-1\""
   ]
  },
  {
   "cell_type": "code",
   "execution_count": 373,
   "id": "2cc20542-ec8c-44e2-9a33-9a68b0995cc1",
   "metadata": {},
   "outputs": [],
   "source": [
    "player_ids3[player_ids3.index(\"kevin-porter-1\")] = \"kevin-porterjr-1\""
   ]
  },
  {
   "cell_type": "code",
   "execution_count": 374,
   "id": "94c9b68c-7313-4131-b095-6f905b0eea0e",
   "metadata": {},
   "outputs": [],
   "source": [
    "player_ids3[player_ids3.index(\"obi-toppin-1\")] = \"obadiah-toppin-1\""
   ]
  },
  {
   "cell_type": "code",
   "execution_count": 375,
   "id": "6d2ff0e1-1d9c-4c42-a658-969f465de7b1",
   "metadata": {},
   "outputs": [],
   "source": [
    "player_ids3[player_ids3.index(\"patrick-williams-1\")] = \"patrick-williams-2\""
   ]
  },
  {
   "cell_type": "code",
   "execution_count": 376,
   "id": "6a322be6-2f4d-46f7-8f05-873dfa050f41",
   "metadata": {},
   "outputs": [],
   "source": [
    "player_ids3[player_ids3.index(\"anthony-edwards-1\")] = \"anthony-edwards-2\""
   ]
  },
  {
   "cell_type": "code",
   "execution_count": 377,
   "id": "36839668-c15d-4cd7-971a-c8ddcb19a8f3",
   "metadata": {},
   "outputs": [],
   "source": [
    "player_ids3[player_ids3.index(\"dewan-hernandez-1\")] = \"dewan-huell-1\""
   ]
  },
  {
   "cell_type": "code",
   "execution_count": 378,
   "id": "6f7a93a4-cfff-4dce-9bac-068a3d058b0a",
   "metadata": {},
   "outputs": [],
   "source": [
    "player_ids3[player_ids3.index(\"vernon-carey-1\")] = \"vernon-careyjr-1\""
   ]
  },
  {
   "cell_type": "code",
   "execution_count": 379,
   "id": "ebd66b92-302c-4629-a881-512af8ad8bcd",
   "metadata": {},
   "outputs": [],
   "source": [
    "player_ids3[player_ids3.index(\"josh-green-1\")] = \"josh-green-2\""
   ]
  },
  {
   "cell_type": "code",
   "execution_count": 380,
   "id": "6228db0d-e979-4ffd-ace3-e494f596a881",
   "metadata": {},
   "outputs": [],
   "source": [
    "player_ids3[player_ids3.index(\"isaiah-stewart-1\")] = \"isaiah-stewart-2\""
   ]
  },
  {
   "cell_type": "code",
   "execution_count": 381,
   "id": "abc6d6ab-e60f-41d6-8396-2fd4da8f877d",
   "metadata": {},
   "outputs": [],
   "source": [
    "player_ids3[player_ids3.index(\"kira-lewis-1\")] = \"kira-lewisjr-1\""
   ]
  },
  {
   "cell_type": "code",
   "execution_count": 382,
   "id": "abaab5c8-96a6-4041-8858-4421061e5cb6",
   "metadata": {},
   "outputs": [],
   "source": [
    "player_ids3[player_ids3.index(\"paul-reed-1\")] = \"paul-reed-5\""
   ]
  },
  {
   "cell_type": "code",
   "execution_count": 383,
   "id": "11c15efa-8360-4d23-bf2a-1f7a55cc3504",
   "metadata": {},
   "outputs": [],
   "source": [
    "player_ids3.remove(\"jay-scrubb-1\")"
   ]
  },
  {
   "cell_type": "code",
   "execution_count": 384,
   "id": "6de2c712-8c4b-4f85-ba91-110721188831",
   "metadata": {},
   "outputs": [],
   "source": [
    "player_ids3[player_ids3.index(\"nick-richards-1\")] = \"nick-richards-2\""
   ]
  },
  {
   "cell_type": "code",
   "execution_count": 385,
   "id": "75f1ba66-937e-48d3-90b1-3ad5756549de",
   "metadata": {},
   "outputs": [],
   "source": [
    "player_ids3[player_ids3.index(\"robert-woodard-1\")] = \"robert-woodard-2\""
   ]
  },
  {
   "cell_type": "code",
   "execution_count": 386,
   "id": "1e389535-bf0a-401e-b861-b91c22ce8c6b",
   "metadata": {},
   "outputs": [],
   "source": [
    "player_ids3[player_ids3.index(\"jalen-harris-1\")] = \"jalen-harris-2\""
   ]
  },
  {
   "cell_type": "code",
   "execution_count": 387,
   "id": "1eaf9d9f-fa00-458a-89cc-fcbf28f511b9",
   "metadata": {},
   "outputs": [],
   "source": [
    "player_ids3[player_ids3.index(\"isaiah-jackson-1\")] = \"isaiah-jackson-3\""
   ]
  },
  {
   "cell_type": "code",
   "execution_count": 388,
   "id": "a276ab4a-27d5-41e1-86db-38fc89a6403c",
   "metadata": {},
   "outputs": [],
   "source": [
    "player_ids3[player_ids3.index(\"keon-johnson-1\")] = \"keon-johnson-2\""
   ]
  },
  {
   "cell_type": "code",
   "execution_count": 389,
   "id": "5f230579-45d5-4093-88b5-3a74cbfef6ec",
   "metadata": {},
   "outputs": [],
   "source": [
    "player_ids3[player_ids3.index(\"jalen-johnson-1\")] = \"jalen-johnson-24\""
   ]
  },
  {
   "cell_type": "code",
   "execution_count": 390,
   "id": "c776910f-9f88-4e31-bc9a-fa403ed9494a",
   "metadata": {},
   "outputs": [],
   "source": [
    "player_ids3[player_ids3.index(\"trey-murphy-1\")] = \"trey-murphyiii-1\""
   ]
  },
  {
   "cell_type": "code",
   "execution_count": 391,
   "id": "8025ef2a-2cdb-4f98-85ef-69e239136f4a",
   "metadata": {},
   "outputs": [],
   "source": [
    "player_ids3[player_ids3.index(\"david-johnson-1\")] = \"david-johnson-13\""
   ]
  },
  {
   "cell_type": "code",
   "execution_count": 392,
   "id": "91cd3a95-f048-4794-b819-17fc7caa65d4",
   "metadata": {},
   "outputs": [],
   "source": [
    "player_ids3[player_ids3.index(\"greg-brown-1\")] = \"greg-brown-9\""
   ]
  },
  {
   "cell_type": "code",
   "execution_count": 393,
   "id": "b6cae146-02b6-4aac-9a6a-4d5d4c4ea42e",
   "metadata": {},
   "outputs": [],
   "source": [
    "player_ids3[player_ids3.index(\"herbert-jones-1\")] = \"herb-jones-3\""
   ]
  },
  {
   "cell_type": "code",
   "execution_count": 394,
   "id": "f9b23db5-d1ef-4b19-8f55-90e39d75a2f7",
   "metadata": {},
   "outputs": [],
   "source": [
    "player_ids3[player_ids3.index(\"cam-thomas-1\")] = \"cameron-thomas-1\""
   ]
  },
  {
   "cell_type": "code",
   "execution_count": 395,
   "id": "ae8cdff6-9bc2-4464-8330-e7b767128b02",
   "metadata": {},
   "outputs": [],
   "source": [
    "player_ids3[player_ids3.index(\"bones-hyland-1\")] = \"nahshon-hyland-1\""
   ]
  },
  {
   "cell_type": "code",
   "execution_count": 396,
   "id": "3206b65a-56ec-4aa3-a0e1-db212832003e",
   "metadata": {},
   "outputs": [],
   "source": [
    "player_ids3.remove(\"shaedon-sharpe-1\")"
   ]
  },
  {
   "cell_type": "code",
   "execution_count": 397,
   "id": "9e13597b-9455-4974-bb33-e5b4409685f8",
   "metadata": {},
   "outputs": [],
   "source": [
    "player_ids3[player_ids3.index(\"jabari-smith-1\")] = \"jabari-smith-2\""
   ]
  },
  {
   "cell_type": "code",
   "execution_count": 398,
   "id": "e3849e18-0515-455a-a4d1-674d7bebaaf5",
   "metadata": {},
   "outputs": [],
   "source": [
    "player_ids3[player_ids3.index(\"balša-koprivica-1\")] = \"balsa-koprivica-1\""
   ]
  },
  {
   "cell_type": "code",
   "execution_count": 399,
   "id": "51ec042e-55a5-4eb1-98fb-16d8585a7ce4",
   "metadata": {},
   "outputs": [],
   "source": [
    "player_ids3[player_ids3.index(\"brandon-boston-1\")] = \"brandon-bostonjr-1\""
   ]
  },
  {
   "cell_type": "code",
   "execution_count": 400,
   "id": "2bbaf694-ffcd-42cd-820d-fa94825142d6",
   "metadata": {},
   "outputs": [],
   "source": [
    "player_ids3[player_ids3.index(\"filip-petrušev-1\")] = \"filip-petrusev-1\""
   ]
  },
  {
   "cell_type": "code",
   "execution_count": 401,
   "id": "16021e52-0875-49a6-a8fd-67d470d8619b",
   "metadata": {},
   "outputs": [],
   "source": [
    "player_ids3[player_ids3.index(\"johnny-davis-1\")] = \"jonathan-davis-3\""
   ]
  },
  {
   "cell_type": "code",
   "execution_count": 402,
   "id": "1385c6b0-c898-4bdf-994c-541d6dc8f664",
   "metadata": {},
   "outputs": [],
   "source": [
    "player_ids3[player_ids3.index(\"tyty-washington-1\")] = \"tyty-washingtonjr-1\""
   ]
  },
  {
   "cell_type": "code",
   "execution_count": 403,
   "id": "b0cf996c-6d95-4283-ad09-e943d9656c38",
   "metadata": {},
   "outputs": [],
   "source": [
    "player_ids3[player_ids3.index(\"patrick-baldwin-1\")] = \"patrick-baldwinjr-1\""
   ]
  },
  {
   "cell_type": "code",
   "execution_count": 404,
   "id": "339e0312-92cb-4b21-92fb-27a3da92debc",
   "metadata": {},
   "outputs": [],
   "source": [
    "player_ids3[player_ids3.index(\"wendell-moore-1\")] = \"wendell-moorejr-1\""
   ]
  },
  {
   "cell_type": "code",
   "execution_count": 405,
   "id": "9aa70542-30ec-4bf3-925d-2df064f53d0b",
   "metadata": {},
   "outputs": [],
   "source": [
    "player_ids3[player_ids3.index(\"mark-williams-1\")] = \"mark-williams-7\""
   ]
  },
  {
   "cell_type": "code",
   "execution_count": 406,
   "id": "69056a32-9f15-4f59-a80e-a71747609c1a",
   "metadata": {},
   "outputs": [],
   "source": [
    "player_ids3[player_ids3.index(\"jalen-williams-1\")] = \"jalen-williams-13\""
   ]
  },
  {
   "cell_type": "code",
   "execution_count": 416,
   "id": "9b63f463-cc24-4449-8394-8f28bd3fed4e",
   "metadata": {},
   "outputs": [],
   "source": [
    "player_ids3[player_ids3.index(\"vince-williams-1\")] = \"vince-williams-2\""
   ]
  },
  {
   "cell_type": "code",
   "execution_count": 417,
   "id": "cae07c45-4eef-4a17-b24d-6fdc2d466454",
   "metadata": {},
   "outputs": [],
   "source": [
    "player_ids3[player_ids3.index(\"moussa-diabaté-1\")] = \"moussa-diabete-1\""
   ]
  },
  {
   "cell_type": "code",
   "execution_count": 514,
   "id": "de30fcf8-f9a5-4790-b058-2b4250a45bee",
   "metadata": {},
   "outputs": [],
   "source": [
    "player_ids3[player_ids3.index(\"moussa-diabete-1\")] = \"moussa-diabate-1\""
   ]
  },
  {
   "cell_type": "code",
   "execution_count": 418,
   "id": "1e60e09b-bef5-4767-86d7-17c72111bc5f",
   "metadata": {},
   "outputs": [],
   "source": [
    "player_ids3[player_ids3.index(\"jaylin-williams-1\")] = \"jaylin-williams-2\""
   ]
  },
  {
   "cell_type": "code",
   "execution_count": 485,
   "id": "a17640f6-a8d7-4195-87bf-cdab7572fc4e",
   "metadata": {},
   "outputs": [
    {
     "ename": "ValueError",
     "evalue": "'rov-devyn-marble-1' is not in list",
     "output_type": "error",
     "traceback": [
      "\u001b[0;31m---------------------------------------------------------------------------\u001b[0m",
      "\u001b[0;31mValueError\u001b[0m                                Traceback (most recent call last)",
      "Input \u001b[0;32mIn [485]\u001b[0m, in \u001b[0;36m<cell line: 1>\u001b[0;34m()\u001b[0m\n\u001b[0;32m----> 1\u001b[0m player_ids3[\u001b[43mplayer_ids3\u001b[49m\u001b[38;5;241;43m.\u001b[39;49m\u001b[43mindex\u001b[49m\u001b[43m(\u001b[49m\u001b[38;5;124;43m\"\u001b[39;49m\u001b[38;5;124;43mrov-devyn-marble-1\u001b[39;49m\u001b[38;5;124;43m\"\u001b[39;49m\u001b[43m)\u001b[49m] \u001b[38;5;241m=\u001b[39m \u001b[38;5;124m\"\u001b[39m\u001b[38;5;124mroy-devyn-marble-1\u001b[39m\u001b[38;5;124m\"\u001b[39m\n",
      "\u001b[0;31mValueError\u001b[0m: 'rov-devyn-marble-1' is not in list"
     ]
    }
   ],
   "source": [
    "player_ids3[player_ids3.index(\"rov-devyn-marble-1\")] = \"roy-devyn-marble-1\""
   ]
  },
  {
   "cell_type": "code",
   "execution_count": 507,
   "id": "c0a934b3-f2fd-4fb5-ad89-e612fb7011c3",
   "metadata": {},
   "outputs": [],
   "source": [
    "player_ids3[player_ids3.index(\"reggie-perry-1\")] = \"reggie-perry-2\""
   ]
  },
  {
   "cell_type": "markdown",
   "id": "e25d4cd6-c175-47f7-8b6f-0a5e6ae96191",
   "metadata": {},
   "source": [
    "# used ids to scrape 20 at a time to get around sports reference bot/traffic issues"
   ]
  },
  {
   "cell_type": "code",
   "execution_count": 22,
   "id": "ddd93feb-f247-44e8-b718-8800b426a165",
   "metadata": {},
   "outputs": [],
   "source": [
    "url_start = \"https://www.sports-reference.com/cbb/players/{}.html\""
   ]
  },
  {
   "cell_type": "code",
   "execution_count": 281,
   "id": "39c4f56b-69f1-473f-ba61-cee595724a02",
   "metadata": {},
   "outputs": [],
   "source": [
    "for player in player_ids3[0:20]:\n",
    "    url = url_start.format(player)\n",
    "    data = requests.get(url)\n",
    "    \n",
    "    with open(\"players/{}.html\".format(player), \"w+\") as f:\n",
    "        f.write(data.text)"
   ]
  },
  {
   "cell_type": "code",
   "execution_count": 28,
   "id": "e4bb7b38-aa7d-4fd4-bad1-65b0b33ee502",
   "metadata": {},
   "outputs": [],
   "source": [
    "for player in player_ids3[20:40]:\n",
    "    url = url_start.format(player)\n",
    "    data = requests.get(url)\n",
    "    \n",
    "    with open(\"players/{}.html\".format(player), \"w+\") as f:\n",
    "        f.write(data.text)"
   ]
  },
  {
   "cell_type": "code",
   "execution_count": 30,
   "id": "3cacc1a4-a1d8-4917-9438-6b9fc8173a93",
   "metadata": {},
   "outputs": [],
   "source": [
    "for player in player_ids3[40:60]:\n",
    "    url = url_start.format(player)\n",
    "    data = requests.get(url)\n",
    "    \n",
    "    with open(\"players/{}.html\".format(player), \"w+\") as f:\n",
    "        f.write(data.text)"
   ]
  },
  {
   "cell_type": "code",
   "execution_count": 407,
   "id": "c443a693-2788-4b03-a553-48acb8b6aded",
   "metadata": {},
   "outputs": [],
   "source": [
    "for player in player_ids3[60:80]:\n",
    "    url = url_start.format(player)\n",
    "    data = requests.get(url)\n",
    "    \n",
    "    with open(\"players/{}.html\".format(player), \"w+\") as f:\n",
    "        f.write(data.text)"
   ]
  },
  {
   "cell_type": "code",
   "execution_count": 32,
   "id": "f4e0cb27-d625-454c-9d1c-f3d150792480",
   "metadata": {},
   "outputs": [],
   "source": [
    "for player in player_ids3[80:100]:\n",
    "    url = url_start.format(player)\n",
    "    data = requests.get(url)\n",
    "    \n",
    "    with open(\"players/{}.html\".format(player), \"w+\") as f:\n",
    "        f.write(data.text)"
   ]
  },
  {
   "cell_type": "code",
   "execution_count": 33,
   "id": "6ea0c96f-1767-43f0-8de9-1ee79608f439",
   "metadata": {},
   "outputs": [],
   "source": [
    "for player in player_ids3[100:120]:\n",
    "    url = url_start.format(player)\n",
    "    data = requests.get(url)\n",
    "    \n",
    "    with open(\"players/{}.html\".format(player), \"w+\") as f:\n",
    "        f.write(data.text)"
   ]
  },
  {
   "cell_type": "code",
   "execution_count": 36,
   "id": "fc79536e-5957-4f87-8948-e8cbab519532",
   "metadata": {},
   "outputs": [],
   "source": [
    "for player in player_ids3[120:140]:\n",
    "    url = url_start.format(player)\n",
    "    data = requests.get(url)\n",
    "    \n",
    "    with open(\"players/{}.html\".format(player), \"w+\") as f:\n",
    "        f.write(data.text)"
   ]
  },
  {
   "cell_type": "code",
   "execution_count": 46,
   "id": "42f674db-e0b9-43a4-827a-8549f206dc3d",
   "metadata": {},
   "outputs": [],
   "source": [
    "for player in player_ids3[140:160]:\n",
    "    url = url_start.format(player)\n",
    "    data = requests.get(url)\n",
    "    \n",
    "    with open(\"players/{}.html\".format(player), \"w+\") as f:\n",
    "        f.write(data.text)"
   ]
  },
  {
   "cell_type": "code",
   "execution_count": 472,
   "id": "f0353847-68a9-4af3-a7f4-b449ce5aca25",
   "metadata": {},
   "outputs": [],
   "source": [
    "for player in player_ids3[160:180]:\n",
    "    url = url_start.format(player)\n",
    "    data = requests.get(url)\n",
    "    \n",
    "    with open(\"players/{}.html\".format(player), \"w+\") as f:\n",
    "        f.write(data.text)"
   ]
  },
  {
   "cell_type": "code",
   "execution_count": 58,
   "id": "b0bcd479-ab40-4701-b030-98fb6c3a27fb",
   "metadata": {},
   "outputs": [],
   "source": [
    "for player in player_ids3[180:200]:\n",
    "    url = url_start.format(player)\n",
    "    data = requests.get(url)\n",
    "    \n",
    "    with open(\"players/{}.html\".format(player), \"w+\") as f:\n",
    "        f.write(data.text)"
   ]
  },
  {
   "cell_type": "code",
   "execution_count": 62,
   "id": "b9c0e999-4ada-4da4-83f8-181896179348",
   "metadata": {},
   "outputs": [],
   "source": [
    "for player in player_ids3[200:220]:\n",
    "    url = url_start.format(player)\n",
    "    data = requests.get(url)\n",
    "    \n",
    "    with open(\"players/{}.html\".format(player), \"w+\") as f:\n",
    "        f.write(data.text)"
   ]
  },
  {
   "cell_type": "code",
   "execution_count": 63,
   "id": "8b4caa5d-458f-4039-b877-bce34670a7fe",
   "metadata": {},
   "outputs": [],
   "source": [
    "for player in player_ids3[220:240]:\n",
    "    url = url_start.format(player)\n",
    "    data = requests.get(url)\n",
    "    \n",
    "    with open(\"players/{}.html\".format(player), \"w+\") as f:\n",
    "        f.write(data.text)"
   ]
  },
  {
   "cell_type": "code",
   "execution_count": 69,
   "id": "b1efb1ea-d2af-4af2-a9c0-5dff6a603ec0",
   "metadata": {},
   "outputs": [],
   "source": [
    "for player in player_ids3[240:260]:\n",
    "    url = url_start.format(player)\n",
    "    data = requests.get(url)\n",
    "    \n",
    "    with open(\"players/{}.html\".format(player), \"w+\") as f:\n",
    "        f.write(data.text)"
   ]
  },
  {
   "cell_type": "code",
   "execution_count": 70,
   "id": "833c0c00-f0b9-42ff-9145-696325e9107e",
   "metadata": {},
   "outputs": [],
   "source": [
    "for player in player_ids3[260:280]:\n",
    "    url = url_start.format(player)\n",
    "    data = requests.get(url)\n",
    "    \n",
    "    with open(\"players/{}.html\".format(player), \"w+\") as f:\n",
    "        f.write(data.text)"
   ]
  },
  {
   "cell_type": "code",
   "execution_count": 74,
   "id": "863d534e-c7df-44f1-91ac-5b69c7bb6751",
   "metadata": {},
   "outputs": [],
   "source": [
    "for player in player_ids3[280:300]:\n",
    "    url = url_start.format(player)\n",
    "    data = requests.get(url)\n",
    "    \n",
    "    with open(\"players/{}.html\".format(player), \"w+\") as f:\n",
    "        f.write(data.text)"
   ]
  },
  {
   "cell_type": "code",
   "execution_count": 79,
   "id": "9ddb2837-8730-4b33-843e-fbd30b4914bd",
   "metadata": {},
   "outputs": [],
   "source": [
    "for player in player_ids3[300:320]:\n",
    "    url = url_start.format(player)\n",
    "    data = requests.get(url)\n",
    "    \n",
    "    with open(\"players/{}.html\".format(player), \"w+\") as f:\n",
    "        f.write(data.text)"
   ]
  },
  {
   "cell_type": "code",
   "execution_count": 83,
   "id": "43fceb38-bf69-4dbb-aea3-03528ea2049e",
   "metadata": {},
   "outputs": [],
   "source": [
    "for player in player_ids3[320:340]:\n",
    "    url = url_start.format(player)\n",
    "    data = requests.get(url)\n",
    "    \n",
    "    with open(\"players/{}.html\".format(player), \"w+\") as f:\n",
    "        f.write(data.text)"
   ]
  },
  {
   "cell_type": "code",
   "execution_count": 87,
   "id": "6c40ece1-051c-4926-af55-e9d494c6c6c0",
   "metadata": {},
   "outputs": [],
   "source": [
    "for player in player_ids3[340:360]:\n",
    "    url = url_start.format(player)\n",
    "    data = requests.get(url)\n",
    "    \n",
    "    with open(\"players/{}.html\".format(player), \"w+\") as f:\n",
    "        f.write(data.text)"
   ]
  },
  {
   "cell_type": "code",
   "execution_count": 95,
   "id": "e294c788-0a2d-4111-a788-0dc6519d7c45",
   "metadata": {},
   "outputs": [],
   "source": [
    "for player in player_ids3[360:380]:\n",
    "    url = url_start.format(player)\n",
    "    data = requests.get(url)\n",
    "    \n",
    "    with open(\"players/{}.html\".format(player), \"w+\") as f:\n",
    "        f.write(data.text)"
   ]
  },
  {
   "cell_type": "code",
   "execution_count": 96,
   "id": "86bd01bd-55c8-4cb0-bdbc-329d2080a705",
   "metadata": {},
   "outputs": [],
   "source": [
    "for player in player_ids3[380:400]:\n",
    "    url = url_start.format(player)\n",
    "    data = requests.get(url)\n",
    "    \n",
    "    with open(\"players/{}.html\".format(player), \"w+\") as f:\n",
    "        f.write(data.text)"
   ]
  },
  {
   "cell_type": "code",
   "execution_count": 101,
   "id": "6d2e37a0-3881-4844-b1d7-666335d45c75",
   "metadata": {},
   "outputs": [],
   "source": [
    "for player in player_ids3[400:420]:\n",
    "    url = url_start.format(player)\n",
    "    data = requests.get(url)\n",
    "    \n",
    "    with open(\"players/{}.html\".format(player), \"w+\") as f:\n",
    "        f.write(data.text)"
   ]
  },
  {
   "cell_type": "code",
   "execution_count": 486,
   "id": "7d8ebaed-4cfe-4da9-9a2e-6bbf8daea5c6",
   "metadata": {},
   "outputs": [],
   "source": [
    "for player in player_ids3[420:440]:\n",
    "    url = url_start.format(player)\n",
    "    data = requests.get(url)\n",
    "    \n",
    "    with open(\"players/{}.html\".format(player), \"w+\") as f:\n",
    "        f.write(data.text)"
   ]
  },
  {
   "cell_type": "code",
   "execution_count": 111,
   "id": "80467f8a-11d6-48c5-b5a4-037dfa603d8a",
   "metadata": {},
   "outputs": [],
   "source": [
    "for player in player_ids3[440:460]:\n",
    "    url = url_start.format(player)\n",
    "    data = requests.get(url)\n",
    "    \n",
    "    with open(\"players/{}.html\".format(player), \"w+\") as f:\n",
    "        f.write(data.text)"
   ]
  },
  {
   "cell_type": "code",
   "execution_count": 116,
   "id": "8275c53f-f985-406e-96b3-7ac26895096d",
   "metadata": {},
   "outputs": [],
   "source": [
    "for player in player_ids3[460:480]:\n",
    "    url = url_start.format(player)\n",
    "    data = requests.get(url)\n",
    "    \n",
    "    with open(\"players/{}.html\".format(player), \"w+\") as f:\n",
    "        f.write(data.text)"
   ]
  },
  {
   "cell_type": "code",
   "execution_count": 120,
   "id": "d7e3a006-dcd5-4c10-95f5-4d36c19f7a57",
   "metadata": {},
   "outputs": [],
   "source": [
    "for player in player_ids3[480:500]:\n",
    "    url = url_start.format(player)\n",
    "    data = requests.get(url)\n",
    "    \n",
    "    with open(\"players/{}.html\".format(player), \"w+\") as f:\n",
    "        f.write(data.text)"
   ]
  },
  {
   "cell_type": "code",
   "execution_count": 126,
   "id": "bfdf9ed6-6d37-41af-8108-0ebc60ddd6b1",
   "metadata": {},
   "outputs": [],
   "source": [
    "for player in player_ids3[500:520]:\n",
    "    url = url_start.format(player)\n",
    "    data = requests.get(url)\n",
    "    \n",
    "    with open(\"players/{}.html\".format(player), \"w+\") as f:\n",
    "        f.write(data.text)"
   ]
  },
  {
   "cell_type": "code",
   "execution_count": 135,
   "id": "ed5cea9a-800c-4adf-8eef-044fa590209c",
   "metadata": {},
   "outputs": [],
   "source": [
    "for player in player_ids3[520:540]:\n",
    "    url = url_start.format(player)\n",
    "    data = requests.get(url)\n",
    "    \n",
    "    with open(\"players/{}.html\".format(player), \"w+\") as f:\n",
    "        f.write(data.text)"
   ]
  },
  {
   "cell_type": "code",
   "execution_count": 146,
   "id": "9da75ef9-a182-4ba6-a454-cc63a6318633",
   "metadata": {},
   "outputs": [],
   "source": [
    "for player in player_ids3[540:560]:\n",
    "    url = url_start.format(player)\n",
    "    data = requests.get(url)\n",
    "    \n",
    "    with open(\"players/{}.html\".format(player), \"w+\") as f:\n",
    "        f.write(data.text)"
   ]
  },
  {
   "cell_type": "code",
   "execution_count": 153,
   "id": "50e3863c-e4c8-4fc2-b338-cbc13ab4a175",
   "metadata": {},
   "outputs": [],
   "source": [
    "for player in player_ids3[560:580]:\n",
    "    url = url_start.format(player)\n",
    "    data = requests.get(url)\n",
    "    \n",
    "    with open(\"players/{}.html\".format(player), \"w+\") as f:\n",
    "        f.write(data.text)"
   ]
  },
  {
   "cell_type": "code",
   "execution_count": 160,
   "id": "f7438fef-660e-49e8-91ac-24717e4a05a3",
   "metadata": {},
   "outputs": [],
   "source": [
    "for player in player_ids3[580:600]:\n",
    "    url = url_start.format(player)\n",
    "    data = requests.get(url)\n",
    "    \n",
    "    with open(\"players/{}.html\".format(player), \"w+\") as f:\n",
    "        f.write(data.text)"
   ]
  },
  {
   "cell_type": "code",
   "execution_count": 499,
   "id": "f83595eb-cde7-4568-ad12-12af5f4b367f",
   "metadata": {},
   "outputs": [],
   "source": [
    "for player in player_ids3[600:620]:\n",
    "    url = url_start.format(player)\n",
    "    data = requests.get(url)\n",
    "    \n",
    "    with open(\"players/{}.html\".format(player), \"w+\") as f:\n",
    "        f.write(data.text)"
   ]
  },
  {
   "cell_type": "code",
   "execution_count": 495,
   "id": "b38f4746-d672-4e31-b1e7-16b3351a99c9",
   "metadata": {},
   "outputs": [],
   "source": [
    "for player in player_ids3[620:640]:\n",
    "    url = url_start.format(player)\n",
    "    data = requests.get(url)\n",
    "    \n",
    "    with open(\"players/{}.html\".format(player), \"w+\") as f:\n",
    "        f.write(data.text)"
   ]
  },
  {
   "cell_type": "code",
   "execution_count": 502,
   "id": "bafb5cca-d840-4f42-8d9f-769d9f36c9b6",
   "metadata": {},
   "outputs": [],
   "source": [
    "for player in player_ids3[640:660]:\n",
    "    url = url_start.format(player)\n",
    "    data = requests.get(url)\n",
    "    \n",
    "    with open(\"players/{}.html\".format(player), \"w+\") as f:\n",
    "        f.write(data.text)"
   ]
  },
  {
   "cell_type": "code",
   "execution_count": 192,
   "id": "d524a48c-5486-4b77-92e1-ede67ad8ee8b",
   "metadata": {},
   "outputs": [],
   "source": [
    "for player in player_ids3[660:680]:\n",
    "    url = url_start.format(player)\n",
    "    data = requests.get(url)\n",
    "    \n",
    "    with open(\"players/{}.html\".format(player), \"w+\") as f:\n",
    "        f.write(data.text)"
   ]
  },
  {
   "cell_type": "code",
   "execution_count": 199,
   "id": "1528d401-450a-46a2-a320-90051411ac1f",
   "metadata": {},
   "outputs": [],
   "source": [
    "for player in player_ids3[680:700]:\n",
    "    url = url_start.format(player)\n",
    "    data = requests.get(url)\n",
    "    \n",
    "    with open(\"players/{}.html\".format(player), \"w+\") as f:\n",
    "        f.write(data.text)"
   ]
  },
  {
   "cell_type": "code",
   "execution_count": 210,
   "id": "904518a8-1d5a-4917-8be3-958efb13d2ac",
   "metadata": {},
   "outputs": [],
   "source": [
    "for player in player_ids3[700:720]:\n",
    "    url = url_start.format(player)\n",
    "    data = requests.get(url)\n",
    "    \n",
    "    with open(\"players/{}.html\".format(player), \"w+\") as f:\n",
    "        f.write(data.text)"
   ]
  },
  {
   "cell_type": "code",
   "execution_count": 216,
   "id": "f8b611cb-75c1-4e9e-baab-b4016db6d808",
   "metadata": {},
   "outputs": [],
   "source": [
    "for player in player_ids3[720:740]:\n",
    "    url = url_start.format(player)\n",
    "    data = requests.get(url)\n",
    "    \n",
    "    with open(\"players/{}.html\".format(player), \"w+\") as f:\n",
    "        f.write(data.text)"
   ]
  },
  {
   "cell_type": "code",
   "execution_count": 239,
   "id": "51765300-4e41-4976-9ccf-19bd1dd31d75",
   "metadata": {},
   "outputs": [],
   "source": [
    "for player in player_ids3[740:760]:\n",
    "    url = url_start.format(player)\n",
    "    data = requests.get(url)\n",
    "    \n",
    "    with open(\"players/{}.html\".format(player), \"w+\") as f:\n",
    "        f.write(data.text)"
   ]
  },
  {
   "cell_type": "code",
   "execution_count": 257,
   "id": "1dea06bd-641b-4f59-b148-d3e20873b11c",
   "metadata": {},
   "outputs": [],
   "source": [
    "for player in player_ids3[760:780]:\n",
    "    url = url_start.format(player)\n",
    "    data = requests.get(url)\n",
    "    \n",
    "    with open(\"players/{}.html\".format(player), \"w+\") as f:\n",
    "        f.write(data.text)"
   ]
  },
  {
   "cell_type": "code",
   "execution_count": 408,
   "id": "bca0116e-b0ce-4960-b128-5da7c5f6f614",
   "metadata": {},
   "outputs": [],
   "source": [
    "for player in player_ids3[780:800]:\n",
    "    url = url_start.format(player)\n",
    "    data = requests.get(url)\n",
    "    \n",
    "    with open(\"players/{}.html\".format(player), \"w+\") as f:\n",
    "        f.write(data.text)"
   ]
  },
  {
   "cell_type": "code",
   "execution_count": 515,
   "id": "d77e2fb8-9e3b-4106-a94c-e06a1daeb4c9",
   "metadata": {},
   "outputs": [],
   "source": [
    "for player in player_ids3[800:815]:\n",
    "    url = url_start.format(player)\n",
    "    data = requests.get(url)\n",
    "    \n",
    "    with open(\"players/{}.html\".format(player), \"w+\") as f:\n",
    "        f.write(data.text)"
   ]
  },
  {
   "cell_type": "code",
   "execution_count": 469,
   "id": "c4e5b18f-94be-4538-b2d1-cc4415033ea5",
   "metadata": {},
   "outputs": [],
   "source": [
    "import warnings\n",
    "warnings.filterwarnings('ignore')"
   ]
  },
  {
   "cell_type": "code",
   "execution_count": 516,
   "id": "b87debbf-aa18-4e0d-a1c3-623f76ea0c40",
   "metadata": {},
   "outputs": [],
   "source": [
    "# template, use this with a for loop\n",
    "dfs = []\n",
    "\n",
    "for player in player_ids3:\n",
    "    with open(\"players/{}.html\".format(player)) as f:\n",
    "        page = f.read()\n",
    "        soup = BeautifulSoup(page, \"html.parser\")\n",
    "    player_table = soup.find(id='players_per_game')\n",
    "    player_df = pd.read_html(str(player_table))[0]\n",
    "    player_career = player_df.loc[player_df['Season'] == 'Career']\n",
    "    player_career['Years Played'] = len(player_df.index)\n",
    "    dfs.append(player_career)\n"
   ]
  },
  {
   "cell_type": "code",
   "execution_count": 517,
   "id": "5ba9cf0d-9f63-491e-a6ff-a3f87756adb0",
   "metadata": {},
   "outputs": [],
   "source": [
    "player_df = pd.concat(dfs)"
   ]
  },
  {
   "cell_type": "code",
   "execution_count": 437,
   "id": "498d3a2a-44a0-4d06-adae-5bec74b6f413",
   "metadata": {},
   "outputs": [],
   "source": [
    "names = list(names)\n",
    "names.remove(\"Ricky Ledo\")\n",
    "names.remove(\"Jay Scrubb\")\n",
    "names.remove(\"Shaedon Sharpe\")"
   ]
  },
  {
   "cell_type": "code",
   "execution_count": 519,
   "id": "ddc6dbc6-7cd8-49b4-9bfa-48303767c74b",
   "metadata": {},
   "outputs": [],
   "source": [
    "player_df['Player'] = names"
   ]
  },
  {
   "cell_type": "code",
   "execution_count": 524,
   "id": "abc9ad36-47ee-4559-9adb-2cd2a4571ca9",
   "metadata": {},
   "outputs": [
    {
     "data": {
      "text/html": [
       "<div>\n",
       "<style scoped>\n",
       "    .dataframe tbody tr th:only-of-type {\n",
       "        vertical-align: middle;\n",
       "    }\n",
       "\n",
       "    .dataframe tbody tr th {\n",
       "        vertical-align: top;\n",
       "    }\n",
       "\n",
       "    .dataframe thead th {\n",
       "        text-align: right;\n",
       "    }\n",
       "</style>\n",
       "<table border=\"1\" class=\"dataframe\">\n",
       "  <thead>\n",
       "    <tr style=\"text-align: right;\">\n",
       "      <th></th>\n",
       "      <th>Rk</th>\n",
       "      <th>Pk</th>\n",
       "      <th>Tm</th>\n",
       "      <th>Player</th>\n",
       "      <th>College</th>\n",
       "      <th>Yrs</th>\n",
       "      <th>G</th>\n",
       "      <th>MP</th>\n",
       "      <th>PTS</th>\n",
       "      <th>TRB</th>\n",
       "      <th>...</th>\n",
       "      <th>FT%</th>\n",
       "      <th>MP.1</th>\n",
       "      <th>PTS.1</th>\n",
       "      <th>TRB.1</th>\n",
       "      <th>AST.1</th>\n",
       "      <th>WS</th>\n",
       "      <th>WS/48</th>\n",
       "      <th>BPM</th>\n",
       "      <th>VORP</th>\n",
       "      <th>Year</th>\n",
       "    </tr>\n",
       "  </thead>\n",
       "  <tbody>\n",
       "    <tr>\n",
       "      <th>372</th>\n",
       "      <td>43</td>\n",
       "      <td>43</td>\n",
       "      <td>MIL</td>\n",
       "      <td>Ricky Ledo</td>\n",
       "      <td>Providence</td>\n",
       "      <td>2</td>\n",
       "      <td>28</td>\n",
       "      <td>277</td>\n",
       "      <td>109</td>\n",
       "      <td>38</td>\n",
       "      <td>...</td>\n",
       "      <td>.769</td>\n",
       "      <td>9.9</td>\n",
       "      <td>3.9</td>\n",
       "      <td>1.4</td>\n",
       "      <td>0.8</td>\n",
       "      <td>-0.6</td>\n",
       "      <td>-.096</td>\n",
       "      <td>-7.6</td>\n",
       "      <td>-0.4</td>\n",
       "      <td>2013</td>\n",
       "    </tr>\n",
       "  </tbody>\n",
       "</table>\n",
       "<p>1 rows × 23 columns</p>\n",
       "</div>"
      ],
      "text/plain": [
       "     Rk  Pk   Tm      Player     College Yrs   G   MP  PTS TRB  ...   FT%  \\\n",
       "372  43  43  MIL  Ricky Ledo  Providence   2  28  277  109  38  ...  .769   \n",
       "\n",
       "    MP.1 PTS.1 TRB.1 AST.1    WS  WS/48   BPM  VORP  Year  \n",
       "372  9.9   3.9   1.4   0.8  -0.6  -.096  -7.6  -0.4  2013  \n",
       "\n",
       "[1 rows x 23 columns]"
      ]
     },
     "execution_count": 524,
     "metadata": {},
     "output_type": "execute_result"
    }
   ],
   "source": [
    "college_players.loc[college_players['Player'] == \"Ricky Ledo\"]"
   ]
  },
  {
   "cell_type": "code",
   "execution_count": 528,
   "id": "c3fb0c01-3e3c-47b8-a351-39a548a893e9",
   "metadata": {},
   "outputs": [
    {
     "data": {
      "text/html": [
       "<div>\n",
       "<style scoped>\n",
       "    .dataframe tbody tr th:only-of-type {\n",
       "        vertical-align: middle;\n",
       "    }\n",
       "\n",
       "    .dataframe tbody tr th {\n",
       "        vertical-align: top;\n",
       "    }\n",
       "\n",
       "    .dataframe thead th {\n",
       "        text-align: right;\n",
       "    }\n",
       "</style>\n",
       "<table border=\"1\" class=\"dataframe\">\n",
       "  <thead>\n",
       "    <tr style=\"text-align: right;\">\n",
       "      <th></th>\n",
       "      <th>Rk</th>\n",
       "      <th>Pk</th>\n",
       "      <th>Tm</th>\n",
       "      <th>Player</th>\n",
       "      <th>College</th>\n",
       "      <th>Yrs</th>\n",
       "      <th>G</th>\n",
       "      <th>MP</th>\n",
       "      <th>PTS</th>\n",
       "      <th>TRB</th>\n",
       "      <th>...</th>\n",
       "      <th>FT%</th>\n",
       "      <th>MP.1</th>\n",
       "      <th>PTS.1</th>\n",
       "      <th>TRB.1</th>\n",
       "      <th>AST.1</th>\n",
       "      <th>WS</th>\n",
       "      <th>WS/48</th>\n",
       "      <th>BPM</th>\n",
       "      <th>VORP</th>\n",
       "      <th>Year</th>\n",
       "    </tr>\n",
       "  </thead>\n",
       "  <tbody>\n",
       "    <tr>\n",
       "      <th>717</th>\n",
       "      <td>55</td>\n",
       "      <td>55</td>\n",
       "      <td>BRK</td>\n",
       "      <td>Jay Scrubb</td>\n",
       "      <td>John A. Logan College</td>\n",
       "      <td>2</td>\n",
       "      <td>22</td>\n",
       "      <td>205</td>\n",
       "      <td>84</td>\n",
       "      <td>30</td>\n",
       "      <td>...</td>\n",
       "      <td>.800</td>\n",
       "      <td>9.3</td>\n",
       "      <td>3.8</td>\n",
       "      <td>1.4</td>\n",
       "      <td>0.4</td>\n",
       "      <td>-0.1</td>\n",
       "      <td>-.028</td>\n",
       "      <td>-7.3</td>\n",
       "      <td>-0.3</td>\n",
       "      <td>2020</td>\n",
       "    </tr>\n",
       "  </tbody>\n",
       "</table>\n",
       "<p>1 rows × 23 columns</p>\n",
       "</div>"
      ],
      "text/plain": [
       "     Rk  Pk   Tm      Player                College Yrs   G   MP PTS TRB  ...  \\\n",
       "717  55  55  BRK  Jay Scrubb  John A. Logan College   2  22  205  84  30  ...   \n",
       "\n",
       "      FT% MP.1 PTS.1 TRB.1 AST.1    WS  WS/48   BPM  VORP  Year  \n",
       "717  .800  9.3   3.8   1.4   0.4  -0.1  -.028  -7.3  -0.3  2020  \n",
       "\n",
       "[1 rows x 23 columns]"
      ]
     },
     "execution_count": 528,
     "metadata": {},
     "output_type": "execute_result"
    }
   ],
   "source": [
    "college_players.loc[college_players['Player'] == \"Jay Scrubb\"]"
   ]
  },
  {
   "cell_type": "code",
   "execution_count": 529,
   "id": "ce6c8d88-cd7a-4fbc-b919-dbb4b26b2c2d",
   "metadata": {},
   "outputs": [
    {
     "data": {
      "text/html": [
       "<div>\n",
       "<style scoped>\n",
       "    .dataframe tbody tr th:only-of-type {\n",
       "        vertical-align: middle;\n",
       "    }\n",
       "\n",
       "    .dataframe tbody tr th {\n",
       "        vertical-align: top;\n",
       "    }\n",
       "\n",
       "    .dataframe thead th {\n",
       "        text-align: right;\n",
       "    }\n",
       "</style>\n",
       "<table border=\"1\" class=\"dataframe\">\n",
       "  <thead>\n",
       "    <tr style=\"text-align: right;\">\n",
       "      <th></th>\n",
       "      <th>Rk</th>\n",
       "      <th>Pk</th>\n",
       "      <th>Tm</th>\n",
       "      <th>Player</th>\n",
       "      <th>College</th>\n",
       "      <th>Yrs</th>\n",
       "      <th>G</th>\n",
       "      <th>MP</th>\n",
       "      <th>PTS</th>\n",
       "      <th>TRB</th>\n",
       "      <th>...</th>\n",
       "      <th>FT%</th>\n",
       "      <th>MP.1</th>\n",
       "      <th>PTS.1</th>\n",
       "      <th>TRB.1</th>\n",
       "      <th>AST.1</th>\n",
       "      <th>WS</th>\n",
       "      <th>WS/48</th>\n",
       "      <th>BPM</th>\n",
       "      <th>VORP</th>\n",
       "      <th>Year</th>\n",
       "    </tr>\n",
       "  </thead>\n",
       "  <tbody>\n",
       "    <tr>\n",
       "      <th>780</th>\n",
       "      <td>7</td>\n",
       "      <td>7</td>\n",
       "      <td>POR</td>\n",
       "      <td>Shaedon Sharpe</td>\n",
       "      <td>Kentucky</td>\n",
       "      <td>1</td>\n",
       "      <td>40</td>\n",
       "      <td>777</td>\n",
       "      <td>300</td>\n",
       "      <td>97</td>\n",
       "      <td>...</td>\n",
       "      <td>.611</td>\n",
       "      <td>19.4</td>\n",
       "      <td>7.5</td>\n",
       "      <td>2.4</td>\n",
       "      <td>0.5</td>\n",
       "      <td>0.6</td>\n",
       "      <td>.036</td>\n",
       "      <td>-4.3</td>\n",
       "      <td>-0.4</td>\n",
       "      <td>2022</td>\n",
       "    </tr>\n",
       "  </tbody>\n",
       "</table>\n",
       "<p>1 rows × 23 columns</p>\n",
       "</div>"
      ],
      "text/plain": [
       "    Rk Pk   Tm          Player   College Yrs   G   MP  PTS TRB  ...   FT%  \\\n",
       "780  7  7  POR  Shaedon Sharpe  Kentucky   1  40  777  300  97  ...  .611   \n",
       "\n",
       "     MP.1 PTS.1 TRB.1 AST.1   WS WS/48   BPM  VORP  Year  \n",
       "780  19.4   7.5   2.4   0.5  0.6  .036  -4.3  -0.4  2022  \n",
       "\n",
       "[1 rows x 23 columns]"
      ]
     },
     "execution_count": 529,
     "metadata": {},
     "output_type": "execute_result"
    }
   ],
   "source": [
    "college_players.loc[college_players['Player'] == \"Shaedon Sharpe\"]"
   ]
  },
  {
   "cell_type": "code",
   "execution_count": 548,
   "id": "1206debc-5b69-4325-a982-64a6671a9fda",
   "metadata": {},
   "outputs": [
    {
     "data": {
      "text/html": [
       "<div>\n",
       "<style scoped>\n",
       "    .dataframe tbody tr th:only-of-type {\n",
       "        vertical-align: middle;\n",
       "    }\n",
       "\n",
       "    .dataframe tbody tr th {\n",
       "        vertical-align: top;\n",
       "    }\n",
       "\n",
       "    .dataframe thead th {\n",
       "        text-align: right;\n",
       "    }\n",
       "</style>\n",
       "<table border=\"1\" class=\"dataframe\">\n",
       "  <thead>\n",
       "    <tr style=\"text-align: right;\">\n",
       "      <th></th>\n",
       "      <th>Season</th>\n",
       "      <th>School</th>\n",
       "      <th>Conf</th>\n",
       "      <th>G</th>\n",
       "      <th>GS</th>\n",
       "      <th>MP</th>\n",
       "      <th>FG</th>\n",
       "      <th>FGA</th>\n",
       "      <th>FG%</th>\n",
       "      <th>2P</th>\n",
       "      <th>...</th>\n",
       "      <th>AST</th>\n",
       "      <th>STL</th>\n",
       "      <th>BLK</th>\n",
       "      <th>TOV</th>\n",
       "      <th>PF</th>\n",
       "      <th>PTS</th>\n",
       "      <th>Unnamed: 27</th>\n",
       "      <th>SOS</th>\n",
       "      <th>Years Played</th>\n",
       "      <th>Player</th>\n",
       "    </tr>\n",
       "  </thead>\n",
       "  <tbody>\n",
       "    <tr>\n",
       "      <th>2</th>\n",
       "      <td>Career</td>\n",
       "      <td>Texas</td>\n",
       "      <td>NaN</td>\n",
       "      <td>53</td>\n",
       "      <td>53</td>\n",
       "      <td>30.2</td>\n",
       "      <td>5.2</td>\n",
       "      <td>8.9</td>\n",
       "      <td>0.586</td>\n",
       "      <td>5.2</td>\n",
       "      <td>...</td>\n",
       "      <td>0.6</td>\n",
       "      <td>1.3</td>\n",
       "      <td>1.8</td>\n",
       "      <td>1.6</td>\n",
       "      <td>2.7</td>\n",
       "      <td>13.5</td>\n",
       "      <td>NaN</td>\n",
       "      <td>7.28</td>\n",
       "      <td>3</td>\n",
       "      <td>LaMarcus Aldridge</td>\n",
       "    </tr>\n",
       "    <tr>\n",
       "      <th>3</th>\n",
       "      <td>Career</td>\n",
       "      <td>Gonzaga</td>\n",
       "      <td>NaN</td>\n",
       "      <td>95</td>\n",
       "      <td>62</td>\n",
       "      <td>30.6</td>\n",
       "      <td>7.0</td>\n",
       "      <td>14.0</td>\n",
       "      <td>0.503</td>\n",
       "      <td>5.7</td>\n",
       "      <td>...</td>\n",
       "      <td>2.0</td>\n",
       "      <td>0.7</td>\n",
       "      <td>0.4</td>\n",
       "      <td>1.7</td>\n",
       "      <td>1.7</td>\n",
       "      <td>19.7</td>\n",
       "      <td>NaN</td>\n",
       "      <td>4.23</td>\n",
       "      <td>4</td>\n",
       "      <td>Adam Morrison</td>\n",
       "    </tr>\n",
       "    <tr>\n",
       "      <th>1</th>\n",
       "      <td>Career</td>\n",
       "      <td>LSU</td>\n",
       "      <td>NaN</td>\n",
       "      <td>32</td>\n",
       "      <td>21</td>\n",
       "      <td>25.9</td>\n",
       "      <td>4.8</td>\n",
       "      <td>7.8</td>\n",
       "      <td>0.608</td>\n",
       "      <td>4.7</td>\n",
       "      <td>...</td>\n",
       "      <td>1.3</td>\n",
       "      <td>1.0</td>\n",
       "      <td>3.1</td>\n",
       "      <td>1.8</td>\n",
       "      <td>2.6</td>\n",
       "      <td>12.3</td>\n",
       "      <td>NaN</td>\n",
       "      <td>8.77</td>\n",
       "      <td>2</td>\n",
       "      <td>Tyrus Thomas</td>\n",
       "    </tr>\n",
       "    <tr>\n",
       "      <th>4</th>\n",
       "      <td>Career</td>\n",
       "      <td>Duke</td>\n",
       "      <td>NaN</td>\n",
       "      <td>139</td>\n",
       "      <td>128</td>\n",
       "      <td>28.1</td>\n",
       "      <td>4.9</td>\n",
       "      <td>8.6</td>\n",
       "      <td>0.572</td>\n",
       "      <td>4.9</td>\n",
       "      <td>...</td>\n",
       "      <td>0.9</td>\n",
       "      <td>1.2</td>\n",
       "      <td>3.0</td>\n",
       "      <td>2.3</td>\n",
       "      <td>3.1</td>\n",
       "      <td>13.9</td>\n",
       "      <td>NaN</td>\n",
       "      <td>9.51</td>\n",
       "      <td>5</td>\n",
       "      <td>Shelden Williams</td>\n",
       "    </tr>\n",
       "    <tr>\n",
       "      <th>4</th>\n",
       "      <td>Career</td>\n",
       "      <td>Washington</td>\n",
       "      <td>NaN</td>\n",
       "      <td>103</td>\n",
       "      <td>71</td>\n",
       "      <td>27.5</td>\n",
       "      <td>5.2</td>\n",
       "      <td>10.1</td>\n",
       "      <td>0.512</td>\n",
       "      <td>4.7</td>\n",
       "      <td>...</td>\n",
       "      <td>3.0</td>\n",
       "      <td>1.0</td>\n",
       "      <td>0.5</td>\n",
       "      <td>2.1</td>\n",
       "      <td>2.1</td>\n",
       "      <td>14.3</td>\n",
       "      <td>NaN</td>\n",
       "      <td>6.83</td>\n",
       "      <td>5</td>\n",
       "      <td>Brandon Roy</td>\n",
       "    </tr>\n",
       "    <tr>\n",
       "      <th>4</th>\n",
       "      <td>Career</td>\n",
       "      <td>Villanova</td>\n",
       "      <td>NaN</td>\n",
       "      <td>131</td>\n",
       "      <td>128</td>\n",
       "      <td>31.3</td>\n",
       "      <td>5.2</td>\n",
       "      <td>13.1</td>\n",
       "      <td>0.399</td>\n",
       "      <td>3.6</td>\n",
       "      <td>...</td>\n",
       "      <td>3.2</td>\n",
       "      <td>1.5</td>\n",
       "      <td>0.4</td>\n",
       "      <td>2.9</td>\n",
       "      <td>2.7</td>\n",
       "      <td>15.0</td>\n",
       "      <td>NaN</td>\n",
       "      <td>8.37</td>\n",
       "      <td>5</td>\n",
       "      <td>Randy Foye</td>\n",
       "    </tr>\n",
       "    <tr>\n",
       "      <th>2</th>\n",
       "      <td>Career</td>\n",
       "      <td>UConn</td>\n",
       "      <td>NaN</td>\n",
       "      <td>64</td>\n",
       "      <td>59</td>\n",
       "      <td>29.8</td>\n",
       "      <td>5.0</td>\n",
       "      <td>10.8</td>\n",
       "      <td>0.461</td>\n",
       "      <td>4.1</td>\n",
       "      <td>...</td>\n",
       "      <td>1.8</td>\n",
       "      <td>1.3</td>\n",
       "      <td>1.7</td>\n",
       "      <td>2.2</td>\n",
       "      <td>2.3</td>\n",
       "      <td>13.6</td>\n",
       "      <td>NaN</td>\n",
       "      <td>7.1</td>\n",
       "      <td>3</td>\n",
       "      <td>Rudy Gay</td>\n",
       "    </tr>\n",
       "    <tr>\n",
       "      <th>2</th>\n",
       "      <td>Career</td>\n",
       "      <td>Bradley</td>\n",
       "      <td>NaN</td>\n",
       "      <td>52</td>\n",
       "      <td>47</td>\n",
       "      <td>24.3</td>\n",
       "      <td>4.6</td>\n",
       "      <td>8.4</td>\n",
       "      <td>0.554</td>\n",
       "      <td>4.6</td>\n",
       "      <td>...</td>\n",
       "      <td>0.7</td>\n",
       "      <td>0.9</td>\n",
       "      <td>2.8</td>\n",
       "      <td>1.9</td>\n",
       "      <td>3.1</td>\n",
       "      <td>11.6</td>\n",
       "      <td>NaN</td>\n",
       "      <td>4.97</td>\n",
       "      <td>3</td>\n",
       "      <td>Patrick O'Bryant</td>\n",
       "    </tr>\n",
       "    <tr>\n",
       "      <th>4</th>\n",
       "      <td>Career</td>\n",
       "      <td>Duke</td>\n",
       "      <td>NaN</td>\n",
       "      <td>139</td>\n",
       "      <td>134</td>\n",
       "      <td>34.0</td>\n",
       "      <td>5.9</td>\n",
       "      <td>13.7</td>\n",
       "      <td>0.433</td>\n",
       "      <td>2.6</td>\n",
       "      <td>...</td>\n",
       "      <td>2.2</td>\n",
       "      <td>1.1</td>\n",
       "      <td>0.1</td>\n",
       "      <td>2.1</td>\n",
       "      <td>1.6</td>\n",
       "      <td>19.9</td>\n",
       "      <td>NaN</td>\n",
       "      <td>9.51</td>\n",
       "      <td>5</td>\n",
       "      <td>J.J. Redick</td>\n",
       "    </tr>\n",
       "    <tr>\n",
       "      <th>4</th>\n",
       "      <td>Career</td>\n",
       "      <td>UConn</td>\n",
       "      <td>NaN</td>\n",
       "      <td>131</td>\n",
       "      <td>56</td>\n",
       "      <td>15.1</td>\n",
       "      <td>1.7</td>\n",
       "      <td>3.1</td>\n",
       "      <td>0.563</td>\n",
       "      <td>1.7</td>\n",
       "      <td>...</td>\n",
       "      <td>0.6</td>\n",
       "      <td>0.3</td>\n",
       "      <td>1.5</td>\n",
       "      <td>1.2</td>\n",
       "      <td>2.1</td>\n",
       "      <td>4.7</td>\n",
       "      <td>NaN</td>\n",
       "      <td>7.4</td>\n",
       "      <td>5</td>\n",
       "      <td>Hilton Armstrong</td>\n",
       "    </tr>\n",
       "  </tbody>\n",
       "</table>\n",
       "<p>10 rows × 31 columns</p>\n",
       "</div>"
      ],
      "text/plain": [
       "   Season      School Conf    G   GS    MP   FG   FGA    FG%   2P  ...  AST  \\\n",
       "2  Career       Texas  NaN   53   53  30.2  5.2   8.9  0.586  5.2  ...  0.6   \n",
       "3  Career     Gonzaga  NaN   95   62  30.6  7.0  14.0  0.503  5.7  ...  2.0   \n",
       "1  Career         LSU  NaN   32   21  25.9  4.8   7.8  0.608  4.7  ...  1.3   \n",
       "4  Career        Duke  NaN  139  128  28.1  4.9   8.6  0.572  4.9  ...  0.9   \n",
       "4  Career  Washington  NaN  103   71  27.5  5.2  10.1  0.512  4.7  ...  3.0   \n",
       "4  Career   Villanova  NaN  131  128  31.3  5.2  13.1  0.399  3.6  ...  3.2   \n",
       "2  Career       UConn  NaN   64   59  29.8  5.0  10.8  0.461  4.1  ...  1.8   \n",
       "2  Career     Bradley  NaN   52   47  24.3  4.6   8.4  0.554  4.6  ...  0.7   \n",
       "4  Career        Duke  NaN  139  134  34.0  5.9  13.7  0.433  2.6  ...  2.2   \n",
       "4  Career       UConn  NaN  131   56  15.1  1.7   3.1  0.563  1.7  ...  0.6   \n",
       "\n",
       "   STL  BLK  TOV   PF   PTS Unnamed: 27   SOS Years Played             Player  \n",
       "2  1.3  1.8  1.6  2.7  13.5         NaN  7.28            3  LaMarcus Aldridge  \n",
       "3  0.7  0.4  1.7  1.7  19.7         NaN  4.23            4      Adam Morrison  \n",
       "1  1.0  3.1  1.8  2.6  12.3         NaN  8.77            2       Tyrus Thomas  \n",
       "4  1.2  3.0  2.3  3.1  13.9         NaN  9.51            5   Shelden Williams  \n",
       "4  1.0  0.5  2.1  2.1  14.3         NaN  6.83            5        Brandon Roy  \n",
       "4  1.5  0.4  2.9  2.7  15.0         NaN  8.37            5         Randy Foye  \n",
       "2  1.3  1.7  2.2  2.3  13.6         NaN   7.1            3           Rudy Gay  \n",
       "2  0.9  2.8  1.9  3.1  11.6         NaN  4.97            3   Patrick O'Bryant  \n",
       "4  1.1  0.1  2.1  1.6  19.9         NaN  9.51            5        J.J. Redick  \n",
       "4  0.3  1.5  1.2  2.1   4.7         NaN   7.4            5   Hilton Armstrong  \n",
       "\n",
       "[10 rows x 31 columns]"
      ]
     },
     "execution_count": 548,
     "metadata": {},
     "output_type": "execute_result"
    }
   ],
   "source": [
    "player_df.head(10)"
   ]
  },
  {
   "cell_type": "code",
   "execution_count": 530,
   "id": "02c93c8d-54ae-48bb-8415-0bac38f2f0a7",
   "metadata": {},
   "outputs": [],
   "source": [
    "college_players = college_players.drop([372, 717, 780])"
   ]
  },
  {
   "cell_type": "code",
   "execution_count": 547,
   "id": "45fc35e6-04e4-44af-b34b-01836a3e699f",
   "metadata": {},
   "outputs": [
    {
     "data": {
      "text/html": [
       "<div>\n",
       "<style scoped>\n",
       "    .dataframe tbody tr th:only-of-type {\n",
       "        vertical-align: middle;\n",
       "    }\n",
       "\n",
       "    .dataframe tbody tr th {\n",
       "        vertical-align: top;\n",
       "    }\n",
       "\n",
       "    .dataframe thead th {\n",
       "        text-align: right;\n",
       "    }\n",
       "</style>\n",
       "<table border=\"1\" class=\"dataframe\">\n",
       "  <thead>\n",
       "    <tr style=\"text-align: right;\">\n",
       "      <th></th>\n",
       "      <th>Rk</th>\n",
       "      <th>Pk</th>\n",
       "      <th>Tm</th>\n",
       "      <th>Player</th>\n",
       "      <th>College</th>\n",
       "      <th>Yrs</th>\n",
       "      <th>G</th>\n",
       "      <th>MP</th>\n",
       "      <th>PTS</th>\n",
       "      <th>TRB</th>\n",
       "      <th>...</th>\n",
       "      <th>FT%</th>\n",
       "      <th>MP.1</th>\n",
       "      <th>PTS.1</th>\n",
       "      <th>TRB.1</th>\n",
       "      <th>AST.1</th>\n",
       "      <th>WS</th>\n",
       "      <th>WS/48</th>\n",
       "      <th>BPM</th>\n",
       "      <th>VORP</th>\n",
       "      <th>Year</th>\n",
       "    </tr>\n",
       "  </thead>\n",
       "  <tbody>\n",
       "    <tr>\n",
       "      <th>0</th>\n",
       "      <td>2</td>\n",
       "      <td>2</td>\n",
       "      <td>CHI</td>\n",
       "      <td>LaMarcus Aldridge</td>\n",
       "      <td>Texas</td>\n",
       "      <td>16</td>\n",
       "      <td>1076</td>\n",
       "      <td>36242</td>\n",
       "      <td>20558</td>\n",
       "      <td>8736</td>\n",
       "      <td>...</td>\n",
       "      <td>.813</td>\n",
       "      <td>33.7</td>\n",
       "      <td>19.1</td>\n",
       "      <td>8.1</td>\n",
       "      <td>1.9</td>\n",
       "      <td>115.7</td>\n",
       "      <td>.153</td>\n",
       "      <td>1.7</td>\n",
       "      <td>33.4</td>\n",
       "      <td>2006</td>\n",
       "    </tr>\n",
       "    <tr>\n",
       "      <th>1</th>\n",
       "      <td>3</td>\n",
       "      <td>3</td>\n",
       "      <td>CHA</td>\n",
       "      <td>Adam Morrison</td>\n",
       "      <td>Gonzaga</td>\n",
       "      <td>3</td>\n",
       "      <td>161</td>\n",
       "      <td>3278</td>\n",
       "      <td>1200</td>\n",
       "      <td>342</td>\n",
       "      <td>...</td>\n",
       "      <td>.710</td>\n",
       "      <td>20.4</td>\n",
       "      <td>7.5</td>\n",
       "      <td>2.1</td>\n",
       "      <td>1.4</td>\n",
       "      <td>-1.4</td>\n",
       "      <td>-.021</td>\n",
       "      <td>-5.0</td>\n",
       "      <td>-2.4</td>\n",
       "      <td>2006</td>\n",
       "    </tr>\n",
       "    <tr>\n",
       "      <th>2</th>\n",
       "      <td>4</td>\n",
       "      <td>4</td>\n",
       "      <td>POR</td>\n",
       "      <td>Tyrus Thomas</td>\n",
       "      <td>LSU</td>\n",
       "      <td>8</td>\n",
       "      <td>402</td>\n",
       "      <td>7932</td>\n",
       "      <td>3093</td>\n",
       "      <td>1938</td>\n",
       "      <td>...</td>\n",
       "      <td>.732</td>\n",
       "      <td>19.7</td>\n",
       "      <td>7.7</td>\n",
       "      <td>4.8</td>\n",
       "      <td>0.9</td>\n",
       "      <td>13.0</td>\n",
       "      <td>.078</td>\n",
       "      <td>-1.2</td>\n",
       "      <td>1.7</td>\n",
       "      <td>2006</td>\n",
       "    </tr>\n",
       "    <tr>\n",
       "      <th>3</th>\n",
       "      <td>5</td>\n",
       "      <td>5</td>\n",
       "      <td>ATL</td>\n",
       "      <td>Shelden Williams</td>\n",
       "      <td>Duke</td>\n",
       "      <td>6</td>\n",
       "      <td>361</td>\n",
       "      <td>5586</td>\n",
       "      <td>1618</td>\n",
       "      <td>1562</td>\n",
       "      <td>...</td>\n",
       "      <td>.740</td>\n",
       "      <td>15.5</td>\n",
       "      <td>4.5</td>\n",
       "      <td>4.3</td>\n",
       "      <td>0.5</td>\n",
       "      <td>9.9</td>\n",
       "      <td>.085</td>\n",
       "      <td>-3.0</td>\n",
       "      <td>-1.5</td>\n",
       "      <td>2006</td>\n",
       "    </tr>\n",
       "    <tr>\n",
       "      <th>4</th>\n",
       "      <td>6</td>\n",
       "      <td>6</td>\n",
       "      <td>MIN</td>\n",
       "      <td>Brandon Roy</td>\n",
       "      <td>Washington</td>\n",
       "      <td>6</td>\n",
       "      <td>326</td>\n",
       "      <td>11561</td>\n",
       "      <td>6136</td>\n",
       "      <td>1388</td>\n",
       "      <td>...</td>\n",
       "      <td>.800</td>\n",
       "      <td>35.5</td>\n",
       "      <td>18.8</td>\n",
       "      <td>4.3</td>\n",
       "      <td>4.7</td>\n",
       "      <td>37.4</td>\n",
       "      <td>.155</td>\n",
       "      <td>3.6</td>\n",
       "      <td>16.3</td>\n",
       "      <td>2006</td>\n",
       "    </tr>\n",
       "    <tr>\n",
       "      <th>5</th>\n",
       "      <td>7</td>\n",
       "      <td>7</td>\n",
       "      <td>BOS</td>\n",
       "      <td>Randy Foye</td>\n",
       "      <td>Villanova</td>\n",
       "      <td>11</td>\n",
       "      <td>752</td>\n",
       "      <td>19279</td>\n",
       "      <td>7729</td>\n",
       "      <td>1686</td>\n",
       "      <td>...</td>\n",
       "      <td>.852</td>\n",
       "      <td>25.6</td>\n",
       "      <td>10.3</td>\n",
       "      <td>2.2</td>\n",
       "      <td>2.8</td>\n",
       "      <td>23.5</td>\n",
       "      <td>.058</td>\n",
       "      <td>-1.2</td>\n",
       "      <td>3.8</td>\n",
       "      <td>2006</td>\n",
       "    </tr>\n",
       "    <tr>\n",
       "      <th>6</th>\n",
       "      <td>8</td>\n",
       "      <td>8</td>\n",
       "      <td>HOU</td>\n",
       "      <td>Rudy Gay</td>\n",
       "      <td>UConn</td>\n",
       "      <td>17</td>\n",
       "      <td>1094</td>\n",
       "      <td>34202</td>\n",
       "      <td>17486</td>\n",
       "      <td>6212</td>\n",
       "      <td>...</td>\n",
       "      <td>.798</td>\n",
       "      <td>31.3</td>\n",
       "      <td>16.0</td>\n",
       "      <td>5.7</td>\n",
       "      <td>2.1</td>\n",
       "      <td>60.8</td>\n",
       "      <td>.085</td>\n",
       "      <td>0.6</td>\n",
       "      <td>22.5</td>\n",
       "      <td>2006</td>\n",
       "    </tr>\n",
       "    <tr>\n",
       "      <th>7</th>\n",
       "      <td>9</td>\n",
       "      <td>9</td>\n",
       "      <td>GSW</td>\n",
       "      <td>Patrick O'Bryant</td>\n",
       "      <td>Bradley</td>\n",
       "      <td>4</td>\n",
       "      <td>90</td>\n",
       "      <td>524</td>\n",
       "      <td>186</td>\n",
       "      <td>127</td>\n",
       "      <td>...</td>\n",
       "      <td>.583</td>\n",
       "      <td>5.8</td>\n",
       "      <td>2.1</td>\n",
       "      <td>1.4</td>\n",
       "      <td>0.3</td>\n",
       "      <td>0.5</td>\n",
       "      <td>.046</td>\n",
       "      <td>-4.6</td>\n",
       "      <td>-0.3</td>\n",
       "      <td>2006</td>\n",
       "    </tr>\n",
       "    <tr>\n",
       "      <th>8</th>\n",
       "      <td>11</td>\n",
       "      <td>11</td>\n",
       "      <td>ORL</td>\n",
       "      <td>J.J. Redick</td>\n",
       "      <td>Duke</td>\n",
       "      <td>15</td>\n",
       "      <td>940</td>\n",
       "      <td>23964</td>\n",
       "      <td>12028</td>\n",
       "      <td>1903</td>\n",
       "      <td>...</td>\n",
       "      <td>.892</td>\n",
       "      <td>25.5</td>\n",
       "      <td>12.8</td>\n",
       "      <td>2.0</td>\n",
       "      <td>2.0</td>\n",
       "      <td>63.7</td>\n",
       "      <td>.128</td>\n",
       "      <td>0.6</td>\n",
       "      <td>16.0</td>\n",
       "      <td>2006</td>\n",
       "    </tr>\n",
       "    <tr>\n",
       "      <th>9</th>\n",
       "      <td>12</td>\n",
       "      <td>12</td>\n",
       "      <td>NOK</td>\n",
       "      <td>Hilton Armstrong</td>\n",
       "      <td>UConn</td>\n",
       "      <td>6</td>\n",
       "      <td>292</td>\n",
       "      <td>3378</td>\n",
       "      <td>880</td>\n",
       "      <td>766</td>\n",
       "      <td>...</td>\n",
       "      <td>.582</td>\n",
       "      <td>11.6</td>\n",
       "      <td>3.0</td>\n",
       "      <td>2.6</td>\n",
       "      <td>0.3</td>\n",
       "      <td>3.9</td>\n",
       "      <td>.055</td>\n",
       "      <td>-4.1</td>\n",
       "      <td>-1.8</td>\n",
       "      <td>2006</td>\n",
       "    </tr>\n",
       "  </tbody>\n",
       "</table>\n",
       "<p>10 rows × 23 columns</p>\n",
       "</div>"
      ],
      "text/plain": [
       "   Rk  Pk   Tm             Player     College Yrs     G     MP    PTS   TRB  \\\n",
       "0   2   2  CHI  LaMarcus Aldridge       Texas  16  1076  36242  20558  8736   \n",
       "1   3   3  CHA      Adam Morrison     Gonzaga   3   161   3278   1200   342   \n",
       "2   4   4  POR       Tyrus Thomas         LSU   8   402   7932   3093  1938   \n",
       "3   5   5  ATL   Shelden Williams        Duke   6   361   5586   1618  1562   \n",
       "4   6   6  MIN        Brandon Roy  Washington   6   326  11561   6136  1388   \n",
       "5   7   7  BOS         Randy Foye   Villanova  11   752  19279   7729  1686   \n",
       "6   8   8  HOU           Rudy Gay       UConn  17  1094  34202  17486  6212   \n",
       "7   9   9  GSW   Patrick O'Bryant     Bradley   4    90    524    186   127   \n",
       "8  11  11  ORL        J.J. Redick        Duke  15   940  23964  12028  1903   \n",
       "9  12  12  NOK   Hilton Armstrong       UConn   6   292   3378    880   766   \n",
       "\n",
       "   ...   FT%  MP.1 PTS.1 TRB.1 AST.1     WS  WS/48   BPM  VORP  Year  \n",
       "0  ...  .813  33.7  19.1   8.1   1.9  115.7   .153   1.7  33.4  2006  \n",
       "1  ...  .710  20.4   7.5   2.1   1.4   -1.4  -.021  -5.0  -2.4  2006  \n",
       "2  ...  .732  19.7   7.7   4.8   0.9   13.0   .078  -1.2   1.7  2006  \n",
       "3  ...  .740  15.5   4.5   4.3   0.5    9.9   .085  -3.0  -1.5  2006  \n",
       "4  ...  .800  35.5  18.8   4.3   4.7   37.4   .155   3.6  16.3  2006  \n",
       "5  ...  .852  25.6  10.3   2.2   2.8   23.5   .058  -1.2   3.8  2006  \n",
       "6  ...  .798  31.3  16.0   5.7   2.1   60.8   .085   0.6  22.5  2006  \n",
       "7  ...  .583   5.8   2.1   1.4   0.3    0.5   .046  -4.6  -0.3  2006  \n",
       "8  ...  .892  25.5  12.8   2.0   2.0   63.7   .128   0.6  16.0  2006  \n",
       "9  ...  .582  11.6   3.0   2.6   0.3    3.9   .055  -4.1  -1.8  2006  \n",
       "\n",
       "[10 rows x 23 columns]"
      ]
     },
     "execution_count": 547,
     "metadata": {},
     "output_type": "execute_result"
    }
   ],
   "source": [
    "college_players.head(10)"
   ]
  },
  {
   "cell_type": "code",
   "execution_count": 551,
   "id": "ce2e7093-fdde-4b22-8edd-dc1d8d3cc8f3",
   "metadata": {},
   "outputs": [],
   "source": [
    "pd.set_option('display.max_columns', None)\n",
    "df = player_df.merge(college_players, left_on = \"Player\", right_on = \"Player\")"
   ]
  },
  {
   "cell_type": "code",
   "execution_count": 555,
   "id": "abf54add-c064-4603-bd20-993e85bb6dcd",
   "metadata": {},
   "outputs": [
    {
     "data": {
      "text/html": [
       "<div>\n",
       "<style scoped>\n",
       "    .dataframe tbody tr th:only-of-type {\n",
       "        vertical-align: middle;\n",
       "    }\n",
       "\n",
       "    .dataframe tbody tr th {\n",
       "        vertical-align: top;\n",
       "    }\n",
       "\n",
       "    .dataframe thead th {\n",
       "        text-align: right;\n",
       "    }\n",
       "</style>\n",
       "<table border=\"1\" class=\"dataframe\">\n",
       "  <thead>\n",
       "    <tr style=\"text-align: right;\">\n",
       "      <th></th>\n",
       "      <th>Conf</th>\n",
       "      <th>G_x</th>\n",
       "      <th>GS</th>\n",
       "      <th>MP_x</th>\n",
       "      <th>FG</th>\n",
       "      <th>FGA</th>\n",
       "      <th>FG%_x</th>\n",
       "      <th>2P</th>\n",
       "      <th>2PA</th>\n",
       "      <th>2P%</th>\n",
       "      <th>3P</th>\n",
       "      <th>3PA</th>\n",
       "      <th>3P%_x</th>\n",
       "      <th>FT</th>\n",
       "      <th>FTA</th>\n",
       "      <th>FT%_x</th>\n",
       "      <th>ORB</th>\n",
       "      <th>DRB</th>\n",
       "      <th>TRB_x</th>\n",
       "      <th>AST_x</th>\n",
       "      <th>STL</th>\n",
       "      <th>BLK</th>\n",
       "      <th>TOV</th>\n",
       "      <th>PF</th>\n",
       "      <th>PTS_x</th>\n",
       "      <th>SOS</th>\n",
       "      <th>Years Played</th>\n",
       "      <th>Player</th>\n",
       "      <th>Rk</th>\n",
       "      <th>Pk</th>\n",
       "      <th>Tm</th>\n",
       "      <th>College</th>\n",
       "      <th>Yrs</th>\n",
       "      <th>G_y</th>\n",
       "      <th>MP_y</th>\n",
       "      <th>PTS_y</th>\n",
       "      <th>TRB_y</th>\n",
       "      <th>AST_y</th>\n",
       "      <th>FG%_y</th>\n",
       "      <th>3P%_y</th>\n",
       "      <th>FT%_y</th>\n",
       "      <th>MP.1</th>\n",
       "      <th>PTS.1</th>\n",
       "      <th>TRB.1</th>\n",
       "      <th>AST.1</th>\n",
       "      <th>WS</th>\n",
       "      <th>WS/48</th>\n",
       "      <th>BPM</th>\n",
       "      <th>VORP</th>\n",
       "      <th>Year</th>\n",
       "    </tr>\n",
       "  </thead>\n",
       "  <tbody>\n",
       "    <tr>\n",
       "      <th>0</th>\n",
       "      <td>NaN</td>\n",
       "      <td>53</td>\n",
       "      <td>53</td>\n",
       "      <td>30.2</td>\n",
       "      <td>5.2</td>\n",
       "      <td>8.9</td>\n",
       "      <td>0.586</td>\n",
       "      <td>5.2</td>\n",
       "      <td>8.9</td>\n",
       "      <td>0.586</td>\n",
       "      <td>0.0</td>\n",
       "      <td>0.0</td>\n",
       "      <td>NaN</td>\n",
       "      <td>3.0</td>\n",
       "      <td>4.7</td>\n",
       "      <td>0.649</td>\n",
       "      <td>3.4</td>\n",
       "      <td>4.8</td>\n",
       "      <td>8.2</td>\n",
       "      <td>0.6</td>\n",
       "      <td>1.3</td>\n",
       "      <td>1.8</td>\n",
       "      <td>1.6</td>\n",
       "      <td>2.7</td>\n",
       "      <td>13.5</td>\n",
       "      <td>7.28</td>\n",
       "      <td>3</td>\n",
       "      <td>LaMarcus Aldridge</td>\n",
       "      <td>2</td>\n",
       "      <td>2</td>\n",
       "      <td>CHI</td>\n",
       "      <td>Texas</td>\n",
       "      <td>16</td>\n",
       "      <td>1076</td>\n",
       "      <td>36242</td>\n",
       "      <td>20558</td>\n",
       "      <td>8736</td>\n",
       "      <td>2076</td>\n",
       "      <td>.493</td>\n",
       "      <td>.320</td>\n",
       "      <td>.813</td>\n",
       "      <td>33.7</td>\n",
       "      <td>19.1</td>\n",
       "      <td>8.1</td>\n",
       "      <td>1.9</td>\n",
       "      <td>115.7</td>\n",
       "      <td>.153</td>\n",
       "      <td>1.7</td>\n",
       "      <td>33.4</td>\n",
       "      <td>2006</td>\n",
       "    </tr>\n",
       "    <tr>\n",
       "      <th>1</th>\n",
       "      <td>NaN</td>\n",
       "      <td>95</td>\n",
       "      <td>62</td>\n",
       "      <td>30.6</td>\n",
       "      <td>7.0</td>\n",
       "      <td>14.0</td>\n",
       "      <td>0.503</td>\n",
       "      <td>5.7</td>\n",
       "      <td>10.3</td>\n",
       "      <td>0.551</td>\n",
       "      <td>1.3</td>\n",
       "      <td>3.7</td>\n",
       "      <td>0.368</td>\n",
       "      <td>4.2</td>\n",
       "      <td>5.5</td>\n",
       "      <td>0.761</td>\n",
       "      <td>1.3</td>\n",
       "      <td>3.8</td>\n",
       "      <td>5.1</td>\n",
       "      <td>2.0</td>\n",
       "      <td>0.7</td>\n",
       "      <td>0.4</td>\n",
       "      <td>1.7</td>\n",
       "      <td>1.7</td>\n",
       "      <td>19.7</td>\n",
       "      <td>4.23</td>\n",
       "      <td>4</td>\n",
       "      <td>Adam Morrison</td>\n",
       "      <td>3</td>\n",
       "      <td>3</td>\n",
       "      <td>CHA</td>\n",
       "      <td>Gonzaga</td>\n",
       "      <td>3</td>\n",
       "      <td>161</td>\n",
       "      <td>3278</td>\n",
       "      <td>1200</td>\n",
       "      <td>342</td>\n",
       "      <td>222</td>\n",
       "      <td>.373</td>\n",
       "      <td>.331</td>\n",
       "      <td>.710</td>\n",
       "      <td>20.4</td>\n",
       "      <td>7.5</td>\n",
       "      <td>2.1</td>\n",
       "      <td>1.4</td>\n",
       "      <td>-1.4</td>\n",
       "      <td>-.021</td>\n",
       "      <td>-5.0</td>\n",
       "      <td>-2.4</td>\n",
       "      <td>2006</td>\n",
       "    </tr>\n",
       "    <tr>\n",
       "      <th>2</th>\n",
       "      <td>NaN</td>\n",
       "      <td>32</td>\n",
       "      <td>21</td>\n",
       "      <td>25.9</td>\n",
       "      <td>4.8</td>\n",
       "      <td>7.8</td>\n",
       "      <td>0.608</td>\n",
       "      <td>4.7</td>\n",
       "      <td>7.8</td>\n",
       "      <td>0.606</td>\n",
       "      <td>0.0</td>\n",
       "      <td>0.0</td>\n",
       "      <td>1.0</td>\n",
       "      <td>2.8</td>\n",
       "      <td>4.3</td>\n",
       "      <td>0.657</td>\n",
       "      <td>2.8</td>\n",
       "      <td>6.4</td>\n",
       "      <td>9.2</td>\n",
       "      <td>1.3</td>\n",
       "      <td>1.0</td>\n",
       "      <td>3.1</td>\n",
       "      <td>1.8</td>\n",
       "      <td>2.6</td>\n",
       "      <td>12.3</td>\n",
       "      <td>8.77</td>\n",
       "      <td>2</td>\n",
       "      <td>Tyrus Thomas</td>\n",
       "      <td>4</td>\n",
       "      <td>4</td>\n",
       "      <td>POR</td>\n",
       "      <td>LSU</td>\n",
       "      <td>8</td>\n",
       "      <td>402</td>\n",
       "      <td>7932</td>\n",
       "      <td>3093</td>\n",
       "      <td>1938</td>\n",
       "      <td>347</td>\n",
       "      <td>.438</td>\n",
       "      <td>.235</td>\n",
       "      <td>.732</td>\n",
       "      <td>19.7</td>\n",
       "      <td>7.7</td>\n",
       "      <td>4.8</td>\n",
       "      <td>0.9</td>\n",
       "      <td>13.0</td>\n",
       "      <td>.078</td>\n",
       "      <td>-1.2</td>\n",
       "      <td>1.7</td>\n",
       "      <td>2006</td>\n",
       "    </tr>\n",
       "    <tr>\n",
       "      <th>3</th>\n",
       "      <td>NaN</td>\n",
       "      <td>139</td>\n",
       "      <td>128</td>\n",
       "      <td>28.1</td>\n",
       "      <td>4.9</td>\n",
       "      <td>8.6</td>\n",
       "      <td>0.572</td>\n",
       "      <td>4.9</td>\n",
       "      <td>8.6</td>\n",
       "      <td>0.574</td>\n",
       "      <td>0.0</td>\n",
       "      <td>0.1</td>\n",
       "      <td>0.333</td>\n",
       "      <td>4.0</td>\n",
       "      <td>5.7</td>\n",
       "      <td>0.694</td>\n",
       "      <td>3.2</td>\n",
       "      <td>5.9</td>\n",
       "      <td>9.1</td>\n",
       "      <td>0.9</td>\n",
       "      <td>1.2</td>\n",
       "      <td>3.0</td>\n",
       "      <td>2.3</td>\n",
       "      <td>3.1</td>\n",
       "      <td>13.9</td>\n",
       "      <td>9.51</td>\n",
       "      <td>5</td>\n",
       "      <td>Shelden Williams</td>\n",
       "      <td>5</td>\n",
       "      <td>5</td>\n",
       "      <td>ATL</td>\n",
       "      <td>Duke</td>\n",
       "      <td>6</td>\n",
       "      <td>361</td>\n",
       "      <td>5586</td>\n",
       "      <td>1618</td>\n",
       "      <td>1562</td>\n",
       "      <td>163</td>\n",
       "      <td>.462</td>\n",
       "      <td>.222</td>\n",
       "      <td>.740</td>\n",
       "      <td>15.5</td>\n",
       "      <td>4.5</td>\n",
       "      <td>4.3</td>\n",
       "      <td>0.5</td>\n",
       "      <td>9.9</td>\n",
       "      <td>.085</td>\n",
       "      <td>-3.0</td>\n",
       "      <td>-1.5</td>\n",
       "      <td>2006</td>\n",
       "    </tr>\n",
       "    <tr>\n",
       "      <th>4</th>\n",
       "      <td>NaN</td>\n",
       "      <td>103</td>\n",
       "      <td>71</td>\n",
       "      <td>27.5</td>\n",
       "      <td>5.2</td>\n",
       "      <td>10.1</td>\n",
       "      <td>0.512</td>\n",
       "      <td>4.7</td>\n",
       "      <td>8.6</td>\n",
       "      <td>0.541</td>\n",
       "      <td>0.5</td>\n",
       "      <td>1.5</td>\n",
       "      <td>0.344</td>\n",
       "      <td>3.5</td>\n",
       "      <td>4.5</td>\n",
       "      <td>0.765</td>\n",
       "      <td>1.8</td>\n",
       "      <td>3.2</td>\n",
       "      <td>5.0</td>\n",
       "      <td>3.0</td>\n",
       "      <td>1.0</td>\n",
       "      <td>0.5</td>\n",
       "      <td>2.1</td>\n",
       "      <td>2.1</td>\n",
       "      <td>14.3</td>\n",
       "      <td>6.83</td>\n",
       "      <td>5</td>\n",
       "      <td>Brandon Roy</td>\n",
       "      <td>6</td>\n",
       "      <td>6</td>\n",
       "      <td>MIN</td>\n",
       "      <td>Washington</td>\n",
       "      <td>6</td>\n",
       "      <td>326</td>\n",
       "      <td>11561</td>\n",
       "      <td>6136</td>\n",
       "      <td>1388</td>\n",
       "      <td>1517</td>\n",
       "      <td>.459</td>\n",
       "      <td>.348</td>\n",
       "      <td>.800</td>\n",
       "      <td>35.5</td>\n",
       "      <td>18.8</td>\n",
       "      <td>4.3</td>\n",
       "      <td>4.7</td>\n",
       "      <td>37.4</td>\n",
       "      <td>.155</td>\n",
       "      <td>3.6</td>\n",
       "      <td>16.3</td>\n",
       "      <td>2006</td>\n",
       "    </tr>\n",
       "    <tr>\n",
       "      <th>...</th>\n",
       "      <td>...</td>\n",
       "      <td>...</td>\n",
       "      <td>...</td>\n",
       "      <td>...</td>\n",
       "      <td>...</td>\n",
       "      <td>...</td>\n",
       "      <td>...</td>\n",
       "      <td>...</td>\n",
       "      <td>...</td>\n",
       "      <td>...</td>\n",
       "      <td>...</td>\n",
       "      <td>...</td>\n",
       "      <td>...</td>\n",
       "      <td>...</td>\n",
       "      <td>...</td>\n",
       "      <td>...</td>\n",
       "      <td>...</td>\n",
       "      <td>...</td>\n",
       "      <td>...</td>\n",
       "      <td>...</td>\n",
       "      <td>...</td>\n",
       "      <td>...</td>\n",
       "      <td>...</td>\n",
       "      <td>...</td>\n",
       "      <td>...</td>\n",
       "      <td>...</td>\n",
       "      <td>...</td>\n",
       "      <td>...</td>\n",
       "      <td>...</td>\n",
       "      <td>...</td>\n",
       "      <td>...</td>\n",
       "      <td>...</td>\n",
       "      <td>...</td>\n",
       "      <td>...</td>\n",
       "      <td>...</td>\n",
       "      <td>...</td>\n",
       "      <td>...</td>\n",
       "      <td>...</td>\n",
       "      <td>...</td>\n",
       "      <td>...</td>\n",
       "      <td>...</td>\n",
       "      <td>...</td>\n",
       "      <td>...</td>\n",
       "      <td>...</td>\n",
       "      <td>...</td>\n",
       "      <td>...</td>\n",
       "      <td>...</td>\n",
       "      <td>...</td>\n",
       "      <td>...</td>\n",
       "      <td>...</td>\n",
       "    </tr>\n",
       "    <tr>\n",
       "      <th>816</th>\n",
       "      <td>NaN</td>\n",
       "      <td>34</td>\n",
       "      <td>34</td>\n",
       "      <td>27.0</td>\n",
       "      <td>3.9</td>\n",
       "      <td>6.6</td>\n",
       "      <td>0.584</td>\n",
       "      <td>3.5</td>\n",
       "      <td>5.4</td>\n",
       "      <td>0.638</td>\n",
       "      <td>0.4</td>\n",
       "      <td>1.2</td>\n",
       "      <td>0.341</td>\n",
       "      <td>1.5</td>\n",
       "      <td>2.2</td>\n",
       "      <td>0.689</td>\n",
       "      <td>1.7</td>\n",
       "      <td>3.1</td>\n",
       "      <td>4.9</td>\n",
       "      <td>1.9</td>\n",
       "      <td>1.0</td>\n",
       "      <td>0.4</td>\n",
       "      <td>1.7</td>\n",
       "      <td>2.3</td>\n",
       "      <td>9.7</td>\n",
       "      <td>8.76</td>\n",
       "      <td>2</td>\n",
       "      <td>Kendall Brown</td>\n",
       "      <td>48</td>\n",
       "      <td>48</td>\n",
       "      <td>MIN</td>\n",
       "      <td>Baylor</td>\n",
       "      <td>1</td>\n",
       "      <td>6</td>\n",
       "      <td>40</td>\n",
       "      <td>9</td>\n",
       "      <td>6</td>\n",
       "      <td>3</td>\n",
       "      <td>.571</td>\n",
       "      <td>.000</td>\n",
       "      <td>.500</td>\n",
       "      <td>6.7</td>\n",
       "      <td>1.5</td>\n",
       "      <td>1.0</td>\n",
       "      <td>0.5</td>\n",
       "      <td>0.1</td>\n",
       "      <td>.085</td>\n",
       "      <td>-2.8</td>\n",
       "      <td>0.0</td>\n",
       "      <td>2022</td>\n",
       "    </tr>\n",
       "    <tr>\n",
       "      <th>817</th>\n",
       "      <td>NaN</td>\n",
       "      <td>95</td>\n",
       "      <td>72</td>\n",
       "      <td>27.5</td>\n",
       "      <td>3.7</td>\n",
       "      <td>8.1</td>\n",
       "      <td>0.46</td>\n",
       "      <td>3.0</td>\n",
       "      <td>6.1</td>\n",
       "      <td>0.492</td>\n",
       "      <td>0.7</td>\n",
       "      <td>2.0</td>\n",
       "      <td>0.36</td>\n",
       "      <td>2.0</td>\n",
       "      <td>3.3</td>\n",
       "      <td>0.596</td>\n",
       "      <td>2.1</td>\n",
       "      <td>4.9</td>\n",
       "      <td>7.0</td>\n",
       "      <td>2.0</td>\n",
       "      <td>0.6</td>\n",
       "      <td>0.8</td>\n",
       "      <td>1.5</td>\n",
       "      <td>2.2</td>\n",
       "      <td>10.1</td>\n",
       "      <td>7.99</td>\n",
       "      <td>4</td>\n",
       "      <td>Isaiah Mobley</td>\n",
       "      <td>49</td>\n",
       "      <td>49</td>\n",
       "      <td>CLE</td>\n",
       "      <td>USC</td>\n",
       "      <td>1</td>\n",
       "      <td>8</td>\n",
       "      <td>26</td>\n",
       "      <td>9</td>\n",
       "      <td>11</td>\n",
       "      <td>0</td>\n",
       "      <td>.500</td>\n",
       "      <td>.500</td>\n",
       "      <td>NaN</td>\n",
       "      <td>3.3</td>\n",
       "      <td>1.1</td>\n",
       "      <td>1.4</td>\n",
       "      <td>0.0</td>\n",
       "      <td>0.1</td>\n",
       "      <td>.155</td>\n",
       "      <td>1.1</td>\n",
       "      <td>0.0</td>\n",
       "      <td>2022</td>\n",
       "    </tr>\n",
       "    <tr>\n",
       "      <th>818</th>\n",
       "      <td>NaN</td>\n",
       "      <td>114</td>\n",
       "      <td>99</td>\n",
       "      <td>30.8</td>\n",
       "      <td>4.2</td>\n",
       "      <td>9.6</td>\n",
       "      <td>0.435</td>\n",
       "      <td>3.0</td>\n",
       "      <td>6.1</td>\n",
       "      <td>0.486</td>\n",
       "      <td>1.2</td>\n",
       "      <td>3.4</td>\n",
       "      <td>0.346</td>\n",
       "      <td>1.6</td>\n",
       "      <td>2.4</td>\n",
       "      <td>0.67</td>\n",
       "      <td>2.3</td>\n",
       "      <td>4.5</td>\n",
       "      <td>6.7</td>\n",
       "      <td>1.3</td>\n",
       "      <td>0.9</td>\n",
       "      <td>0.4</td>\n",
       "      <td>1.7</td>\n",
       "      <td>2.1</td>\n",
       "      <td>11.1</td>\n",
       "      <td>5.36</td>\n",
       "      <td>7</td>\n",
       "      <td>Tyrese Martin</td>\n",
       "      <td>51</td>\n",
       "      <td>51</td>\n",
       "      <td>GSW</td>\n",
       "      <td>UConn</td>\n",
       "      <td>1</td>\n",
       "      <td>11</td>\n",
       "      <td>42</td>\n",
       "      <td>15</td>\n",
       "      <td>6</td>\n",
       "      <td>0</td>\n",
       "      <td>.375</td>\n",
       "      <td>.200</td>\n",
       "      <td>1.000</td>\n",
       "      <td>3.8</td>\n",
       "      <td>1.4</td>\n",
       "      <td>0.5</td>\n",
       "      <td>0.0</td>\n",
       "      <td>0.0</td>\n",
       "      <td>-.020</td>\n",
       "      <td>-7.3</td>\n",
       "      <td>-0.1</td>\n",
       "      <td>2022</td>\n",
       "    </tr>\n",
       "    <tr>\n",
       "      <th>819</th>\n",
       "      <td>NaN</td>\n",
       "      <td>33</td>\n",
       "      <td>5</td>\n",
       "      <td>25.8</td>\n",
       "      <td>3.0</td>\n",
       "      <td>6.5</td>\n",
       "      <td>0.463</td>\n",
       "      <td>2.2</td>\n",
       "      <td>4.0</td>\n",
       "      <td>0.565</td>\n",
       "      <td>0.8</td>\n",
       "      <td>2.5</td>\n",
       "      <td>0.301</td>\n",
       "      <td>1.8</td>\n",
       "      <td>2.5</td>\n",
       "      <td>0.728</td>\n",
       "      <td>1.1</td>\n",
       "      <td>3.7</td>\n",
       "      <td>4.8</td>\n",
       "      <td>4.3</td>\n",
       "      <td>1.0</td>\n",
       "      <td>0.4</td>\n",
       "      <td>2.9</td>\n",
       "      <td>1.2</td>\n",
       "      <td>8.5</td>\n",
       "      <td>11.59</td>\n",
       "      <td>2</td>\n",
       "      <td>JD Davison</td>\n",
       "      <td>53</td>\n",
       "      <td>53</td>\n",
       "      <td>BOS</td>\n",
       "      <td>Alabama</td>\n",
       "      <td>1</td>\n",
       "      <td>3</td>\n",
       "      <td>8</td>\n",
       "      <td>2</td>\n",
       "      <td>1</td>\n",
       "      <td>1</td>\n",
       "      <td>.250</td>\n",
       "      <td>.000</td>\n",
       "      <td>NaN</td>\n",
       "      <td>2.7</td>\n",
       "      <td>0.7</td>\n",
       "      <td>0.3</td>\n",
       "      <td>0.3</td>\n",
       "      <td>0.0</td>\n",
       "      <td>-.271</td>\n",
       "      <td>-13.4</td>\n",
       "      <td>0.0</td>\n",
       "      <td>2022</td>\n",
       "    </tr>\n",
       "    <tr>\n",
       "      <th>820</th>\n",
       "      <td>NaN</td>\n",
       "      <td>59</td>\n",
       "      <td>33</td>\n",
       "      <td>22.0</td>\n",
       "      <td>3.9</td>\n",
       "      <td>8.1</td>\n",
       "      <td>0.479</td>\n",
       "      <td>2.9</td>\n",
       "      <td>5.6</td>\n",
       "      <td>0.515</td>\n",
       "      <td>1.0</td>\n",
       "      <td>2.5</td>\n",
       "      <td>0.399</td>\n",
       "      <td>2.7</td>\n",
       "      <td>3.5</td>\n",
       "      <td>0.783</td>\n",
       "      <td>1.7</td>\n",
       "      <td>5.4</td>\n",
       "      <td>7.2</td>\n",
       "      <td>0.9</td>\n",
       "      <td>0.6</td>\n",
       "      <td>0.6</td>\n",
       "      <td>1.8</td>\n",
       "      <td>2.3</td>\n",
       "      <td>11.5</td>\n",
       "      <td>7.86</td>\n",
       "      <td>3</td>\n",
       "      <td>Jabari Walker</td>\n",
       "      <td>57</td>\n",
       "      <td>57</td>\n",
       "      <td>POR</td>\n",
       "      <td>Colorado</td>\n",
       "      <td>1</td>\n",
       "      <td>25</td>\n",
       "      <td>222</td>\n",
       "      <td>58</td>\n",
       "      <td>64</td>\n",
       "      <td>14</td>\n",
       "      <td>.423</td>\n",
       "      <td>.231</td>\n",
       "      <td>.688</td>\n",
       "      <td>8.9</td>\n",
       "      <td>2.3</td>\n",
       "      <td>2.6</td>\n",
       "      <td>0.6</td>\n",
       "      <td>0.3</td>\n",
       "      <td>.068</td>\n",
       "      <td>-3.8</td>\n",
       "      <td>-0.1</td>\n",
       "      <td>2022</td>\n",
       "    </tr>\n",
       "  </tbody>\n",
       "</table>\n",
       "<p>821 rows × 50 columns</p>\n",
       "</div>"
      ],
      "text/plain": [
       "    Conf  G_x   GS  MP_x   FG   FGA  FG%_x   2P   2PA    2P%   3P  3PA  3P%_x  \\\n",
       "0    NaN   53   53  30.2  5.2   8.9  0.586  5.2   8.9  0.586  0.0  0.0    NaN   \n",
       "1    NaN   95   62  30.6  7.0  14.0  0.503  5.7  10.3  0.551  1.3  3.7  0.368   \n",
       "2    NaN   32   21  25.9  4.8   7.8  0.608  4.7   7.8  0.606  0.0  0.0    1.0   \n",
       "3    NaN  139  128  28.1  4.9   8.6  0.572  4.9   8.6  0.574  0.0  0.1  0.333   \n",
       "4    NaN  103   71  27.5  5.2  10.1  0.512  4.7   8.6  0.541  0.5  1.5  0.344   \n",
       "..   ...  ...  ...   ...  ...   ...    ...  ...   ...    ...  ...  ...    ...   \n",
       "816  NaN   34   34  27.0  3.9   6.6  0.584  3.5   5.4  0.638  0.4  1.2  0.341   \n",
       "817  NaN   95   72  27.5  3.7   8.1   0.46  3.0   6.1  0.492  0.7  2.0   0.36   \n",
       "818  NaN  114   99  30.8  4.2   9.6  0.435  3.0   6.1  0.486  1.2  3.4  0.346   \n",
       "819  NaN   33    5  25.8  3.0   6.5  0.463  2.2   4.0  0.565  0.8  2.5  0.301   \n",
       "820  NaN   59   33  22.0  3.9   8.1  0.479  2.9   5.6  0.515  1.0  2.5  0.399   \n",
       "\n",
       "      FT  FTA  FT%_x  ORB  DRB TRB_x AST_x  STL  BLK  TOV   PF PTS_x    SOS  \\\n",
       "0    3.0  4.7  0.649  3.4  4.8   8.2   0.6  1.3  1.8  1.6  2.7  13.5   7.28   \n",
       "1    4.2  5.5  0.761  1.3  3.8   5.1   2.0  0.7  0.4  1.7  1.7  19.7   4.23   \n",
       "2    2.8  4.3  0.657  2.8  6.4   9.2   1.3  1.0  3.1  1.8  2.6  12.3   8.77   \n",
       "3    4.0  5.7  0.694  3.2  5.9   9.1   0.9  1.2  3.0  2.3  3.1  13.9   9.51   \n",
       "4    3.5  4.5  0.765  1.8  3.2   5.0   3.0  1.0  0.5  2.1  2.1  14.3   6.83   \n",
       "..   ...  ...    ...  ...  ...   ...   ...  ...  ...  ...  ...   ...    ...   \n",
       "816  1.5  2.2  0.689  1.7  3.1   4.9   1.9  1.0  0.4  1.7  2.3   9.7   8.76   \n",
       "817  2.0  3.3  0.596  2.1  4.9   7.0   2.0  0.6  0.8  1.5  2.2  10.1   7.99   \n",
       "818  1.6  2.4   0.67  2.3  4.5   6.7   1.3  0.9  0.4  1.7  2.1  11.1   5.36   \n",
       "819  1.8  2.5  0.728  1.1  3.7   4.8   4.3  1.0  0.4  2.9  1.2   8.5  11.59   \n",
       "820  2.7  3.5  0.783  1.7  5.4   7.2   0.9  0.6  0.6  1.8  2.3  11.5   7.86   \n",
       "\n",
       "     Years Played             Player  Rk  Pk   Tm     College Yrs   G_y  \\\n",
       "0               3  LaMarcus Aldridge   2   2  CHI       Texas  16  1076   \n",
       "1               4      Adam Morrison   3   3  CHA     Gonzaga   3   161   \n",
       "2               2       Tyrus Thomas   4   4  POR         LSU   8   402   \n",
       "3               5   Shelden Williams   5   5  ATL        Duke   6   361   \n",
       "4               5        Brandon Roy   6   6  MIN  Washington   6   326   \n",
       "..            ...                ...  ..  ..  ...         ...  ..   ...   \n",
       "816             2      Kendall Brown  48  48  MIN      Baylor   1     6   \n",
       "817             4      Isaiah Mobley  49  49  CLE         USC   1     8   \n",
       "818             7      Tyrese Martin  51  51  GSW       UConn   1    11   \n",
       "819             2         JD Davison  53  53  BOS     Alabama   1     3   \n",
       "820             3      Jabari Walker  57  57  POR    Colorado   1    25   \n",
       "\n",
       "      MP_y  PTS_y TRB_y AST_y FG%_y 3P%_y  FT%_y  MP.1 PTS.1 TRB.1 AST.1  \\\n",
       "0    36242  20558  8736  2076  .493  .320   .813  33.7  19.1   8.1   1.9   \n",
       "1     3278   1200   342   222  .373  .331   .710  20.4   7.5   2.1   1.4   \n",
       "2     7932   3093  1938   347  .438  .235   .732  19.7   7.7   4.8   0.9   \n",
       "3     5586   1618  1562   163  .462  .222   .740  15.5   4.5   4.3   0.5   \n",
       "4    11561   6136  1388  1517  .459  .348   .800  35.5  18.8   4.3   4.7   \n",
       "..     ...    ...   ...   ...   ...   ...    ...   ...   ...   ...   ...   \n",
       "816     40      9     6     3  .571  .000   .500   6.7   1.5   1.0   0.5   \n",
       "817     26      9    11     0  .500  .500    NaN   3.3   1.1   1.4   0.0   \n",
       "818     42     15     6     0  .375  .200  1.000   3.8   1.4   0.5   0.0   \n",
       "819      8      2     1     1  .250  .000    NaN   2.7   0.7   0.3   0.3   \n",
       "820    222     58    64    14  .423  .231   .688   8.9   2.3   2.6   0.6   \n",
       "\n",
       "        WS  WS/48    BPM  VORP  Year  \n",
       "0    115.7   .153    1.7  33.4  2006  \n",
       "1     -1.4  -.021   -5.0  -2.4  2006  \n",
       "2     13.0   .078   -1.2   1.7  2006  \n",
       "3      9.9   .085   -3.0  -1.5  2006  \n",
       "4     37.4   .155    3.6  16.3  2006  \n",
       "..     ...    ...    ...   ...   ...  \n",
       "816    0.1   .085   -2.8   0.0  2022  \n",
       "817    0.1   .155    1.1   0.0  2022  \n",
       "818    0.0  -.020   -7.3  -0.1  2022  \n",
       "819    0.0  -.271  -13.4   0.0  2022  \n",
       "820    0.3   .068   -3.8  -0.1  2022  \n",
       "\n",
       "[821 rows x 50 columns]"
      ]
     },
     "execution_count": 555,
     "metadata": {},
     "output_type": "execute_result"
    }
   ],
   "source": [
    "df.drop(['Season', 'Unnamed: 27', 'School'], axis=1)"
   ]
  },
  {
   "cell_type": "code",
   "execution_count": 560,
   "id": "acb4af01-5b83-4f6e-8387-05017d565182",
   "metadata": {},
   "outputs": [
    {
     "data": {
      "text/plain": [
       "array(['Texas', 'Gonzaga', 'LSU', 'Duke', 'Washington', 'Villanova',\n",
       "       'UConn', 'Bradley', 'Arkansas', 'NC State', 'Memphis',\n",
       "       'Rutgers University', 'South Carolina', 'Kentucky', 'Arizona',\n",
       "       'Michigan State', 'UCLA', 'Temple', 'Cincinnati', 'Marquette',\n",
       "       'South Florida', 'Boston College', 'UNC', 'Illinois',\n",
       "       'Florida State', 'Louisiana Tech', 'California', 'Miami (FL)',\n",
       "       'George Washington', 'Iowa State', 'Ohio State', 'Florida',\n",
       "       'Georgetown', 'Texas A&M', 'Georgia Tech', 'Kansas',\n",
       "       'Eastern Washington', 'USC', 'Colorado State', 'DePaul',\n",
       "       'Rice University', 'Oregon', 'Wisconsin', 'Purdue', 'Nevada',\n",
       "       'Alabama', 'Vanderbilt', 'Iowa', 'Marist College', 'UMass',\n",
       "       'Fresno State', 'Pitt', 'Oklahoma State', 'Syracuse', 'Providence',\n",
       "       'Maryland', 'Kansas State', 'Indiana', 'West Virginia', 'Stanford',\n",
       "       'Rider University', 'Western Kentucky', 'IUPUI', 'New Mexico',\n",
       "       'UAB', 'Washington State', 'Virginia',\n",
       "       'Brigham Young University Hawaii', 'Virginia Tech', 'Oklahoma',\n",
       "       'Arizona State', 'Davidson', 'Louisville', 'Wake Forest', 'VCU',\n",
       "       'Missouri', 'Central Florida', 'Xavier', 'William & Mary',\n",
       "       \"Saint Mary's\", \"Saint Joseph's\",\n",
       "       'University of Tennessee at Martin', 'Baylor', 'Butler', 'Clemson',\n",
       "       'Marshall', 'Ole Miss', 'Mississippi State', 'Tulsa', 'Notre Dame',\n",
       "       'Texas-El Paso', 'BYU', 'Colorado', 'San Diego State', 'Tennessee',\n",
       "       'Morehead State University', 'Cleveland State University',\n",
       "       'Richmond', 'Georgia', 'Michigan', 'Hofstra',\n",
       "       'College of Charleston', 'Oakland', 'Weber State', \"St. John's\",\n",
       "       'St. Bonaventure', 'Oregon State', 'UC Santa Barbara',\n",
       "       'Tennessee Technological University', 'Norfolk State', 'UNLV',\n",
       "       'Lehigh', 'Murray State', 'Detroit Mercy',\n",
       "       'University of North Texas', 'South Dakota State', 'Bucknell',\n",
       "       'Cal State Long Beach', 'Louisiana', 'Creighton', 'Wichita State',\n",
       "       'Green Bay', 'Utah', 'Wyoming', 'Georgia State University',\n",
       "       'Bowling Green', 'New Mexico State', 'Seton Hall', 'SMU',\n",
       "       'Valparaiso', 'Texas Tech', 'Boise State', 'Tulane',\n",
       "       'Missouri State', 'Penn State', 'UT Arlington', 'Dayton', 'Auburn',\n",
       "       'Belmont', 'Nebraska', 'Yale', 'TCU', 'Minnesota',\n",
       "       'Utah State University', 'Houston', 'Loyola (MD)',\n",
       "       'Ohio University', 'Pepperdine', 'Santa Clara', 'UW-Milwaukee',\n",
       "       'Toledo'], dtype=object)"
      ]
     },
     "execution_count": 560,
     "metadata": {},
     "output_type": "execute_result"
    }
   ],
   "source": [
    "df['College'].unique()"
   ]
  },
  {
   "cell_type": "code",
   "execution_count": null,
   "id": "ac0e197c-bb17-4ada-9d5b-d7a38cb7c607",
   "metadata": {},
   "outputs": [],
   "source": []
  }
 ],
 "metadata": {
  "kernelspec": {
   "display_name": "Python 3 (ipykernel)",
   "language": "python",
   "name": "python3"
  },
  "language_info": {
   "codemirror_mode": {
    "name": "ipython",
    "version": 3
   },
   "file_extension": ".py",
   "mimetype": "text/x-python",
   "name": "python",
   "nbconvert_exporter": "python",
   "pygments_lexer": "ipython3",
   "version": "3.9.12"
  }
 },
 "nbformat": 4,
 "nbformat_minor": 5
}
