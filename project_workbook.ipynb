{
 "cells": [
  {
   "cell_type": "code",
   "execution_count": 1,
   "id": "3644d818-6813-43c9-b64c-f2829a409d4a",
   "metadata": {},
   "outputs": [],
   "source": [
    "import pandas as pd\n",
    "pd.set_option('display.max_columns', None)"
   ]
  },
  {
   "cell_type": "code",
   "execution_count": 2,
   "id": "d76cce40-d241-441c-bee9-b9518c964e05",
   "metadata": {},
   "outputs": [],
   "source": [
    "df = pd.read_csv('fulldf.csv')"
   ]
  },
  {
   "cell_type": "markdown",
   "id": "93c6611b-573a-4d2d-a26d-5e5f41fbf840",
   "metadata": {},
   "source": [
    "### Categorize conference into tiers - power 6 and others"
   ]
  },
  {
   "cell_type": "code",
   "execution_count": 3,
   "id": "dfea6d27-589c-4e16-8d40-2faff3b3a8db",
   "metadata": {},
   "outputs": [
    {
     "data": {
      "text/plain": [
       "array(['Big 12', 'WCC', 'SEC', 'ACC', 'Pac 12', 'Big East', 'MVC', 'AAC',\n",
       "       'Big 10', 'CUSA', 'A10', 'Big Sky', 'MW', 'MAAC', 'Horizon', 'D2',\n",
       "       'CAA', 'Ohio Valley', 'Sun Belt', 'Big West', 'MEAC', 'Patriot',\n",
       "       'Summit', 'MAC', 'WAC', 'Ivy'], dtype=object)"
      ]
     },
     "execution_count": 3,
     "metadata": {},
     "output_type": "execute_result"
    }
   ],
   "source": [
    "df['Conf'].unique()"
   ]
  },
  {
   "cell_type": "code",
   "execution_count": 5,
   "id": "2746fc27-8e94-4da9-923f-6c58d67d2512",
   "metadata": {},
   "outputs": [],
   "source": [
    "conf_tiers = {'Big 12': 'Big 12', 'WCC': 'Other', 'SEC': 'SEC', 'ACC': 'ACC', 'Pac 12': 'Pac 12', 'Big East':'Big East', \n",
    "              'MVC': 'Other', 'AAC': 'Other', 'Big 10': 'Big 10', 'CUSA': 'Other', 'A10': 'Other', 'Big Sky': 'Other', \n",
    "              'MW': 'Other', 'MAAC': 'Other', 'Horizon': 'Other', 'D2': 'Other', 'CAA': 'Other', 'Ohio Valley': 'Other',\n",
    "              'Sun Belt': 'Other', 'Big West': 'Other', 'MEAC': 'Other', 'Patriot': 'Other', 'Summit': 'Other', 'MAC': 'Other',\n",
    "              'WAC': 'Other', 'Ivy':'Other'}"
   ]
  },
  {
   "cell_type": "code",
   "execution_count": 6,
   "id": "e54bf0e7-17b3-4bc6-8c2e-14d7ff660ceb",
   "metadata": {},
   "outputs": [],
   "source": [
    "df['Conf Tier'] = df['Conf'].map(conf_tiers)"
   ]
  },
  {
   "cell_type": "code",
   "execution_count": 160,
   "id": "9737eab7-ef4b-4b32-89a6-b7f185fbef5c",
   "metadata": {},
   "outputs": [
    {
     "data": {
      "text/html": [
       "<div>\n",
       "<style scoped>\n",
       "    .dataframe tbody tr th:only-of-type {\n",
       "        vertical-align: middle;\n",
       "    }\n",
       "\n",
       "    .dataframe tbody tr th {\n",
       "        vertical-align: top;\n",
       "    }\n",
       "\n",
       "    .dataframe thead th {\n",
       "        text-align: right;\n",
       "    }\n",
       "</style>\n",
       "<table border=\"1\" class=\"dataframe\">\n",
       "  <thead>\n",
       "    <tr style=\"text-align: right;\">\n",
       "      <th></th>\n",
       "      <th>Conf</th>\n",
       "      <th>G_x</th>\n",
       "      <th>GS</th>\n",
       "      <th>MP_x</th>\n",
       "      <th>FG</th>\n",
       "      <th>FGA</th>\n",
       "      <th>FG%_x</th>\n",
       "      <th>2P</th>\n",
       "      <th>2PA</th>\n",
       "      <th>2P%</th>\n",
       "      <th>3P</th>\n",
       "      <th>3PA</th>\n",
       "      <th>3P%_x</th>\n",
       "      <th>FT</th>\n",
       "      <th>FTA</th>\n",
       "      <th>FT%_x</th>\n",
       "      <th>ORB</th>\n",
       "      <th>DRB</th>\n",
       "      <th>TRB_x</th>\n",
       "      <th>AST_x</th>\n",
       "      <th>STL</th>\n",
       "      <th>BLK</th>\n",
       "      <th>TOV</th>\n",
       "      <th>PF</th>\n",
       "      <th>PTS_x</th>\n",
       "      <th>SOS</th>\n",
       "      <th>Years Played</th>\n",
       "      <th>Player</th>\n",
       "      <th>Rk</th>\n",
       "      <th>Pk</th>\n",
       "      <th>Tm</th>\n",
       "      <th>College</th>\n",
       "      <th>Yrs</th>\n",
       "      <th>G_y</th>\n",
       "      <th>MP_y</th>\n",
       "      <th>PTS_y</th>\n",
       "      <th>TRB_y</th>\n",
       "      <th>AST_y</th>\n",
       "      <th>FG%_y</th>\n",
       "      <th>3P%_y</th>\n",
       "      <th>FT%_y</th>\n",
       "      <th>MP.1</th>\n",
       "      <th>PTS.1</th>\n",
       "      <th>TRB.1</th>\n",
       "      <th>AST.1</th>\n",
       "      <th>WS</th>\n",
       "      <th>WS/48</th>\n",
       "      <th>BPM</th>\n",
       "      <th>VORP</th>\n",
       "      <th>Year</th>\n",
       "      <th>Conf Tier</th>\n",
       "    </tr>\n",
       "  </thead>\n",
       "  <tbody>\n",
       "    <tr>\n",
       "      <th>0</th>\n",
       "      <td>Big 12</td>\n",
       "      <td>53.0</td>\n",
       "      <td>53.0</td>\n",
       "      <td>30.2</td>\n",
       "      <td>5.2</td>\n",
       "      <td>8.9</td>\n",
       "      <td>0.586</td>\n",
       "      <td>5.2</td>\n",
       "      <td>8.9</td>\n",
       "      <td>0.586</td>\n",
       "      <td>0.0</td>\n",
       "      <td>0.0</td>\n",
       "      <td>NaN</td>\n",
       "      <td>3.0</td>\n",
       "      <td>4.7</td>\n",
       "      <td>0.649</td>\n",
       "      <td>3.4</td>\n",
       "      <td>4.8</td>\n",
       "      <td>8.2</td>\n",
       "      <td>0.6</td>\n",
       "      <td>1.3</td>\n",
       "      <td>1.8</td>\n",
       "      <td>1.6</td>\n",
       "      <td>2.7</td>\n",
       "      <td>13.5</td>\n",
       "      <td>7.28</td>\n",
       "      <td>2</td>\n",
       "      <td>LaMarcus Aldridge</td>\n",
       "      <td>2</td>\n",
       "      <td>2</td>\n",
       "      <td>CHI</td>\n",
       "      <td>Texas</td>\n",
       "      <td>16.0</td>\n",
       "      <td>1076.0</td>\n",
       "      <td>36242.0</td>\n",
       "      <td>20558.0</td>\n",
       "      <td>8736.0</td>\n",
       "      <td>2076.0</td>\n",
       "      <td>0.493</td>\n",
       "      <td>0.320</td>\n",
       "      <td>0.813</td>\n",
       "      <td>33.7</td>\n",
       "      <td>19.1</td>\n",
       "      <td>8.1</td>\n",
       "      <td>1.9</td>\n",
       "      <td>115.7</td>\n",
       "      <td>0.153</td>\n",
       "      <td>1.7</td>\n",
       "      <td>33.4</td>\n",
       "      <td>2006</td>\n",
       "      <td>Big 12</td>\n",
       "    </tr>\n",
       "    <tr>\n",
       "      <th>1</th>\n",
       "      <td>WCC</td>\n",
       "      <td>95.0</td>\n",
       "      <td>62.0</td>\n",
       "      <td>30.6</td>\n",
       "      <td>7.0</td>\n",
       "      <td>14.0</td>\n",
       "      <td>0.503</td>\n",
       "      <td>5.7</td>\n",
       "      <td>10.3</td>\n",
       "      <td>0.551</td>\n",
       "      <td>1.3</td>\n",
       "      <td>3.7</td>\n",
       "      <td>0.368</td>\n",
       "      <td>4.2</td>\n",
       "      <td>5.5</td>\n",
       "      <td>0.761</td>\n",
       "      <td>1.3</td>\n",
       "      <td>3.8</td>\n",
       "      <td>5.1</td>\n",
       "      <td>2.0</td>\n",
       "      <td>0.7</td>\n",
       "      <td>0.4</td>\n",
       "      <td>1.7</td>\n",
       "      <td>1.7</td>\n",
       "      <td>19.7</td>\n",
       "      <td>4.23</td>\n",
       "      <td>3</td>\n",
       "      <td>Adam Morrison</td>\n",
       "      <td>3</td>\n",
       "      <td>3</td>\n",
       "      <td>CHA</td>\n",
       "      <td>Gonzaga</td>\n",
       "      <td>3.0</td>\n",
       "      <td>161.0</td>\n",
       "      <td>3278.0</td>\n",
       "      <td>1200.0</td>\n",
       "      <td>342.0</td>\n",
       "      <td>222.0</td>\n",
       "      <td>0.373</td>\n",
       "      <td>0.331</td>\n",
       "      <td>0.710</td>\n",
       "      <td>20.4</td>\n",
       "      <td>7.5</td>\n",
       "      <td>2.1</td>\n",
       "      <td>1.4</td>\n",
       "      <td>-1.4</td>\n",
       "      <td>-0.021</td>\n",
       "      <td>-5.0</td>\n",
       "      <td>-2.4</td>\n",
       "      <td>2006</td>\n",
       "      <td>Other</td>\n",
       "    </tr>\n",
       "    <tr>\n",
       "      <th>2</th>\n",
       "      <td>SEC</td>\n",
       "      <td>32.0</td>\n",
       "      <td>21.0</td>\n",
       "      <td>25.9</td>\n",
       "      <td>4.8</td>\n",
       "      <td>7.8</td>\n",
       "      <td>0.608</td>\n",
       "      <td>4.7</td>\n",
       "      <td>7.8</td>\n",
       "      <td>0.606</td>\n",
       "      <td>0.0</td>\n",
       "      <td>0.0</td>\n",
       "      <td>1.000</td>\n",
       "      <td>2.8</td>\n",
       "      <td>4.3</td>\n",
       "      <td>0.657</td>\n",
       "      <td>2.8</td>\n",
       "      <td>6.4</td>\n",
       "      <td>9.2</td>\n",
       "      <td>1.3</td>\n",
       "      <td>1.0</td>\n",
       "      <td>3.1</td>\n",
       "      <td>1.8</td>\n",
       "      <td>2.6</td>\n",
       "      <td>12.3</td>\n",
       "      <td>8.77</td>\n",
       "      <td>1</td>\n",
       "      <td>Tyrus Thomas</td>\n",
       "      <td>4</td>\n",
       "      <td>4</td>\n",
       "      <td>POR</td>\n",
       "      <td>LSU</td>\n",
       "      <td>8.0</td>\n",
       "      <td>402.0</td>\n",
       "      <td>7932.0</td>\n",
       "      <td>3093.0</td>\n",
       "      <td>1938.0</td>\n",
       "      <td>347.0</td>\n",
       "      <td>0.438</td>\n",
       "      <td>0.235</td>\n",
       "      <td>0.732</td>\n",
       "      <td>19.7</td>\n",
       "      <td>7.7</td>\n",
       "      <td>4.8</td>\n",
       "      <td>0.9</td>\n",
       "      <td>13.0</td>\n",
       "      <td>0.078</td>\n",
       "      <td>-1.2</td>\n",
       "      <td>1.7</td>\n",
       "      <td>2006</td>\n",
       "      <td>SEC</td>\n",
       "    </tr>\n",
       "    <tr>\n",
       "      <th>3</th>\n",
       "      <td>ACC</td>\n",
       "      <td>139.0</td>\n",
       "      <td>128.0</td>\n",
       "      <td>28.1</td>\n",
       "      <td>4.9</td>\n",
       "      <td>8.6</td>\n",
       "      <td>0.572</td>\n",
       "      <td>4.9</td>\n",
       "      <td>8.6</td>\n",
       "      <td>0.574</td>\n",
       "      <td>0.0</td>\n",
       "      <td>0.1</td>\n",
       "      <td>0.333</td>\n",
       "      <td>4.0</td>\n",
       "      <td>5.7</td>\n",
       "      <td>0.694</td>\n",
       "      <td>3.2</td>\n",
       "      <td>5.9</td>\n",
       "      <td>9.1</td>\n",
       "      <td>0.9</td>\n",
       "      <td>1.2</td>\n",
       "      <td>3.0</td>\n",
       "      <td>2.3</td>\n",
       "      <td>3.1</td>\n",
       "      <td>13.9</td>\n",
       "      <td>9.51</td>\n",
       "      <td>4</td>\n",
       "      <td>Shelden Williams</td>\n",
       "      <td>5</td>\n",
       "      <td>5</td>\n",
       "      <td>ATL</td>\n",
       "      <td>Duke</td>\n",
       "      <td>6.0</td>\n",
       "      <td>361.0</td>\n",
       "      <td>5586.0</td>\n",
       "      <td>1618.0</td>\n",
       "      <td>1562.0</td>\n",
       "      <td>163.0</td>\n",
       "      <td>0.462</td>\n",
       "      <td>0.222</td>\n",
       "      <td>0.740</td>\n",
       "      <td>15.5</td>\n",
       "      <td>4.5</td>\n",
       "      <td>4.3</td>\n",
       "      <td>0.5</td>\n",
       "      <td>9.9</td>\n",
       "      <td>0.085</td>\n",
       "      <td>-3.0</td>\n",
       "      <td>-1.5</td>\n",
       "      <td>2006</td>\n",
       "      <td>ACC</td>\n",
       "    </tr>\n",
       "    <tr>\n",
       "      <th>4</th>\n",
       "      <td>Pac 12</td>\n",
       "      <td>103.0</td>\n",
       "      <td>71.0</td>\n",
       "      <td>27.5</td>\n",
       "      <td>5.2</td>\n",
       "      <td>10.1</td>\n",
       "      <td>0.512</td>\n",
       "      <td>4.7</td>\n",
       "      <td>8.6</td>\n",
       "      <td>0.541</td>\n",
       "      <td>0.5</td>\n",
       "      <td>1.5</td>\n",
       "      <td>0.344</td>\n",
       "      <td>3.5</td>\n",
       "      <td>4.5</td>\n",
       "      <td>0.765</td>\n",
       "      <td>1.8</td>\n",
       "      <td>3.2</td>\n",
       "      <td>5.0</td>\n",
       "      <td>3.0</td>\n",
       "      <td>1.0</td>\n",
       "      <td>0.5</td>\n",
       "      <td>2.1</td>\n",
       "      <td>2.1</td>\n",
       "      <td>14.3</td>\n",
       "      <td>6.83</td>\n",
       "      <td>4</td>\n",
       "      <td>Brandon Roy</td>\n",
       "      <td>6</td>\n",
       "      <td>6</td>\n",
       "      <td>MIN</td>\n",
       "      <td>Washington</td>\n",
       "      <td>6.0</td>\n",
       "      <td>326.0</td>\n",
       "      <td>11561.0</td>\n",
       "      <td>6136.0</td>\n",
       "      <td>1388.0</td>\n",
       "      <td>1517.0</td>\n",
       "      <td>0.459</td>\n",
       "      <td>0.348</td>\n",
       "      <td>0.800</td>\n",
       "      <td>35.5</td>\n",
       "      <td>18.8</td>\n",
       "      <td>4.3</td>\n",
       "      <td>4.7</td>\n",
       "      <td>37.4</td>\n",
       "      <td>0.155</td>\n",
       "      <td>3.6</td>\n",
       "      <td>16.3</td>\n",
       "      <td>2006</td>\n",
       "      <td>Pac 12</td>\n",
       "    </tr>\n",
       "  </tbody>\n",
       "</table>\n",
       "</div>"
      ],
      "text/plain": [
       "     Conf    G_x     GS  MP_x   FG   FGA  FG%_x   2P   2PA    2P%   3P  3PA  \\\n",
       "0  Big 12   53.0   53.0  30.2  5.2   8.9  0.586  5.2   8.9  0.586  0.0  0.0   \n",
       "1     WCC   95.0   62.0  30.6  7.0  14.0  0.503  5.7  10.3  0.551  1.3  3.7   \n",
       "2     SEC   32.0   21.0  25.9  4.8   7.8  0.608  4.7   7.8  0.606  0.0  0.0   \n",
       "3     ACC  139.0  128.0  28.1  4.9   8.6  0.572  4.9   8.6  0.574  0.0  0.1   \n",
       "4  Pac 12  103.0   71.0  27.5  5.2  10.1  0.512  4.7   8.6  0.541  0.5  1.5   \n",
       "\n",
       "   3P%_x   FT  FTA  FT%_x  ORB  DRB  TRB_x  AST_x  STL  BLK  TOV   PF  PTS_x  \\\n",
       "0    NaN  3.0  4.7  0.649  3.4  4.8    8.2    0.6  1.3  1.8  1.6  2.7   13.5   \n",
       "1  0.368  4.2  5.5  0.761  1.3  3.8    5.1    2.0  0.7  0.4  1.7  1.7   19.7   \n",
       "2  1.000  2.8  4.3  0.657  2.8  6.4    9.2    1.3  1.0  3.1  1.8  2.6   12.3   \n",
       "3  0.333  4.0  5.7  0.694  3.2  5.9    9.1    0.9  1.2  3.0  2.3  3.1   13.9   \n",
       "4  0.344  3.5  4.5  0.765  1.8  3.2    5.0    3.0  1.0  0.5  2.1  2.1   14.3   \n",
       "\n",
       "    SOS  Years Played             Player  Rk  Pk   Tm     College   Yrs  \\\n",
       "0  7.28             2  LaMarcus Aldridge   2   2  CHI       Texas  16.0   \n",
       "1  4.23             3      Adam Morrison   3   3  CHA     Gonzaga   3.0   \n",
       "2  8.77             1       Tyrus Thomas   4   4  POR         LSU   8.0   \n",
       "3  9.51             4   Shelden Williams   5   5  ATL        Duke   6.0   \n",
       "4  6.83             4        Brandon Roy   6   6  MIN  Washington   6.0   \n",
       "\n",
       "      G_y     MP_y    PTS_y   TRB_y   AST_y  FG%_y  3P%_y  FT%_y  MP.1  PTS.1  \\\n",
       "0  1076.0  36242.0  20558.0  8736.0  2076.0  0.493  0.320  0.813  33.7   19.1   \n",
       "1   161.0   3278.0   1200.0   342.0   222.0  0.373  0.331  0.710  20.4    7.5   \n",
       "2   402.0   7932.0   3093.0  1938.0   347.0  0.438  0.235  0.732  19.7    7.7   \n",
       "3   361.0   5586.0   1618.0  1562.0   163.0  0.462  0.222  0.740  15.5    4.5   \n",
       "4   326.0  11561.0   6136.0  1388.0  1517.0  0.459  0.348  0.800  35.5   18.8   \n",
       "\n",
       "   TRB.1  AST.1     WS  WS/48  BPM  VORP  Year Conf Tier  \n",
       "0    8.1    1.9  115.7  0.153  1.7  33.4  2006    Big 12  \n",
       "1    2.1    1.4   -1.4 -0.021 -5.0  -2.4  2006     Other  \n",
       "2    4.8    0.9   13.0  0.078 -1.2   1.7  2006       SEC  \n",
       "3    4.3    0.5    9.9  0.085 -3.0  -1.5  2006       ACC  \n",
       "4    4.3    4.7   37.4  0.155  3.6  16.3  2006    Pac 12  "
      ]
     },
     "execution_count": 160,
     "metadata": {},
     "output_type": "execute_result"
    }
   ],
   "source": [
    "df.head(5)"
   ]
  },
  {
   "cell_type": "markdown",
   "id": "0855d2fb-9512-41a4-b745-a9efce36439d",
   "metadata": {},
   "source": [
    "## Exploratory data analysis"
   ]
  },
  {
   "cell_type": "code",
   "execution_count": 159,
   "id": "24010485-07da-480a-9d0d-92da7628fc78",
   "metadata": {},
   "outputs": [
    {
     "data": {
      "text/html": [
       "<div>\n",
       "<style scoped>\n",
       "    .dataframe tbody tr th:only-of-type {\n",
       "        vertical-align: middle;\n",
       "    }\n",
       "\n",
       "    .dataframe tbody tr th {\n",
       "        vertical-align: top;\n",
       "    }\n",
       "\n",
       "    .dataframe thead th {\n",
       "        text-align: right;\n",
       "    }\n",
       "</style>\n",
       "<table border=\"1\" class=\"dataframe\">\n",
       "  <thead>\n",
       "    <tr style=\"text-align: right;\">\n",
       "      <th></th>\n",
       "      <th>Conf</th>\n",
       "      <th>G_x</th>\n",
       "      <th>GS</th>\n",
       "      <th>MP_x</th>\n",
       "      <th>FG</th>\n",
       "      <th>FGA</th>\n",
       "      <th>FG%_x</th>\n",
       "      <th>2P</th>\n",
       "      <th>2PA</th>\n",
       "      <th>2P%</th>\n",
       "      <th>3P</th>\n",
       "      <th>3PA</th>\n",
       "      <th>3P%_x</th>\n",
       "      <th>FT</th>\n",
       "      <th>FTA</th>\n",
       "      <th>FT%_x</th>\n",
       "      <th>ORB</th>\n",
       "      <th>DRB</th>\n",
       "      <th>TRB_x</th>\n",
       "      <th>AST_x</th>\n",
       "      <th>STL</th>\n",
       "      <th>BLK</th>\n",
       "      <th>TOV</th>\n",
       "      <th>PF</th>\n",
       "      <th>PTS_x</th>\n",
       "      <th>SOS</th>\n",
       "      <th>Years Played</th>\n",
       "      <th>Player</th>\n",
       "      <th>Rk</th>\n",
       "      <th>Pk</th>\n",
       "      <th>Tm</th>\n",
       "      <th>College</th>\n",
       "      <th>Yrs</th>\n",
       "      <th>G_y</th>\n",
       "      <th>MP_y</th>\n",
       "      <th>PTS_y</th>\n",
       "      <th>TRB_y</th>\n",
       "      <th>AST_y</th>\n",
       "      <th>FG%_y</th>\n",
       "      <th>3P%_y</th>\n",
       "      <th>FT%_y</th>\n",
       "      <th>MP.1</th>\n",
       "      <th>PTS.1</th>\n",
       "      <th>TRB.1</th>\n",
       "      <th>AST.1</th>\n",
       "      <th>WS</th>\n",
       "      <th>WS/48</th>\n",
       "      <th>BPM</th>\n",
       "      <th>VORP</th>\n",
       "      <th>Year</th>\n",
       "      <th>Conf Tier</th>\n",
       "    </tr>\n",
       "  </thead>\n",
       "  <tbody>\n",
       "    <tr>\n",
       "      <th>48</th>\n",
       "      <td>Big 12</td>\n",
       "      <td>35.0</td>\n",
       "      <td>35.0</td>\n",
       "      <td>35.9</td>\n",
       "      <td>8.7</td>\n",
       "      <td>18.5</td>\n",
       "      <td>0.473</td>\n",
       "      <td>6.4</td>\n",
       "      <td>12.7</td>\n",
       "      <td>0.505</td>\n",
       "      <td>2.3</td>\n",
       "      <td>5.8</td>\n",
       "      <td>0.404</td>\n",
       "      <td>6.0</td>\n",
       "      <td>7.3</td>\n",
       "      <td>0.816</td>\n",
       "      <td>3.0</td>\n",
       "      <td>8.1</td>\n",
       "      <td>11.1</td>\n",
       "      <td>1.3</td>\n",
       "      <td>1.9</td>\n",
       "      <td>1.9</td>\n",
       "      <td>2.8</td>\n",
       "      <td>2.0</td>\n",
       "      <td>25.8</td>\n",
       "      <td>6.12</td>\n",
       "      <td>1</td>\n",
       "      <td>Kevin Durant</td>\n",
       "      <td>2</td>\n",
       "      <td>2</td>\n",
       "      <td>SEA</td>\n",
       "      <td>Texas</td>\n",
       "      <td>15.0</td>\n",
       "      <td>978.0</td>\n",
       "      <td>35912.0</td>\n",
       "      <td>26684.0</td>\n",
       "      <td>6908.0</td>\n",
       "      <td>4239.0</td>\n",
       "      <td>0.498</td>\n",
       "      <td>0.384</td>\n",
       "      <td>0.886</td>\n",
       "      <td>36.7</td>\n",
       "      <td>27.3</td>\n",
       "      <td>7.1</td>\n",
       "      <td>4.3</td>\n",
       "      <td>161.1</td>\n",
       "      <td>0.215</td>\n",
       "      <td>6.8</td>\n",
       "      <td>79.6</td>\n",
       "      <td>2007</td>\n",
       "      <td>Big 12</td>\n",
       "    </tr>\n",
       "    <tr>\n",
       "      <th>144</th>\n",
       "      <td>Pac 12</td>\n",
       "      <td>69.0</td>\n",
       "      <td>68.0</td>\n",
       "      <td>35.0</td>\n",
       "      <td>6.0</td>\n",
       "      <td>11.9</td>\n",
       "      <td>0.506</td>\n",
       "      <td>4.6</td>\n",
       "      <td>8.0</td>\n",
       "      <td>0.570</td>\n",
       "      <td>1.5</td>\n",
       "      <td>3.9</td>\n",
       "      <td>0.376</td>\n",
       "      <td>5.4</td>\n",
       "      <td>7.2</td>\n",
       "      <td>0.755</td>\n",
       "      <td>1.3</td>\n",
       "      <td>4.1</td>\n",
       "      <td>5.4</td>\n",
       "      <td>3.7</td>\n",
       "      <td>1.9</td>\n",
       "      <td>0.4</td>\n",
       "      <td>3.0</td>\n",
       "      <td>2.5</td>\n",
       "      <td>19.0</td>\n",
       "      <td>7.05</td>\n",
       "      <td>2</td>\n",
       "      <td>James Harden</td>\n",
       "      <td>3</td>\n",
       "      <td>3</td>\n",
       "      <td>OKC</td>\n",
       "      <td>Arizona State</td>\n",
       "      <td>14.0</td>\n",
       "      <td>978.0</td>\n",
       "      <td>33929.0</td>\n",
       "      <td>24233.0</td>\n",
       "      <td>5524.0</td>\n",
       "      <td>6790.0</td>\n",
       "      <td>0.442</td>\n",
       "      <td>0.362</td>\n",
       "      <td>0.859</td>\n",
       "      <td>34.7</td>\n",
       "      <td>24.8</td>\n",
       "      <td>5.6</td>\n",
       "      <td>6.9</td>\n",
       "      <td>155.0</td>\n",
       "      <td>0.219</td>\n",
       "      <td>6.7</td>\n",
       "      <td>74.4</td>\n",
       "      <td>2009</td>\n",
       "      <td>Pac 12</td>\n",
       "    </tr>\n",
       "    <tr>\n",
       "      <th>147</th>\n",
       "      <td>A10</td>\n",
       "      <td>104.0</td>\n",
       "      <td>103.0</td>\n",
       "      <td>32.6</td>\n",
       "      <td>8.4</td>\n",
       "      <td>17.9</td>\n",
       "      <td>0.467</td>\n",
       "      <td>4.4</td>\n",
       "      <td>8.3</td>\n",
       "      <td>0.530</td>\n",
       "      <td>4.0</td>\n",
       "      <td>9.7</td>\n",
       "      <td>0.412</td>\n",
       "      <td>4.6</td>\n",
       "      <td>5.3</td>\n",
       "      <td>0.876</td>\n",
       "      <td>0.8</td>\n",
       "      <td>3.8</td>\n",
       "      <td>4.5</td>\n",
       "      <td>3.7</td>\n",
       "      <td>2.1</td>\n",
       "      <td>0.3</td>\n",
       "      <td>3.0</td>\n",
       "      <td>2.4</td>\n",
       "      <td>25.3</td>\n",
       "      <td>-1.31</td>\n",
       "      <td>3</td>\n",
       "      <td>Stephen Curry</td>\n",
       "      <td>7</td>\n",
       "      <td>7</td>\n",
       "      <td>GSW</td>\n",
       "      <td>Davidson</td>\n",
       "      <td>14.0</td>\n",
       "      <td>864.0</td>\n",
       "      <td>29674.0</td>\n",
       "      <td>21183.0</td>\n",
       "      <td>4079.0</td>\n",
       "      <td>5632.0</td>\n",
       "      <td>0.475</td>\n",
       "      <td>0.428</td>\n",
       "      <td>0.909</td>\n",
       "      <td>34.3</td>\n",
       "      <td>24.5</td>\n",
       "      <td>4.7</td>\n",
       "      <td>6.5</td>\n",
       "      <td>125.8</td>\n",
       "      <td>0.203</td>\n",
       "      <td>6.6</td>\n",
       "      <td>64.3</td>\n",
       "      <td>2009</td>\n",
       "      <td>Other</td>\n",
       "    </tr>\n",
       "    <tr>\n",
       "      <th>0</th>\n",
       "      <td>Big 12</td>\n",
       "      <td>53.0</td>\n",
       "      <td>53.0</td>\n",
       "      <td>30.2</td>\n",
       "      <td>5.2</td>\n",
       "      <td>8.9</td>\n",
       "      <td>0.586</td>\n",
       "      <td>5.2</td>\n",
       "      <td>8.9</td>\n",
       "      <td>0.586</td>\n",
       "      <td>0.0</td>\n",
       "      <td>0.0</td>\n",
       "      <td>NaN</td>\n",
       "      <td>3.0</td>\n",
       "      <td>4.7</td>\n",
       "      <td>0.649</td>\n",
       "      <td>3.4</td>\n",
       "      <td>4.8</td>\n",
       "      <td>8.2</td>\n",
       "      <td>0.6</td>\n",
       "      <td>1.3</td>\n",
       "      <td>1.8</td>\n",
       "      <td>1.6</td>\n",
       "      <td>2.7</td>\n",
       "      <td>13.5</td>\n",
       "      <td>7.28</td>\n",
       "      <td>2</td>\n",
       "      <td>LaMarcus Aldridge</td>\n",
       "      <td>2</td>\n",
       "      <td>2</td>\n",
       "      <td>CHI</td>\n",
       "      <td>Texas</td>\n",
       "      <td>16.0</td>\n",
       "      <td>1076.0</td>\n",
       "      <td>36242.0</td>\n",
       "      <td>20558.0</td>\n",
       "      <td>8736.0</td>\n",
       "      <td>2076.0</td>\n",
       "      <td>0.493</td>\n",
       "      <td>0.320</td>\n",
       "      <td>0.813</td>\n",
       "      <td>33.7</td>\n",
       "      <td>19.1</td>\n",
       "      <td>8.1</td>\n",
       "      <td>1.9</td>\n",
       "      <td>115.7</td>\n",
       "      <td>0.153</td>\n",
       "      <td>1.7</td>\n",
       "      <td>33.4</td>\n",
       "      <td>2006</td>\n",
       "      <td>Big 12</td>\n",
       "    </tr>\n",
       "    <tr>\n",
       "      <th>22</th>\n",
       "      <td>Big East</td>\n",
       "      <td>57.0</td>\n",
       "      <td>34.0</td>\n",
       "      <td>26.7</td>\n",
       "      <td>3.2</td>\n",
       "      <td>7.1</td>\n",
       "      <td>0.449</td>\n",
       "      <td>2.9</td>\n",
       "      <td>6.4</td>\n",
       "      <td>0.463</td>\n",
       "      <td>0.2</td>\n",
       "      <td>0.7</td>\n",
       "      <td>0.325</td>\n",
       "      <td>2.9</td>\n",
       "      <td>4.0</td>\n",
       "      <td>0.737</td>\n",
       "      <td>1.4</td>\n",
       "      <td>2.4</td>\n",
       "      <td>3.8</td>\n",
       "      <td>3.0</td>\n",
       "      <td>1.9</td>\n",
       "      <td>0.2</td>\n",
       "      <td>1.9</td>\n",
       "      <td>2.6</td>\n",
       "      <td>9.5</td>\n",
       "      <td>8.83</td>\n",
       "      <td>2</td>\n",
       "      <td>Kyle Lowry</td>\n",
       "      <td>24</td>\n",
       "      <td>24</td>\n",
       "      <td>MEM</td>\n",
       "      <td>Villanova</td>\n",
       "      <td>17.0</td>\n",
       "      <td>1067.0</td>\n",
       "      <td>34077.0</td>\n",
       "      <td>15644.0</td>\n",
       "      <td>4665.0</td>\n",
       "      <td>6701.0</td>\n",
       "      <td>0.424</td>\n",
       "      <td>0.367</td>\n",
       "      <td>0.815</td>\n",
       "      <td>31.9</td>\n",
       "      <td>14.7</td>\n",
       "      <td>4.4</td>\n",
       "      <td>6.3</td>\n",
       "      <td>107.6</td>\n",
       "      <td>0.152</td>\n",
       "      <td>3.0</td>\n",
       "      <td>42.6</td>\n",
       "      <td>2006</td>\n",
       "      <td>Big East</td>\n",
       "    </tr>\n",
       "  </tbody>\n",
       "</table>\n",
       "</div>"
      ],
      "text/plain": [
       "         Conf    G_x     GS  MP_x   FG   FGA  FG%_x   2P   2PA    2P%   3P  \\\n",
       "48     Big 12   35.0   35.0  35.9  8.7  18.5  0.473  6.4  12.7  0.505  2.3   \n",
       "144    Pac 12   69.0   68.0  35.0  6.0  11.9  0.506  4.6   8.0  0.570  1.5   \n",
       "147       A10  104.0  103.0  32.6  8.4  17.9  0.467  4.4   8.3  0.530  4.0   \n",
       "0      Big 12   53.0   53.0  30.2  5.2   8.9  0.586  5.2   8.9  0.586  0.0   \n",
       "22   Big East   57.0   34.0  26.7  3.2   7.1  0.449  2.9   6.4  0.463  0.2   \n",
       "\n",
       "     3PA  3P%_x   FT  FTA  FT%_x  ORB  DRB  TRB_x  AST_x  STL  BLK  TOV   PF  \\\n",
       "48   5.8  0.404  6.0  7.3  0.816  3.0  8.1   11.1    1.3  1.9  1.9  2.8  2.0   \n",
       "144  3.9  0.376  5.4  7.2  0.755  1.3  4.1    5.4    3.7  1.9  0.4  3.0  2.5   \n",
       "147  9.7  0.412  4.6  5.3  0.876  0.8  3.8    4.5    3.7  2.1  0.3  3.0  2.4   \n",
       "0    0.0    NaN  3.0  4.7  0.649  3.4  4.8    8.2    0.6  1.3  1.8  1.6  2.7   \n",
       "22   0.7  0.325  2.9  4.0  0.737  1.4  2.4    3.8    3.0  1.9  0.2  1.9  2.6   \n",
       "\n",
       "     PTS_x   SOS  Years Played             Player  Rk  Pk   Tm        College  \\\n",
       "48    25.8  6.12             1       Kevin Durant   2   2  SEA          Texas   \n",
       "144   19.0  7.05             2       James Harden   3   3  OKC  Arizona State   \n",
       "147   25.3 -1.31             3      Stephen Curry   7   7  GSW       Davidson   \n",
       "0     13.5  7.28             2  LaMarcus Aldridge   2   2  CHI          Texas   \n",
       "22     9.5  8.83             2         Kyle Lowry  24  24  MEM      Villanova   \n",
       "\n",
       "      Yrs     G_y     MP_y    PTS_y   TRB_y   AST_y  FG%_y  3P%_y  FT%_y  \\\n",
       "48   15.0   978.0  35912.0  26684.0  6908.0  4239.0  0.498  0.384  0.886   \n",
       "144  14.0   978.0  33929.0  24233.0  5524.0  6790.0  0.442  0.362  0.859   \n",
       "147  14.0   864.0  29674.0  21183.0  4079.0  5632.0  0.475  0.428  0.909   \n",
       "0    16.0  1076.0  36242.0  20558.0  8736.0  2076.0  0.493  0.320  0.813   \n",
       "22   17.0  1067.0  34077.0  15644.0  4665.0  6701.0  0.424  0.367  0.815   \n",
       "\n",
       "     MP.1  PTS.1  TRB.1  AST.1     WS  WS/48  BPM  VORP  Year Conf Tier  \n",
       "48   36.7   27.3    7.1    4.3  161.1  0.215  6.8  79.6  2007    Big 12  \n",
       "144  34.7   24.8    5.6    6.9  155.0  0.219  6.7  74.4  2009    Pac 12  \n",
       "147  34.3   24.5    4.7    6.5  125.8  0.203  6.6  64.3  2009     Other  \n",
       "0    33.7   19.1    8.1    1.9  115.7  0.153  1.7  33.4  2006    Big 12  \n",
       "22   31.9   14.7    4.4    6.3  107.6  0.152  3.0  42.6  2006  Big East  "
      ]
     },
     "execution_count": 159,
     "metadata": {},
     "output_type": "execute_result"
    }
   ],
   "source": [
    "df.sort_values(by='WS', ascending=False).head(5)"
   ]
  },
  {
   "cell_type": "markdown",
   "id": "aba36670-7075-4ce4-90f0-368fa8d6bd1d",
   "metadata": {},
   "source": [
    "### Compare strength of schedule by Conference"
   ]
  },
  {
   "cell_type": "code",
   "execution_count": 165,
   "id": "30603c1c-0aab-44a7-b602-7f2a85f53b08",
   "metadata": {},
   "outputs": [],
   "source": [
    "conference_sos = df.groupby(\"Conf Tier\")[\"SOS\"].mean().sort_values(ascending=False)"
   ]
  },
  {
   "cell_type": "code",
   "execution_count": 166,
   "id": "c0cc3768-c66b-4b16-a587-27ee316ca326",
   "metadata": {},
   "outputs": [
    {
     "data": {
      "text/plain": [
       "Conf Tier\n",
       "Big 10      8.756526\n",
       "Big 12      8.405714\n",
       "ACC         8.348727\n",
       "SEC         7.831304\n",
       "Big East    7.778226\n",
       "Pac 12      7.383140\n",
       "Other       1.962416\n",
       "Name: SOS, dtype: float64"
      ]
     },
     "execution_count": 166,
     "metadata": {},
     "output_type": "execute_result"
    }
   ],
   "source": [
    "conference_sos"
   ]
  },
  {
   "cell_type": "markdown",
   "id": "5ae82a36-2b64-4787-a038-6fbeba6d49cb",
   "metadata": {},
   "source": [
    "### Compare total NBA win shares by Conference"
   ]
  },
  {
   "cell_type": "code",
   "execution_count": 162,
   "id": "ef3955c8-e26a-475f-84d9-e525caf79e2c",
   "metadata": {},
   "outputs": [],
   "source": [
    "conference_ws = df.groupby(\"Conf\")['WS'].sum().sort_values(ascending=False)"
   ]
  },
  {
   "cell_type": "code",
   "execution_count": 163,
   "id": "4dd55c19-59aa-4a1d-a854-b876217cd9b8",
   "metadata": {},
   "outputs": [],
   "source": [
    "conference_ws_top10 = conference_ws[0:10]"
   ]
  },
  {
   "cell_type": "code",
   "execution_count": 164,
   "id": "e6bc95cb-58ee-43ee-9011-bf627bd62d3a",
   "metadata": {},
   "outputs": [
    {
     "data": {
      "text/plain": [
       "Text(0.5, 1.0, 'Total WS per Conference since 2006')"
      ]
     },
     "execution_count": 164,
     "metadata": {},
     "output_type": "execute_result"
    },
    {
     "data": {
      "image/png": "[encoded data removed]",
      "text/plain": [
       "<Figure size 1080x576 with 1 Axes>"
      ]
     },
     "metadata": {
      "needs_background": "light"
     },
     "output_type": "display_data"
    }
   ],
   "source": [
    "import seaborn as sns\n",
    "import matplotlib.pyplot as plt\n",
    "plt.figure(figsize=(15,8))\n",
    "sns.barplot(x=conference_ws_top10.index, y=conference_ws_top10.values)\n",
    "plt.xticks(rotation=90)\n",
    "plt.title(\"Total WS per Conference since 2006\")\n",
    "#plt.savefig('conf_ws.jpg')"
   ]
  },
  {
   "cell_type": "code",
   "execution_count": 12,
   "id": "cf2586d2-1b33-478b-967c-0d05347cfae4",
   "metadata": {},
   "outputs": [
    {
     "data": {
      "text/plain": [
       "Conf\n",
       "Pac 12      1926.9\n",
       "ACC         1835.0\n",
       "SEC         1832.0\n",
       "Big 12      1162.0\n",
       "Big East    1005.2\n",
       "Big 10       744.2\n",
       "MW           332.1\n",
       "AAC          203.3\n",
       "WCC          163.0\n",
       "A10          157.4\n",
       "Name: WS, dtype: float64"
      ]
     },
     "execution_count": 12,
     "metadata": {},
     "output_type": "execute_result"
    }
   ],
   "source": [
    "conference_ws_top10"
   ]
  },
  {
   "cell_type": "markdown",
   "id": "c62a6aca-0122-43cb-9385-f3a2e5ed55e3",
   "metadata": {},
   "source": [
    "### Compare total NBA win shares by College"
   ]
  },
  {
   "cell_type": "code",
   "execution_count": 13,
   "id": "684fdf73-9ed3-443b-9620-e8ce0847ddcd",
   "metadata": {},
   "outputs": [],
   "source": [
    "colleges_ws = df.groupby(\"College\")['WS'].sum().sort_values(ascending=False)"
   ]
  },
  {
   "cell_type": "code",
   "execution_count": 14,
   "id": "f8717ac4-481a-490a-9305-98d1443073e4",
   "metadata": {},
   "outputs": [],
   "source": [
    "colleges_ws_top10 = colleges_ws[0:10]"
   ]
  },
  {
   "cell_type": "code",
   "execution_count": 15,
   "id": "a19d1d65-534d-4a14-959a-4fb0ebdac47f",
   "metadata": {},
   "outputs": [
    {
     "data": {
      "text/plain": [
       "Text(0.5, 1.0, 'Total WS per College since 2006 (Top 10)')"
      ]
     },
     "execution_count": 15,
     "metadata": {},
     "output_type": "execute_result"
    },
    {
     "data": {
      "image/png": "[encoded data removed]",
      "text/plain": [
       "<Figure size 1080x576 with 1 Axes>"
      ]
     },
     "metadata": {
      "needs_background": "light"
     },
     "output_type": "display_data"
    }
   ],
   "source": [
    "plt.figure(figsize=(15,8))\n",
    "sns.barplot(x=colleges_ws_top10.index, y=colleges_ws_top10.values,\n",
    "           palette = ['blue', 'orange', 'royalblue', 'blue', 'skyblue', 'darkorange', 'red', 'blue', 'navy', 'silver'])\n",
    "plt.xticks(rotation=90)\n",
    "plt.title(\"Total WS per College since 2006 (Top 10)\")"
   ]
  },
  {
   "cell_type": "markdown",
   "id": "a216fbcb-b7f5-43f6-963e-24b972eb62d5",
   "metadata": {},
   "source": [
    "### Total Win shares drafted by each team (since 2006)"
   ]
  },
  {
   "cell_type": "code",
   "execution_count": 19,
   "id": "4d9d2544-a875-43cf-9913-20812b29393b",
   "metadata": {},
   "outputs": [
    {
     "data": {
      "text/plain": [
       "Tm\n",
       "CHI    549.3\n",
       "PHI    540.6\n",
       "MIN    451.9\n",
       "MEM    397.0\n",
       "CLE    396.7\n",
       "UTA    391.5\n",
       "DET    387.7\n",
       "TOR    371.9\n",
       "GSW    357.4\n",
       "OKC    355.3\n",
       "SAC    351.8\n",
       "POR    349.5\n",
       "IND    335.8\n",
       "BOS    335.5\n",
       "CHA    326.9\n",
       "ATL    323.9\n",
       "SEA    322.7\n",
       "LAC    307.8\n",
       "HOU    307.4\n",
       "ORL    293.2\n",
       "WAS    265.7\n",
       "PHO    263.6\n",
       "SAS    222.3\n",
       "NOH    220.6\n",
       "LAL    216.8\n",
       "MIL    216.2\n",
       "NJN    209.0\n",
       "DEN    183.9\n",
       "MIA    165.9\n",
       "BRK    159.2\n",
       "DAL    148.7\n",
       "NYK    124.2\n",
       "CHO     76.7\n",
       "CHH     59.0\n",
       "NOP     52.6\n",
       "NOK      7.9\n",
       "Name: WS, dtype: float64"
      ]
     },
     "execution_count": 19,
     "metadata": {},
     "output_type": "execute_result"
    }
   ],
   "source": [
    "df.groupby(\"Tm\")['WS'].sum().sort_values(ascending=False)"
   ]
  },
  {
   "cell_type": "markdown",
   "id": "e459346a-8e1c-4549-8af4-8a0bf154a475",
   "metadata": {},
   "source": [
    "### Number of players drafted from each Conference"
   ]
  },
  {
   "cell_type": "code",
   "execution_count": 20,
   "id": "7af52fac-db69-4128-959c-210d326f52f1",
   "metadata": {},
   "outputs": [
    {
     "data": {
      "text/plain": [
       "ACC            165\n",
       "SEC            138\n",
       "Pac 12         121\n",
       "Big 10          95\n",
       "Big 12          91\n",
       "Big East        62\n",
       "MW              31\n",
       "AAC             29\n",
       "WCC             18\n",
       "A10             14\n",
       "CUSA            10\n",
       "Horizon          7\n",
       "CAA              7\n",
       "Ohio Valley      6\n",
       "Big Sky          4\n",
       "MVC              4\n",
       "Patriot          3\n",
       "Sun Belt         3\n",
       "MAC              3\n",
       "WAC              2\n",
       "MAAC             2\n",
       "Big West         2\n",
       "MEAC             1\n",
       "Summit           1\n",
       "D2               1\n",
       "Ivy              1\n",
       "Name: Conf, dtype: int64"
      ]
     },
     "execution_count": 20,
     "metadata": {},
     "output_type": "execute_result"
    }
   ],
   "source": [
    "conf_counts = df['Conf'].value_counts()\n",
    "conf_counts"
   ]
  },
  {
   "cell_type": "code",
   "execution_count": 21,
   "id": "d1da67bf-e7ee-4d5a-bb9a-55d55a70b5f9",
   "metadata": {},
   "outputs": [],
   "source": [
    "values = [165, 138, 121, 95, 91, 62, 31, 29, 18, 14, 10+7+7+6+4+4+3+3+3+2+2+2+1+1+1+1]\n",
    "mylabels = ['ACC', 'SEC', 'Pac 12', 'Big 10', 'Big 12', 'Big East', 'MW', 'AAC', 'WCC', 'A10', 'Others']"
   ]
  },
  {
   "cell_type": "code",
   "execution_count": 22,
   "id": "01219004-27a8-44da-ac71-9873ff65fab0",
   "metadata": {},
   "outputs": [
    {
     "data": {
      "text/plain": [
       "Text(0.5, 1.0, 'Proportions of Players drafted from each Conference since 2006')"
      ]
     },
     "execution_count": 22,
     "metadata": {},
     "output_type": "execute_result"
    },
    {
     "data": {
      "image/png": "[encoded data removed]",
      "text/plain": [
       "<Figure size 576x576 with 1 Axes>"
      ]
     },
     "metadata": {},
     "output_type": "display_data"
    }
   ],
   "source": [
    "plt.figure(figsize=(8,8))\n",
    "plt.pie(values, labels = mylabels, \n",
    "        colors=['blue', 'red', 'purple', 'green', 'orange', 'gold', 'navy', 'pink', 'silver', 'brown', 'royalblue'])\n",
    "plt.title(\"Proportions of Players drafted from each Conference since 2006\")\n",
    "#plt.savefig('conf_pie.jpg')"
   ]
  },
  {
   "cell_type": "code",
   "execution_count": 25,
   "id": "d8430d0d-c8ab-4c10-a77d-9ae41d7c0be2",
   "metadata": {},
   "outputs": [
    {
     "data": {
      "text/plain": [
       "array(['Big 12', 'Other', 'SEC', 'ACC', 'Pac 12', 'Big East', 'Big 10'],\n",
       "      dtype=object)"
      ]
     },
     "execution_count": 25,
     "metadata": {},
     "output_type": "execute_result"
    }
   ],
   "source": [
    "df['Conf Tier'].unique()"
   ]
  },
  {
   "cell_type": "code",
   "execution_count": 24,
   "id": "6dc4dcac-16a4-487b-92db-5d17fbc4bc67",
   "metadata": {},
   "outputs": [
    {
     "data": {
      "image/png": "[encoded data removed]",
      "text/plain": [
       "<Figure size 1080x216 with 5 Axes>"
      ]
     },
     "metadata": {
      "needs_background": "light"
     },
     "output_type": "display_data"
    }
   ],
   "source": [
    "f, (ax1, ax2, ax3, ax4, ax5) = plt.subplots(1,5, sharey=True, figsize=(15,3))\n",
    "ax1.scatter(df['PTS_x'], df['Pk'])\n",
    "ax1.set_title('Points and Pick number')\n",
    "ax2.scatter(df['AST_x'], df['Pk'])\n",
    "ax2.set_title('Assists and Pick number')\n",
    "ax3.scatter(df['TRB_x'], df['Pk'])\n",
    "ax3.set_title('Rebounds and Pick number')\n",
    "ax4.scatter(df['STL'], df['Pk'])\n",
    "ax4.set_title('Steals and Pick number')\n",
    "ax5.scatter(df['FG%_x'], df['Pk'])\n",
    "ax5.set_title('FG% and Pick number')\n",
    "\n",
    "plt.show()"
   ]
  },
  {
   "cell_type": "markdown",
   "id": "08122f9d-3b7a-4768-8e88-52041f17d04f",
   "metadata": {},
   "source": [
    "# Linear Regression"
   ]
  },
  {
   "cell_type": "markdown",
   "id": "27d7f439-674a-4200-8d54-33fc132e2b5d",
   "metadata": {},
   "source": [
    "### Use stats plus conference tier to predict draft pick"
   ]
  },
  {
   "cell_type": "code",
   "execution_count": 125,
   "id": "5dc39bca-f4bf-4c97-9424-c520fb5bd681",
   "metadata": {},
   "outputs": [],
   "source": [
    "cols_linear = ['Pk', 'MP_x', 'FG%_x', '2P%', '3P%_x', 'FT%_x', 'TRB_x', 'AST_x', 'STL', 'BLK', 'TOV', 'PTS_x', 'Conf Tier', 'WS']"
   ]
  },
  {
   "cell_type": "code",
   "execution_count": 126,
   "id": "db8e7f54-4f39-4d3a-8725-d8d6f6a71118",
   "metadata": {},
   "outputs": [],
   "source": [
    "df_linear = df[cols_linear]"
   ]
  },
  {
   "cell_type": "code",
   "execution_count": 127,
   "id": "b39d520e-74df-45c4-b63e-b942df929955",
   "metadata": {},
   "outputs": [],
   "source": [
    "df_linear = df_linear.fillna(0)"
   ]
  },
  {
   "cell_type": "code",
   "execution_count": 128,
   "id": "c4cc4307-b58f-4bac-acf0-2041fc60b726",
   "metadata": {},
   "outputs": [],
   "source": [
    "df_dummies = pd.get_dummies(df_linear, columns=['Conf Tier'])"
   ]
  },
  {
   "cell_type": "code",
   "execution_count": 129,
   "id": "b39426a9-885b-4792-93f5-9b7ac6e031d2",
   "metadata": {},
   "outputs": [
    {
     "data": {
      "text/html": [
       "<div>\n",
       "<style scoped>\n",
       "    .dataframe tbody tr th:only-of-type {\n",
       "        vertical-align: middle;\n",
       "    }\n",
       "\n",
       "    .dataframe tbody tr th {\n",
       "        vertical-align: top;\n",
       "    }\n",
       "\n",
       "    .dataframe thead th {\n",
       "        text-align: right;\n",
       "    }\n",
       "</style>\n",
       "<table border=\"1\" class=\"dataframe\">\n",
       "  <thead>\n",
       "    <tr style=\"text-align: right;\">\n",
       "      <th></th>\n",
       "      <th>Pk</th>\n",
       "      <th>MP_x</th>\n",
       "      <th>FG%_x</th>\n",
       "      <th>2P%</th>\n",
       "      <th>3P%_x</th>\n",
       "      <th>FT%_x</th>\n",
       "      <th>TRB_x</th>\n",
       "      <th>AST_x</th>\n",
       "      <th>STL</th>\n",
       "      <th>BLK</th>\n",
       "      <th>TOV</th>\n",
       "      <th>PTS_x</th>\n",
       "      <th>WS</th>\n",
       "      <th>Conf Tier_ACC</th>\n",
       "      <th>Conf Tier_Big 10</th>\n",
       "      <th>Conf Tier_Big 12</th>\n",
       "      <th>Conf Tier_Big East</th>\n",
       "      <th>Conf Tier_Other</th>\n",
       "      <th>Conf Tier_Pac 12</th>\n",
       "      <th>Conf Tier_SEC</th>\n",
       "    </tr>\n",
       "  </thead>\n",
       "  <tbody>\n",
       "    <tr>\n",
       "      <th>0</th>\n",
       "      <td>2</td>\n",
       "      <td>30.2</td>\n",
       "      <td>0.586</td>\n",
       "      <td>0.586</td>\n",
       "      <td>0.000</td>\n",
       "      <td>0.649</td>\n",
       "      <td>8.2</td>\n",
       "      <td>0.6</td>\n",
       "      <td>1.3</td>\n",
       "      <td>1.8</td>\n",
       "      <td>1.6</td>\n",
       "      <td>13.5</td>\n",
       "      <td>115.7</td>\n",
       "      <td>0</td>\n",
       "      <td>0</td>\n",
       "      <td>1</td>\n",
       "      <td>0</td>\n",
       "      <td>0</td>\n",
       "      <td>0</td>\n",
       "      <td>0</td>\n",
       "    </tr>\n",
       "    <tr>\n",
       "      <th>1</th>\n",
       "      <td>3</td>\n",
       "      <td>30.6</td>\n",
       "      <td>0.503</td>\n",
       "      <td>0.551</td>\n",
       "      <td>0.368</td>\n",
       "      <td>0.761</td>\n",
       "      <td>5.1</td>\n",
       "      <td>2.0</td>\n",
       "      <td>0.7</td>\n",
       "      <td>0.4</td>\n",
       "      <td>1.7</td>\n",
       "      <td>19.7</td>\n",
       "      <td>-1.4</td>\n",
       "      <td>0</td>\n",
       "      <td>0</td>\n",
       "      <td>0</td>\n",
       "      <td>0</td>\n",
       "      <td>1</td>\n",
       "      <td>0</td>\n",
       "      <td>0</td>\n",
       "    </tr>\n",
       "    <tr>\n",
       "      <th>2</th>\n",
       "      <td>4</td>\n",
       "      <td>25.9</td>\n",
       "      <td>0.608</td>\n",
       "      <td>0.606</td>\n",
       "      <td>1.000</td>\n",
       "      <td>0.657</td>\n",
       "      <td>9.2</td>\n",
       "      <td>1.3</td>\n",
       "      <td>1.0</td>\n",
       "      <td>3.1</td>\n",
       "      <td>1.8</td>\n",
       "      <td>12.3</td>\n",
       "      <td>13.0</td>\n",
       "      <td>0</td>\n",
       "      <td>0</td>\n",
       "      <td>0</td>\n",
       "      <td>0</td>\n",
       "      <td>0</td>\n",
       "      <td>0</td>\n",
       "      <td>1</td>\n",
       "    </tr>\n",
       "    <tr>\n",
       "      <th>3</th>\n",
       "      <td>5</td>\n",
       "      <td>28.1</td>\n",
       "      <td>0.572</td>\n",
       "      <td>0.574</td>\n",
       "      <td>0.333</td>\n",
       "      <td>0.694</td>\n",
       "      <td>9.1</td>\n",
       "      <td>0.9</td>\n",
       "      <td>1.2</td>\n",
       "      <td>3.0</td>\n",
       "      <td>2.3</td>\n",
       "      <td>13.9</td>\n",
       "      <td>9.9</td>\n",
       "      <td>1</td>\n",
       "      <td>0</td>\n",
       "      <td>0</td>\n",
       "      <td>0</td>\n",
       "      <td>0</td>\n",
       "      <td>0</td>\n",
       "      <td>0</td>\n",
       "    </tr>\n",
       "    <tr>\n",
       "      <th>4</th>\n",
       "      <td>6</td>\n",
       "      <td>27.5</td>\n",
       "      <td>0.512</td>\n",
       "      <td>0.541</td>\n",
       "      <td>0.344</td>\n",
       "      <td>0.765</td>\n",
       "      <td>5.0</td>\n",
       "      <td>3.0</td>\n",
       "      <td>1.0</td>\n",
       "      <td>0.5</td>\n",
       "      <td>2.1</td>\n",
       "      <td>14.3</td>\n",
       "      <td>37.4</td>\n",
       "      <td>0</td>\n",
       "      <td>0</td>\n",
       "      <td>0</td>\n",
       "      <td>0</td>\n",
       "      <td>0</td>\n",
       "      <td>1</td>\n",
       "      <td>0</td>\n",
       "    </tr>\n",
       "    <tr>\n",
       "      <th>...</th>\n",
       "      <td>...</td>\n",
       "      <td>...</td>\n",
       "      <td>...</td>\n",
       "      <td>...</td>\n",
       "      <td>...</td>\n",
       "      <td>...</td>\n",
       "      <td>...</td>\n",
       "      <td>...</td>\n",
       "      <td>...</td>\n",
       "      <td>...</td>\n",
       "      <td>...</td>\n",
       "      <td>...</td>\n",
       "      <td>...</td>\n",
       "      <td>...</td>\n",
       "      <td>...</td>\n",
       "      <td>...</td>\n",
       "      <td>...</td>\n",
       "      <td>...</td>\n",
       "      <td>...</td>\n",
       "      <td>...</td>\n",
       "    </tr>\n",
       "    <tr>\n",
       "      <th>816</th>\n",
       "      <td>48</td>\n",
       "      <td>27.0</td>\n",
       "      <td>0.584</td>\n",
       "      <td>0.638</td>\n",
       "      <td>0.341</td>\n",
       "      <td>0.689</td>\n",
       "      <td>4.9</td>\n",
       "      <td>1.9</td>\n",
       "      <td>1.0</td>\n",
       "      <td>0.4</td>\n",
       "      <td>1.7</td>\n",
       "      <td>9.7</td>\n",
       "      <td>0.1</td>\n",
       "      <td>0</td>\n",
       "      <td>0</td>\n",
       "      <td>1</td>\n",
       "      <td>0</td>\n",
       "      <td>0</td>\n",
       "      <td>0</td>\n",
       "      <td>0</td>\n",
       "    </tr>\n",
       "    <tr>\n",
       "      <th>817</th>\n",
       "      <td>49</td>\n",
       "      <td>27.5</td>\n",
       "      <td>0.460</td>\n",
       "      <td>0.492</td>\n",
       "      <td>0.360</td>\n",
       "      <td>0.596</td>\n",
       "      <td>7.0</td>\n",
       "      <td>2.0</td>\n",
       "      <td>0.6</td>\n",
       "      <td>0.8</td>\n",
       "      <td>1.5</td>\n",
       "      <td>10.1</td>\n",
       "      <td>0.1</td>\n",
       "      <td>0</td>\n",
       "      <td>0</td>\n",
       "      <td>0</td>\n",
       "      <td>0</td>\n",
       "      <td>0</td>\n",
       "      <td>1</td>\n",
       "      <td>0</td>\n",
       "    </tr>\n",
       "    <tr>\n",
       "      <th>818</th>\n",
       "      <td>51</td>\n",
       "      <td>30.8</td>\n",
       "      <td>0.435</td>\n",
       "      <td>0.486</td>\n",
       "      <td>0.346</td>\n",
       "      <td>0.670</td>\n",
       "      <td>6.7</td>\n",
       "      <td>1.3</td>\n",
       "      <td>0.9</td>\n",
       "      <td>0.4</td>\n",
       "      <td>1.7</td>\n",
       "      <td>11.1</td>\n",
       "      <td>0.0</td>\n",
       "      <td>0</td>\n",
       "      <td>0</td>\n",
       "      <td>0</td>\n",
       "      <td>1</td>\n",
       "      <td>0</td>\n",
       "      <td>0</td>\n",
       "      <td>0</td>\n",
       "    </tr>\n",
       "    <tr>\n",
       "      <th>819</th>\n",
       "      <td>53</td>\n",
       "      <td>25.8</td>\n",
       "      <td>0.463</td>\n",
       "      <td>0.565</td>\n",
       "      <td>0.301</td>\n",
       "      <td>0.728</td>\n",
       "      <td>4.8</td>\n",
       "      <td>4.3</td>\n",
       "      <td>1.0</td>\n",
       "      <td>0.4</td>\n",
       "      <td>2.9</td>\n",
       "      <td>8.5</td>\n",
       "      <td>-0.1</td>\n",
       "      <td>0</td>\n",
       "      <td>0</td>\n",
       "      <td>0</td>\n",
       "      <td>0</td>\n",
       "      <td>0</td>\n",
       "      <td>0</td>\n",
       "      <td>1</td>\n",
       "    </tr>\n",
       "    <tr>\n",
       "      <th>820</th>\n",
       "      <td>57</td>\n",
       "      <td>22.0</td>\n",
       "      <td>0.479</td>\n",
       "      <td>0.515</td>\n",
       "      <td>0.399</td>\n",
       "      <td>0.783</td>\n",
       "      <td>7.2</td>\n",
       "      <td>0.9</td>\n",
       "      <td>0.6</td>\n",
       "      <td>0.6</td>\n",
       "      <td>1.8</td>\n",
       "      <td>11.5</td>\n",
       "      <td>0.2</td>\n",
       "      <td>0</td>\n",
       "      <td>0</td>\n",
       "      <td>0</td>\n",
       "      <td>0</td>\n",
       "      <td>0</td>\n",
       "      <td>1</td>\n",
       "      <td>0</td>\n",
       "    </tr>\n",
       "  </tbody>\n",
       "</table>\n",
       "<p>821 rows × 20 columns</p>\n",
       "</div>"
      ],
      "text/plain": [
       "     Pk  MP_x  FG%_x    2P%  3P%_x  FT%_x  TRB_x  AST_x  STL  BLK  TOV  PTS_x  \\\n",
       "0     2  30.2  0.586  0.586  0.000  0.649    8.2    0.6  1.3  1.8  1.6   13.5   \n",
       "1     3  30.6  0.503  0.551  0.368  0.761    5.1    2.0  0.7  0.4  1.7   19.7   \n",
       "2     4  25.9  0.608  0.606  1.000  0.657    9.2    1.3  1.0  3.1  1.8   12.3   \n",
       "3     5  28.1  0.572  0.574  0.333  0.694    9.1    0.9  1.2  3.0  2.3   13.9   \n",
       "4     6  27.5  0.512  0.541  0.344  0.765    5.0    3.0  1.0  0.5  2.1   14.3   \n",
       "..   ..   ...    ...    ...    ...    ...    ...    ...  ...  ...  ...    ...   \n",
       "816  48  27.0  0.584  0.638  0.341  0.689    4.9    1.9  1.0  0.4  1.7    9.7   \n",
       "817  49  27.5  0.460  0.492  0.360  0.596    7.0    2.0  0.6  0.8  1.5   10.1   \n",
       "818  51  30.8  0.435  0.486  0.346  0.670    6.7    1.3  0.9  0.4  1.7   11.1   \n",
       "819  53  25.8  0.463  0.565  0.301  0.728    4.8    4.3  1.0  0.4  2.9    8.5   \n",
       "820  57  22.0  0.479  0.515  0.399  0.783    7.2    0.9  0.6  0.6  1.8   11.5   \n",
       "\n",
       "        WS  Conf Tier_ACC  Conf Tier_Big 10  Conf Tier_Big 12  \\\n",
       "0    115.7              0                 0                 1   \n",
       "1     -1.4              0                 0                 0   \n",
       "2     13.0              0                 0                 0   \n",
       "3      9.9              1                 0                 0   \n",
       "4     37.4              0                 0                 0   \n",
       "..     ...            ...               ...               ...   \n",
       "816    0.1              0                 0                 1   \n",
       "817    0.1              0                 0                 0   \n",
       "818    0.0              0                 0                 0   \n",
       "819   -0.1              0                 0                 0   \n",
       "820    0.2              0                 0                 0   \n",
       "\n",
       "     Conf Tier_Big East  Conf Tier_Other  Conf Tier_Pac 12  Conf Tier_SEC  \n",
       "0                     0                0                 0              0  \n",
       "1                     0                1                 0              0  \n",
       "2                     0                0                 0              1  \n",
       "3                     0                0                 0              0  \n",
       "4                     0                0                 1              0  \n",
       "..                  ...              ...               ...            ...  \n",
       "816                   0                0                 0              0  \n",
       "817                   0                0                 1              0  \n",
       "818                   1                0                 0              0  \n",
       "819                   0                0                 0              1  \n",
       "820                   0                0                 1              0  \n",
       "\n",
       "[821 rows x 20 columns]"
      ]
     },
     "execution_count": 129,
     "metadata": {},
     "output_type": "execute_result"
    }
   ],
   "source": [
    "df_dummies"
   ]
  },
  {
   "cell_type": "code",
   "execution_count": 130,
   "id": "91f51cff-8ab5-46b4-bc95-d5e423cd2851",
   "metadata": {},
   "outputs": [],
   "source": [
    "targets = df_dummies['Pk']\n",
    "inputs = df_dummies.drop(['Pk', 'WS'],axis=1)"
   ]
  },
  {
   "cell_type": "code",
   "execution_count": 131,
   "id": "0cc3f044-8c25-4253-9210-e53f0ce9c0f6",
   "metadata": {},
   "outputs": [],
   "source": [
    "from sklearn.model_selection import train_test_split\n",
    "\n",
    "x_train, x_test, y_train, y_test = train_test_split(inputs, targets, test_size=0.25, random_state=100)"
   ]
  },
  {
   "cell_type": "code",
   "execution_count": 132,
   "id": "1928a2a3-445f-4ff9-b2c5-2a90bc88feb6",
   "metadata": {},
   "outputs": [],
   "source": [
    "from sklearn.linear_model import LinearRegression"
   ]
  },
  {
   "cell_type": "code",
   "execution_count": 133,
   "id": "0a8885f0-d510-495e-a444-4eb061326505",
   "metadata": {},
   "outputs": [
    {
     "data": {
      "text/plain": [
       "LinearRegression()"
      ]
     },
     "execution_count": 133,
     "metadata": {},
     "output_type": "execute_result"
    }
   ],
   "source": [
    "reg = LinearRegression()\n",
    "reg.fit(x_train, y_train)"
   ]
  },
  {
   "cell_type": "code",
   "execution_count": 134,
   "id": "0fc3e61b-ba25-4f1d-a3a6-c6ca835168da",
   "metadata": {},
   "outputs": [],
   "source": [
    "y_hat = reg.predict(x_train)"
   ]
  },
  {
   "cell_type": "code",
   "execution_count": 135,
   "id": "dad8a3e4-1d9a-4953-813b-9eb6d9ba10d8",
   "metadata": {},
   "outputs": [
    {
     "data": {
      "text/plain": [
       "<matplotlib.collections.PathCollection at 0x7f82c813e0a0>"
      ]
     },
     "execution_count": 135,
     "metadata": {},
     "output_type": "execute_result"
    },
    {
     "data": {
      "image/png": "[encoded data removed]",
      "text/plain": [
       "<Figure size 432x288 with 1 Axes>"
      ]
     },
     "metadata": {
      "needs_background": "light"
     },
     "output_type": "display_data"
    }
   ],
   "source": [
    "plt.scatter(y_train, y_hat)"
   ]
  },
  {
   "cell_type": "code",
   "execution_count": 136,
   "id": "3e1149ca-a382-4ca9-aa6a-2910a9eaae4b",
   "metadata": {},
   "outputs": [
    {
     "name": "stderr",
     "output_type": "stream",
     "text": [
      "/Users/matthewsasaki/opt/anaconda3/lib/python3.9/site-packages/seaborn/distributions.py:2619: FutureWarning: `distplot` is a deprecated function and will be removed in a future version. Please adapt your code to use either `displot` (a figure-level function with similar flexibility) or `histplot` (an axes-level function for histograms).\n",
      "  warnings.warn(msg, FutureWarning)\n"
     ]
    },
    {
     "data": {
      "text/plain": [
       "Text(0.5, 1.0, 'Residuals PDF')"
      ]
     },
     "execution_count": 136,
     "metadata": {},
     "output_type": "execute_result"
    },
    {
     "data": {
      "image/png": "[encoded data removed]",
      "text/plain": [
       "<Figure size 432x288 with 1 Axes>"
      ]
     },
     "metadata": {
      "needs_background": "light"
     },
     "output_type": "display_data"
    }
   ],
   "source": [
    "sns.distplot(y_train - y_hat)\n",
    "plt.title('Residuals PDF', size=18)"
   ]
  },
  {
   "cell_type": "code",
   "execution_count": 137,
   "id": "40901f9d-99bf-451f-b033-0009cca50dd4",
   "metadata": {},
   "outputs": [
    {
     "data": {
      "text/plain": [
       "0.21806613625164895"
      ]
     },
     "execution_count": 137,
     "metadata": {},
     "output_type": "execute_result"
    }
   ],
   "source": [
    "reg.score(x_train, y_train)"
   ]
  },
  {
   "cell_type": "code",
   "execution_count": 138,
   "id": "9d816394-4f5e-4913-b9e0-7797600b1fac",
   "metadata": {},
   "outputs": [
    {
     "data": {
      "text/plain": [
       "array([  0.53528552,  44.9060962 , -98.79648167,  -2.14039492,\n",
       "        -7.79217978,  -0.29716848,  -0.9721372 ,  -4.26790467,\n",
       "        -4.80716677,  -1.12686114,  -1.70070566,  -2.94307209,\n",
       "         0.77971099,  -3.0501312 ,  -0.31192422,   8.44778263,\n",
       "        -0.90781548,  -2.01455063])"
      ]
     },
     "execution_count": 138,
     "metadata": {},
     "output_type": "execute_result"
    }
   ],
   "source": [
    "reg.coef_"
   ]
  },
  {
   "cell_type": "code",
   "execution_count": 139,
   "id": "4814c9fb-1d5d-42e0-92bc-353b55011ca2",
   "metadata": {},
   "outputs": [
    {
     "data": {
      "text/plain": [
       "array(['MP_x', 'FG%_x', '2P%', '3P%_x', 'FT%_x', 'TRB_x', 'AST_x', 'STL',\n",
       "       'BLK', 'TOV', 'PTS_x', 'Conf Tier_ACC', 'Conf Tier_Big 10',\n",
       "       'Conf Tier_Big 12', 'Conf Tier_Big East', 'Conf Tier_Other',\n",
       "       'Conf Tier_Pac 12', 'Conf Tier_SEC'], dtype=object)"
      ]
     },
     "execution_count": 139,
     "metadata": {},
     "output_type": "execute_result"
    }
   ],
   "source": [
    "inputs.columns.values"
   ]
  },
  {
   "cell_type": "code",
   "execution_count": 119,
   "id": "4b8a9183-87a8-40fc-9934-d8a120e01474",
   "metadata": {},
   "outputs": [
    {
     "data": {
      "text/plain": [
       "86.44319806046568"
      ]
     },
     "execution_count": 119,
     "metadata": {},
     "output_type": "execute_result"
    }
   ],
   "source": [
    "reg.intercept_"
   ]
  },
  {
   "cell_type": "markdown",
   "id": "5bca6baf-cdd6-4e91-ac3e-b2c6e0580fc8",
   "metadata": {},
   "source": [
    "do same but with win shares as dependent variable (see if this bias is justified)"
   ]
  },
  {
   "cell_type": "code",
   "execution_count": 150,
   "id": "22a05dcd-8c71-4a22-9dca-762439c27ebb",
   "metadata": {},
   "outputs": [],
   "source": [
    "targets = df_dummies['WS']\n",
    "inputs = df_dummies.drop(['Pk', 'WS'],axis=1)"
   ]
  },
  {
   "cell_type": "code",
   "execution_count": 151,
   "id": "7df6fa46-65e7-4bd6-9a15-17ad00fe1b30",
   "metadata": {},
   "outputs": [],
   "source": [
    "x_train, x_test, y_train, y_test = train_test_split(inputs, targets, test_size=0.25, random_state=100)"
   ]
  },
  {
   "cell_type": "code",
   "execution_count": 152,
   "id": "27fc670f-9206-43fe-ba1d-be9c2d9b6013",
   "metadata": {},
   "outputs": [
    {
     "data": {
      "text/plain": [
       "LinearRegression()"
      ]
     },
     "execution_count": 152,
     "metadata": {},
     "output_type": "execute_result"
    }
   ],
   "source": [
    "reg2 = LinearRegression()\n",
    "reg2.fit(x_train, y_train)"
   ]
  },
  {
   "cell_type": "code",
   "execution_count": 153,
   "id": "1f76066b-1b6b-4b6f-b3fe-6d1779f0735b",
   "metadata": {},
   "outputs": [],
   "source": [
    "y_hat = reg2.predict(x_train)"
   ]
  },
  {
   "cell_type": "code",
   "execution_count": 154,
   "id": "e02c0204-3b81-4cd6-aeee-fd491b411251",
   "metadata": {},
   "outputs": [
    {
     "data": {
      "text/plain": [
       "<matplotlib.collections.PathCollection at 0x7f82d8034460>"
      ]
     },
     "execution_count": 154,
     "metadata": {},
     "output_type": "execute_result"
    },
    {
     "data": {
      "image/png": "[encoded data removed]",
      "text/plain": [
       "<Figure size 432x288 with 1 Axes>"
      ]
     },
     "metadata": {
      "needs_background": "light"
     },
     "output_type": "display_data"
    }
   ],
   "source": [
    "plt.scatter(y_train, y_hat)"
   ]
  },
  {
   "cell_type": "code",
   "execution_count": 155,
   "id": "16a43f6c-ff58-4bd4-b492-73cd5af46707",
   "metadata": {},
   "outputs": [
    {
     "name": "stderr",
     "output_type": "stream",
     "text": [
      "/Users/matthewsasaki/opt/anaconda3/lib/python3.9/site-packages/seaborn/distributions.py:2619: FutureWarning: `distplot` is a deprecated function and will be removed in a future version. Please adapt your code to use either `displot` (a figure-level function with similar flexibility) or `histplot` (an axes-level function for histograms).\n",
      "  warnings.warn(msg, FutureWarning)\n"
     ]
    },
    {
     "data": {
      "text/plain": [
       "Text(0.5, 1.0, 'Residuals PDF')"
      ]
     },
     "execution_count": 155,
     "metadata": {},
     "output_type": "execute_result"
    },
    {
     "data": {
      "image/png": "[encoded data removed]",
      "text/plain": [
       "<Figure size 432x288 with 1 Axes>"
      ]
     },
     "metadata": {
      "needs_background": "light"
     },
     "output_type": "display_data"
    }
   ],
   "source": [
    "sns.distplot(y_train - y_hat)\n",
    "plt.title('Residuals PDF', size=18)"
   ]
  },
  {
   "cell_type": "code",
   "execution_count": 156,
   "id": "7f3a149e-fb96-4441-aa4a-d1e054d08f80",
   "metadata": {},
   "outputs": [
    {
     "data": {
      "text/plain": [
       "0.12325936222267131"
      ]
     },
     "execution_count": 156,
     "metadata": {},
     "output_type": "execute_result"
    }
   ],
   "source": [
    "reg2.score(x_train, y_train)"
   ]
  },
  {
   "cell_type": "code",
   "execution_count": 157,
   "id": "a8351fe2-15c8-4c21-9887-659958b6aba0",
   "metadata": {},
   "outputs": [
    {
     "data": {
      "text/plain": [
       "array([-1.46990236e-02,  8.88283628e+01, -3.39920901e+01, -6.25060693e+00,\n",
       "        6.43226606e+00,  5.37500919e-01,  6.78774878e-01,  1.02428684e+01,\n",
       "        1.25939921e+00, -3.12533333e+00,  9.00512960e-01, -1.07054985e+00,\n",
       "       -3.26235996e+00, -3.95247109e-01,  4.45402298e+00, -3.93147225e+00,\n",
       "        2.00449146e+00,  2.20111474e+00])"
      ]
     },
     "execution_count": 157,
     "metadata": {},
     "output_type": "execute_result"
    }
   ],
   "source": [
    "reg2.coef_"
   ]
  },
  {
   "cell_type": "code",
   "execution_count": 158,
   "id": "7409fb43-a910-44a5-8b95-392aa620d76d",
   "metadata": {},
   "outputs": [
    {
     "data": {
      "text/plain": [
       "array(['MP_x', 'FG%_x', '2P%', '3P%_x', 'FT%_x', 'TRB_x', 'AST_x', 'STL',\n",
       "       'BLK', 'TOV', 'PTS_x', 'Conf Tier_ACC', 'Conf Tier_Big 10',\n",
       "       'Conf Tier_Big 12', 'Conf Tier_Big East', 'Conf Tier_Other',\n",
       "       'Conf Tier_Pac 12', 'Conf Tier_SEC'], dtype=object)"
      ]
     },
     "execution_count": 158,
     "metadata": {},
     "output_type": "execute_result"
    }
   ],
   "source": [
    "inputs.columns.values"
   ]
  },
  {
   "cell_type": "code",
   "execution_count": null,
   "id": "e9fe80fa-3d7d-4083-b86b-0fcbd68a417d",
   "metadata": {},
   "outputs": [],
   "source": []
  }
 ],
 "metadata": {
  "kernelspec": {
   "display_name": "Python 3 (ipykernel)",
   "language": "python",
   "name": "python3"
  },
  "language_info": {
   "codemirror_mode": {
    "name": "ipython",
    "version": 3
   },
   "file_extension": ".py",
   "mimetype": "text/x-python",
   "name": "python",
   "nbconvert_exporter": "python",
   "pygments_lexer": "ipython3",
   "version": "3.9.12"
  }
 },
 "nbformat": 4,
 "nbformat_minor": 5
}
